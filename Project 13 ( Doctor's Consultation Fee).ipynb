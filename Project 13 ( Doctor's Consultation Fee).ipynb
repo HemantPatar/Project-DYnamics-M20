{
 "cells": [
  {
   "cell_type": "markdown",
   "metadata": {},
   "source": [
    "# Predict A Doctor's Consultation Fee "
   ]
  },
  {
   "cell_type": "markdown",
   "metadata": {},
   "source": [
    "FEATURES:\n",
    "\n",
    "Qualification: Qualification and degrees held by the doctor\n",
    "\n",
    "Experience: Experience of the doctor in number of years\n",
    "\n",
    "Rating: Rating given by patients\n",
    "\n",
    "Profile: Type of the doctor\n",
    "\n",
    "Miscellaeous_Info: Extra information about the doctor\n",
    "\n",
    "Fees: Fees charged by the doctor\n",
    "\n",
    "Place: Area and the city where the doctor is located.\n"
   ]
  },
  {
   "cell_type": "code",
   "execution_count": 64,
   "metadata": {},
   "outputs": [],
   "source": [
    "#import libraries\n",
    "import pandas as pd\n",
    "import numpy as np\n",
    "import seaborn as sns\n",
    "import matplotlib.pyplot as plt\n",
    "from sklearn.preprocessing import StandardScaler\n",
    "from sklearn.decomposition import PCA\n",
    "from sklearn.metrics import mean_absolute_error\n",
    "from sklearn.metrics import mean_squared_error\n",
    "from sklearn.metrics import r2_score\n",
    "from sklearn.model_selection import train_test_split\n",
    "from sklearn.model_selection import cross_val_score\n",
    "from sklearn.tree import DecisionTreeRegressor\n",
    "from sklearn.ensemble import RandomForestRegressor\n",
    "from sklearn.neighbors import KNeighborsRegressor\n",
    "from sklearn.svm import SVR\n",
    "from sklearn.model_selection import GridSearchCV"
   ]
  },
  {
   "cell_type": "code",
   "execution_count": 65,
   "metadata": {
    "scrolled": false
   },
   "outputs": [],
   "source": [
    "#loading dataset\n",
    "df_train=pd.read_excel(\"Final_Train.xlsx\")\n",
    "df_test=pd.read_excel(\"Final_Test.xlsx\")"
   ]
  },
  {
   "cell_type": "code",
   "execution_count": 66,
   "metadata": {},
   "outputs": [
    {
     "name": "stdout",
     "output_type": "stream",
     "text": [
      "<class 'pandas.core.frame.DataFrame'>\n",
      "RangeIndex: 5961 entries, 0 to 5960\n",
      "Data columns (total 7 columns):\n",
      " #   Column              Non-Null Count  Dtype \n",
      "---  ------              --------------  ----- \n",
      " 0   Qualification       5961 non-null   object\n",
      " 1   Experience          5961 non-null   object\n",
      " 2   Rating              2659 non-null   object\n",
      " 3   Place               5936 non-null   object\n",
      " 4   Profile             5961 non-null   object\n",
      " 5   Miscellaneous_Info  3341 non-null   object\n",
      " 6   Fees                5961 non-null   int64 \n",
      "dtypes: int64(1), object(6)\n",
      "memory usage: 326.1+ KB\n"
     ]
    }
   ],
   "source": [
    "df_train.info()"
   ]
  },
  {
   "cell_type": "code",
   "execution_count": 67,
   "metadata": {},
   "outputs": [
    {
     "name": "stdout",
     "output_type": "stream",
     "text": [
      "<class 'pandas.core.frame.DataFrame'>\n",
      "RangeIndex: 1987 entries, 0 to 1986\n",
      "Data columns (total 6 columns):\n",
      " #   Column              Non-Null Count  Dtype \n",
      "---  ------              --------------  ----- \n",
      " 0   Qualification       1987 non-null   object\n",
      " 1   Experience          1987 non-null   object\n",
      " 2   Rating              897 non-null    object\n",
      " 3   Place               1981 non-null   object\n",
      " 4   Profile             1987 non-null   object\n",
      " 5   Miscellaneous_Info  1153 non-null   object\n",
      "dtypes: object(6)\n",
      "memory usage: 93.3+ KB\n"
     ]
    }
   ],
   "source": [
    "df_test.info()"
   ]
  },
  {
   "cell_type": "code",
   "execution_count": 68,
   "metadata": {},
   "outputs": [],
   "source": [
    "#creating column source for further analysis\n",
    "df_train[\"source\"]=\"train\"\n",
    "df_test[\"source\"]=\"test\""
   ]
  },
  {
   "cell_type": "code",
   "execution_count": 69,
   "metadata": {
    "scrolled": true
   },
   "outputs": [
    {
     "data": {
      "text/html": [
       "<div>\n",
       "<style scoped>\n",
       "    .dataframe tbody tr th:only-of-type {\n",
       "        vertical-align: middle;\n",
       "    }\n",
       "\n",
       "    .dataframe tbody tr th {\n",
       "        vertical-align: top;\n",
       "    }\n",
       "\n",
       "    .dataframe thead th {\n",
       "        text-align: right;\n",
       "    }\n",
       "</style>\n",
       "<table border=\"1\" class=\"dataframe\">\n",
       "  <thead>\n",
       "    <tr style=\"text-align: right;\">\n",
       "      <th></th>\n",
       "      <th>Qualification</th>\n",
       "      <th>Experience</th>\n",
       "      <th>Rating</th>\n",
       "      <th>Place</th>\n",
       "      <th>Profile</th>\n",
       "      <th>Miscellaneous_Info</th>\n",
       "      <th>Fees</th>\n",
       "      <th>source</th>\n",
       "    </tr>\n",
       "  </thead>\n",
       "  <tbody>\n",
       "    <tr>\n",
       "      <th>0</th>\n",
       "      <td>BHMS, MD - Homeopathy</td>\n",
       "      <td>24 years experience</td>\n",
       "      <td>100%</td>\n",
       "      <td>Kakkanad, Ernakulam</td>\n",
       "      <td>Homeopath</td>\n",
       "      <td>100% 16 Feedback Kakkanad, Ernakulam</td>\n",
       "      <td>100.0</td>\n",
       "      <td>train</td>\n",
       "    </tr>\n",
       "    <tr>\n",
       "      <th>1</th>\n",
       "      <td>BAMS, MD - Ayurveda Medicine</td>\n",
       "      <td>12 years experience</td>\n",
       "      <td>98%</td>\n",
       "      <td>Whitefield, Bangalore</td>\n",
       "      <td>Ayurveda</td>\n",
       "      <td>98% 76 Feedback Whitefield, Bangalore</td>\n",
       "      <td>350.0</td>\n",
       "      <td>train</td>\n",
       "    </tr>\n",
       "    <tr>\n",
       "      <th>2</th>\n",
       "      <td>MBBS, MS - Otorhinolaryngology</td>\n",
       "      <td>9 years experience</td>\n",
       "      <td>NaN</td>\n",
       "      <td>Mathikere - BEL, Bangalore</td>\n",
       "      <td>ENT Specialist</td>\n",
       "      <td>NaN</td>\n",
       "      <td>300.0</td>\n",
       "      <td>train</td>\n",
       "    </tr>\n",
       "    <tr>\n",
       "      <th>3</th>\n",
       "      <td>BSc - Zoology, BAMS</td>\n",
       "      <td>12 years experience</td>\n",
       "      <td>NaN</td>\n",
       "      <td>Bannerghatta Road, Bangalore</td>\n",
       "      <td>Ayurveda</td>\n",
       "      <td>Bannerghatta Road, Bangalore ₹250 Available on...</td>\n",
       "      <td>250.0</td>\n",
       "      <td>train</td>\n",
       "    </tr>\n",
       "    <tr>\n",
       "      <th>4</th>\n",
       "      <td>BAMS</td>\n",
       "      <td>20 years experience</td>\n",
       "      <td>100%</td>\n",
       "      <td>Keelkattalai, Chennai</td>\n",
       "      <td>Ayurveda</td>\n",
       "      <td>100% 4 Feedback Keelkattalai, Chennai</td>\n",
       "      <td>250.0</td>\n",
       "      <td>train</td>\n",
       "    </tr>\n",
       "    <tr>\n",
       "      <th>...</th>\n",
       "      <td>...</td>\n",
       "      <td>...</td>\n",
       "      <td>...</td>\n",
       "      <td>...</td>\n",
       "      <td>...</td>\n",
       "      <td>...</td>\n",
       "      <td>...</td>\n",
       "      <td>...</td>\n",
       "    </tr>\n",
       "    <tr>\n",
       "      <th>1982</th>\n",
       "      <td>BAMS, Doctor of Medicine</td>\n",
       "      <td>10 years experience</td>\n",
       "      <td>NaN</td>\n",
       "      <td>Basavanagudi, Bangalore</td>\n",
       "      <td>Ayurveda</td>\n",
       "      <td>NaN</td>\n",
       "      <td>NaN</td>\n",
       "      <td>test</td>\n",
       "    </tr>\n",
       "    <tr>\n",
       "      <th>1983</th>\n",
       "      <td>MD - Dermatology , Venereology &amp; Leprosy, MBBS</td>\n",
       "      <td>4 years experience</td>\n",
       "      <td>NaN</td>\n",
       "      <td>Choolai, Chennai</td>\n",
       "      <td>Dermatologists</td>\n",
       "      <td>NaN</td>\n",
       "      <td>NaN</td>\n",
       "      <td>test</td>\n",
       "    </tr>\n",
       "    <tr>\n",
       "      <th>1984</th>\n",
       "      <td>MBBS, MD / MS - Obstetrics &amp; Gynaecology</td>\n",
       "      <td>9 years experience</td>\n",
       "      <td>NaN</td>\n",
       "      <td>Porur, Chennai</td>\n",
       "      <td>General Medicine</td>\n",
       "      <td>NaN</td>\n",
       "      <td>NaN</td>\n",
       "      <td>test</td>\n",
       "    </tr>\n",
       "    <tr>\n",
       "      <th>1985</th>\n",
       "      <td>BDS</td>\n",
       "      <td>12 years experience</td>\n",
       "      <td>98%</td>\n",
       "      <td>Arekere, Bangalore</td>\n",
       "      <td>Dentist</td>\n",
       "      <td>RCT - Root Canal Treatment Root Canal Treatmen...</td>\n",
       "      <td>NaN</td>\n",
       "      <td>test</td>\n",
       "    </tr>\n",
       "    <tr>\n",
       "      <th>1986</th>\n",
       "      <td>MBBS, MD - Dermatology , Venereology &amp; Leprosy</td>\n",
       "      <td>8 years experience</td>\n",
       "      <td>NaN</td>\n",
       "      <td>Pallikaranai, Chennai</td>\n",
       "      <td>Dermatologists</td>\n",
       "      <td>1 Feedback Pallikaranai, Chennai ₹500</td>\n",
       "      <td>NaN</td>\n",
       "      <td>test</td>\n",
       "    </tr>\n",
       "  </tbody>\n",
       "</table>\n",
       "<p>7948 rows × 8 columns</p>\n",
       "</div>"
      ],
      "text/plain": [
       "                                       Qualification           Experience  \\\n",
       "0                              BHMS, MD - Homeopathy  24 years experience   \n",
       "1                       BAMS, MD - Ayurveda Medicine  12 years experience   \n",
       "2                     MBBS, MS - Otorhinolaryngology   9 years experience   \n",
       "3                                BSc - Zoology, BAMS  12 years experience   \n",
       "4                                               BAMS  20 years experience   \n",
       "...                                              ...                  ...   \n",
       "1982                        BAMS, Doctor of Medicine  10 years experience   \n",
       "1983  MD - Dermatology , Venereology & Leprosy, MBBS   4 years experience   \n",
       "1984        MBBS, MD / MS - Obstetrics & Gynaecology   9 years experience   \n",
       "1985                                             BDS  12 years experience   \n",
       "1986  MBBS, MD - Dermatology , Venereology & Leprosy   8 years experience   \n",
       "\n",
       "     Rating                         Place           Profile  \\\n",
       "0      100%           Kakkanad, Ernakulam         Homeopath   \n",
       "1       98%         Whitefield, Bangalore          Ayurveda   \n",
       "2       NaN    Mathikere - BEL, Bangalore    ENT Specialist   \n",
       "3       NaN  Bannerghatta Road, Bangalore          Ayurveda   \n",
       "4      100%         Keelkattalai, Chennai          Ayurveda   \n",
       "...     ...                           ...               ...   \n",
       "1982    NaN       Basavanagudi, Bangalore          Ayurveda   \n",
       "1983    NaN              Choolai, Chennai    Dermatologists   \n",
       "1984    NaN                Porur, Chennai  General Medicine   \n",
       "1985    98%            Arekere, Bangalore           Dentist   \n",
       "1986    NaN         Pallikaranai, Chennai    Dermatologists   \n",
       "\n",
       "                                     Miscellaneous_Info   Fees source  \n",
       "0                  100% 16 Feedback Kakkanad, Ernakulam  100.0  train  \n",
       "1                 98% 76 Feedback Whitefield, Bangalore  350.0  train  \n",
       "2                                                   NaN  300.0  train  \n",
       "3     Bannerghatta Road, Bangalore ₹250 Available on...  250.0  train  \n",
       "4                 100% 4 Feedback Keelkattalai, Chennai  250.0  train  \n",
       "...                                                 ...    ...    ...  \n",
       "1982                                                NaN    NaN   test  \n",
       "1983                                                NaN    NaN   test  \n",
       "1984                                                NaN    NaN   test  \n",
       "1985  RCT - Root Canal Treatment Root Canal Treatmen...    NaN   test  \n",
       "1986              1 Feedback Pallikaranai, Chennai ₹500    NaN   test  \n",
       "\n",
       "[7948 rows x 8 columns]"
      ]
     },
     "execution_count": 69,
     "metadata": {},
     "output_type": "execute_result"
    }
   ],
   "source": [
    "#concatinating test and train dataset\n",
    "df_doc=pd.concat([df_train,df_test])\n",
    "df_doc"
   ]
  },
  {
   "cell_type": "code",
   "execution_count": 70,
   "metadata": {},
   "outputs": [
    {
     "data": {
      "text/html": [
       "<div>\n",
       "<style scoped>\n",
       "    .dataframe tbody tr th:only-of-type {\n",
       "        vertical-align: middle;\n",
       "    }\n",
       "\n",
       "    .dataframe tbody tr th {\n",
       "        vertical-align: top;\n",
       "    }\n",
       "\n",
       "    .dataframe thead th {\n",
       "        text-align: right;\n",
       "    }\n",
       "</style>\n",
       "<table border=\"1\" class=\"dataframe\">\n",
       "  <thead>\n",
       "    <tr style=\"text-align: right;\">\n",
       "      <th></th>\n",
       "      <th>Qualification</th>\n",
       "      <th>Experience</th>\n",
       "      <th>Rating</th>\n",
       "      <th>Place</th>\n",
       "      <th>Profile</th>\n",
       "      <th>Miscellaneous_Info</th>\n",
       "      <th>Fees</th>\n",
       "      <th>source</th>\n",
       "    </tr>\n",
       "  </thead>\n",
       "  <tbody>\n",
       "    <tr>\n",
       "      <th>0</th>\n",
       "      <td>BHMS, MD - Homeopathy</td>\n",
       "      <td>24 years experience</td>\n",
       "      <td>100%</td>\n",
       "      <td>Kakkanad, Ernakulam</td>\n",
       "      <td>Homeopath</td>\n",
       "      <td>100% 16 Feedback Kakkanad, Ernakulam</td>\n",
       "      <td>100.0</td>\n",
       "      <td>train</td>\n",
       "    </tr>\n",
       "    <tr>\n",
       "      <th>1</th>\n",
       "      <td>BAMS, MD - Ayurveda Medicine</td>\n",
       "      <td>12 years experience</td>\n",
       "      <td>98%</td>\n",
       "      <td>Whitefield, Bangalore</td>\n",
       "      <td>Ayurveda</td>\n",
       "      <td>98% 76 Feedback Whitefield, Bangalore</td>\n",
       "      <td>350.0</td>\n",
       "      <td>train</td>\n",
       "    </tr>\n",
       "    <tr>\n",
       "      <th>2</th>\n",
       "      <td>MBBS, MS - Otorhinolaryngology</td>\n",
       "      <td>9 years experience</td>\n",
       "      <td>NaN</td>\n",
       "      <td>Mathikere - BEL, Bangalore</td>\n",
       "      <td>ENT Specialist</td>\n",
       "      <td>NaN</td>\n",
       "      <td>300.0</td>\n",
       "      <td>train</td>\n",
       "    </tr>\n",
       "    <tr>\n",
       "      <th>3</th>\n",
       "      <td>BSc - Zoology, BAMS</td>\n",
       "      <td>12 years experience</td>\n",
       "      <td>NaN</td>\n",
       "      <td>Bannerghatta Road, Bangalore</td>\n",
       "      <td>Ayurveda</td>\n",
       "      <td>Bannerghatta Road, Bangalore ₹250 Available on...</td>\n",
       "      <td>250.0</td>\n",
       "      <td>train</td>\n",
       "    </tr>\n",
       "    <tr>\n",
       "      <th>4</th>\n",
       "      <td>BAMS</td>\n",
       "      <td>20 years experience</td>\n",
       "      <td>100%</td>\n",
       "      <td>Keelkattalai, Chennai</td>\n",
       "      <td>Ayurveda</td>\n",
       "      <td>100% 4 Feedback Keelkattalai, Chennai</td>\n",
       "      <td>250.0</td>\n",
       "      <td>train</td>\n",
       "    </tr>\n",
       "    <tr>\n",
       "      <th>...</th>\n",
       "      <td>...</td>\n",
       "      <td>...</td>\n",
       "      <td>...</td>\n",
       "      <td>...</td>\n",
       "      <td>...</td>\n",
       "      <td>...</td>\n",
       "      <td>...</td>\n",
       "      <td>...</td>\n",
       "    </tr>\n",
       "    <tr>\n",
       "      <th>7943</th>\n",
       "      <td>BAMS, Doctor of Medicine</td>\n",
       "      <td>10 years experience</td>\n",
       "      <td>NaN</td>\n",
       "      <td>Basavanagudi, Bangalore</td>\n",
       "      <td>Ayurveda</td>\n",
       "      <td>NaN</td>\n",
       "      <td>NaN</td>\n",
       "      <td>test</td>\n",
       "    </tr>\n",
       "    <tr>\n",
       "      <th>7944</th>\n",
       "      <td>MD - Dermatology , Venereology &amp; Leprosy, MBBS</td>\n",
       "      <td>4 years experience</td>\n",
       "      <td>NaN</td>\n",
       "      <td>Choolai, Chennai</td>\n",
       "      <td>Dermatologists</td>\n",
       "      <td>NaN</td>\n",
       "      <td>NaN</td>\n",
       "      <td>test</td>\n",
       "    </tr>\n",
       "    <tr>\n",
       "      <th>7945</th>\n",
       "      <td>MBBS, MD / MS - Obstetrics &amp; Gynaecology</td>\n",
       "      <td>9 years experience</td>\n",
       "      <td>NaN</td>\n",
       "      <td>Porur, Chennai</td>\n",
       "      <td>General Medicine</td>\n",
       "      <td>NaN</td>\n",
       "      <td>NaN</td>\n",
       "      <td>test</td>\n",
       "    </tr>\n",
       "    <tr>\n",
       "      <th>7946</th>\n",
       "      <td>BDS</td>\n",
       "      <td>12 years experience</td>\n",
       "      <td>98%</td>\n",
       "      <td>Arekere, Bangalore</td>\n",
       "      <td>Dentist</td>\n",
       "      <td>RCT - Root Canal Treatment Root Canal Treatmen...</td>\n",
       "      <td>NaN</td>\n",
       "      <td>test</td>\n",
       "    </tr>\n",
       "    <tr>\n",
       "      <th>7947</th>\n",
       "      <td>MBBS, MD - Dermatology , Venereology &amp; Leprosy</td>\n",
       "      <td>8 years experience</td>\n",
       "      <td>NaN</td>\n",
       "      <td>Pallikaranai, Chennai</td>\n",
       "      <td>Dermatologists</td>\n",
       "      <td>1 Feedback Pallikaranai, Chennai ₹500</td>\n",
       "      <td>NaN</td>\n",
       "      <td>test</td>\n",
       "    </tr>\n",
       "  </tbody>\n",
       "</table>\n",
       "<p>7948 rows × 8 columns</p>\n",
       "</div>"
      ],
      "text/plain": [
       "                                       Qualification           Experience  \\\n",
       "0                              BHMS, MD - Homeopathy  24 years experience   \n",
       "1                       BAMS, MD - Ayurveda Medicine  12 years experience   \n",
       "2                     MBBS, MS - Otorhinolaryngology   9 years experience   \n",
       "3                                BSc - Zoology, BAMS  12 years experience   \n",
       "4                                               BAMS  20 years experience   \n",
       "...                                              ...                  ...   \n",
       "7943                        BAMS, Doctor of Medicine  10 years experience   \n",
       "7944  MD - Dermatology , Venereology & Leprosy, MBBS   4 years experience   \n",
       "7945        MBBS, MD / MS - Obstetrics & Gynaecology   9 years experience   \n",
       "7946                                             BDS  12 years experience   \n",
       "7947  MBBS, MD - Dermatology , Venereology & Leprosy   8 years experience   \n",
       "\n",
       "     Rating                         Place           Profile  \\\n",
       "0      100%           Kakkanad, Ernakulam         Homeopath   \n",
       "1       98%         Whitefield, Bangalore          Ayurveda   \n",
       "2       NaN    Mathikere - BEL, Bangalore    ENT Specialist   \n",
       "3       NaN  Bannerghatta Road, Bangalore          Ayurveda   \n",
       "4      100%         Keelkattalai, Chennai          Ayurveda   \n",
       "...     ...                           ...               ...   \n",
       "7943    NaN       Basavanagudi, Bangalore          Ayurveda   \n",
       "7944    NaN              Choolai, Chennai    Dermatologists   \n",
       "7945    NaN                Porur, Chennai  General Medicine   \n",
       "7946    98%            Arekere, Bangalore           Dentist   \n",
       "7947    NaN         Pallikaranai, Chennai    Dermatologists   \n",
       "\n",
       "                                     Miscellaneous_Info   Fees source  \n",
       "0                  100% 16 Feedback Kakkanad, Ernakulam  100.0  train  \n",
       "1                 98% 76 Feedback Whitefield, Bangalore  350.0  train  \n",
       "2                                                   NaN  300.0  train  \n",
       "3     Bannerghatta Road, Bangalore ₹250 Available on...  250.0  train  \n",
       "4                 100% 4 Feedback Keelkattalai, Chennai  250.0  train  \n",
       "...                                                 ...    ...    ...  \n",
       "7943                                                NaN    NaN   test  \n",
       "7944                                                NaN    NaN   test  \n",
       "7945                                                NaN    NaN   test  \n",
       "7946  RCT - Root Canal Treatment Root Canal Treatmen...    NaN   test  \n",
       "7947              1 Feedback Pallikaranai, Chennai ₹500    NaN   test  \n",
       "\n",
       "[7948 rows x 8 columns]"
      ]
     },
     "execution_count": 70,
     "metadata": {},
     "output_type": "execute_result"
    }
   ],
   "source": [
    "#lets reset the index\n",
    "df_doc.reset_index(drop=True,inplace=True)\n",
    "df_doc"
   ]
  },
  {
   "cell_type": "code",
   "execution_count": 71,
   "metadata": {},
   "outputs": [
    {
     "name": "stdout",
     "output_type": "stream",
     "text": [
      "<class 'pandas.core.frame.DataFrame'>\n",
      "RangeIndex: 7948 entries, 0 to 7947\n",
      "Data columns (total 8 columns):\n",
      " #   Column              Non-Null Count  Dtype  \n",
      "---  ------              --------------  -----  \n",
      " 0   Qualification       7948 non-null   object \n",
      " 1   Experience          7948 non-null   object \n",
      " 2   Rating              3556 non-null   object \n",
      " 3   Place               7917 non-null   object \n",
      " 4   Profile             7948 non-null   object \n",
      " 5   Miscellaneous_Info  4494 non-null   object \n",
      " 6   Fees                5961 non-null   float64\n",
      " 7   source              7948 non-null   object \n",
      "dtypes: float64(1), object(7)\n",
      "memory usage: 496.9+ KB\n"
     ]
    }
   ],
   "source": [
    "df_doc.info()"
   ]
  },
  {
   "cell_type": "code",
   "execution_count": 72,
   "metadata": {},
   "outputs": [
    {
     "data": {
      "text/plain": [
       "Qualification            0\n",
       "Experience               0\n",
       "Rating                4392\n",
       "Place                   31\n",
       "Profile                  0\n",
       "Miscellaneous_Info    3454\n",
       "Fees                  1987\n",
       "source                   0\n",
       "dtype: int64"
      ]
     },
     "execution_count": 72,
     "metadata": {},
     "output_type": "execute_result"
    }
   ],
   "source": [
    "#lets chcek the null values\n",
    "df_doc.isnull().sum()"
   ]
  },
  {
   "cell_type": "code",
   "execution_count": 73,
   "metadata": {},
   "outputs": [
    {
     "name": "stdout",
     "output_type": "stream",
     "text": [
      "BDS                                                                                              632\n",
      "BHMS                                                                                             627\n",
      "BAMS                                                                                             624\n",
      "MBBS                                                                                             441\n",
      "MBBS, MS - ENT                                                                                   280\n",
      "                                                                                                ... \n",
      "MBBS, MD - Dermatology , Venereology & Leprosy, DLO                                                1\n",
      "BAMS, Certificate in Child Health (CCH), Post Graduate Diploma in Clinical Research (PGDCR)        1\n",
      "MBBS, DNB - Internal Medicine, Post Graduate Course in Rheumatology                                1\n",
      "BDS, Post Graduate Diploma in Orthodontics                                                         1\n",
      "BDS, Fellowship and Diplomate in Implantology from ICOI (USA), Certificate in Dental Implants      1\n",
      "Name: Qualification, Length: 1801, dtype: int64\n",
      "\n",
      "9 years experience     419\n",
      "10 years experience    404\n",
      "8 years experience     380\n",
      "11 years experience    374\n",
      "12 years experience    358\n",
      "                      ... \n",
      "64 years experience      1\n",
      "61 years experience      1\n",
      "58 years experience      1\n",
      "66 years experience      1\n",
      "60 years experience      1\n",
      "Name: Experience, Length: 64, dtype: int64\n",
      "\n",
      "100%    907\n",
      "98%     402\n",
      "99%     327\n",
      "97%     325\n",
      "96%     285\n",
      "95%     225\n",
      "94%     166\n",
      "93%     143\n",
      "90%      95\n",
      "92%      95\n",
      "91%      86\n",
      "88%      54\n",
      "89%      53\n",
      "85%      35\n",
      "83%      32\n",
      "82%      32\n",
      "86%      27\n",
      "80%      26\n",
      "87%      25\n",
      "84%      20\n",
      "67%      17\n",
      "77%      17\n",
      "71%      16\n",
      "81%      15\n",
      "79%      15\n",
      "76%      13\n",
      "73%      13\n",
      "60%      11\n",
      "70%       8\n",
      "75%       8\n",
      "74%       7\n",
      "78%       7\n",
      "69%       6\n",
      "56%       5\n",
      "68%       5\n",
      "55%       5\n",
      "64%       4\n",
      "57%       3\n",
      "72%       3\n",
      "53%       2\n",
      "33%       2\n",
      "63%       2\n",
      "62%       2\n",
      "65%       2\n",
      "58%       1\n",
      "48%       1\n",
      "36%       1\n",
      "52%       1\n",
      "45%       1\n",
      "7%        1\n",
      "40%       1\n",
      "47%       1\n",
      "Name: Rating, dtype: int64\n",
      "\n",
      "Andheri West, Mumbai                97\n",
      "HSR Layout, Bangalore               97\n",
      "Dwarka, Delhi                       93\n",
      "Banjara Hills, Hyderabad            85\n",
      "Mulund West, Mumbai                 81\n",
      "                                    ..\n",
      "Venjaramoodu, Thiruvananthapuram     1\n",
      "Gandhi Nagar, Delhi                  1\n",
      "Lingarajapuram, Bangalore            1\n",
      "Paruthippara, Thiruvananthapuram     1\n",
      "Connaught Place, Delhi               1\n",
      "Name: Place, Length: 948, dtype: int64\n",
      "\n",
      "Dentist             1838\n",
      "General Medicine    1617\n",
      "Dermatologists      1373\n",
      "Homeopath           1120\n",
      "Ayurveda            1037\n",
      "ENT Specialist       963\n",
      "Name: Profile, dtype: int64\n",
      "\n",
      "Acrylic Partial Denture Crowns and Bridges Fixing Artificial Teeth           50\n",
      "Skin Allergy Treatment Skin Allergies Dermabrasion                           18\n",
      "Tooth Extraction Dental Fillings Scaling / Polishing                         16\n",
      "Dental Fillings Zirconia Crowns Dental Implant Fixing                        15\n",
      "Dermabrasion Laser Resurfacing Acne / Pimples Treatment                      14\n",
      "                                                                             ..\n",
      "47% 9 Feedback Old Airport Road, Bangalore                                    1\n",
      "Cast Partial Denture Conservative Dentistry Cosmetic/ Aesthetic Dentistry     1\n",
      "HIV Counselling Infectious Disease Treatment Health Checkup (General)         1\n",
      "Crowns and Bridges Fixing Dental Implant Fixing Flap Surgery                  1\n",
      "99% 23 Feedback Tambaram East, Chennai                                        1\n",
      "Name: Miscellaneous_Info, Length: 3980, dtype: int64\n",
      "\n",
      "train    5961\n",
      "test     1987\n",
      "Name: source, dtype: int64\n",
      "\n"
     ]
    }
   ],
   "source": [
    "#Lets chcek the value counts of object type columns\n",
    "for col in df_doc.columns:\n",
    "    if df_doc[col].dtype==\"object\":\n",
    "        print(df_doc[col].value_counts())\n",
    "        print()"
   ]
  },
  {
   "cell_type": "code",
   "execution_count": 74,
   "metadata": {},
   "outputs": [],
   "source": [
    "#Miscellaneous_Info is a special information unique to the doctor,so its impossible to impute it\n",
    "#So we will drop replace null values as missing\n",
    "#df_doc.drop(columns=[\"Miscellaneous_Info\"],inplace=True)\n",
    "df_doc[\"Miscellaneous_Info\"].fillna(\"missing\",inplace=True)"
   ]
  },
  {
   "cell_type": "code",
   "execution_count": 75,
   "metadata": {},
   "outputs": [],
   "source": [
    "#We can convert experience column to datatype int\n",
    "#At fisrt we need to strip of \" years experience\"\n",
    "df_doc[\"Experience\"]=df_doc[\"Experience\"].str.strip(\" years experience\")"
   ]
  },
  {
   "cell_type": "code",
   "execution_count": 76,
   "metadata": {},
   "outputs": [
    {
     "data": {
      "text/plain": [
       "0       24\n",
       "1       12\n",
       "2        9\n",
       "3       12\n",
       "4       20\n",
       "        ..\n",
       "7943    10\n",
       "7944     4\n",
       "7945     9\n",
       "7946    12\n",
       "7947     8\n",
       "Name: Experience, Length: 7948, dtype: object"
      ]
     },
     "execution_count": 76,
     "metadata": {},
     "output_type": "execute_result"
    }
   ],
   "source": [
    "#lets see the Experice column\n",
    "df_doc[\"Experience\"]"
   ]
  },
  {
   "cell_type": "code",
   "execution_count": 77,
   "metadata": {},
   "outputs": [],
   "source": [
    "#Now we need to convert the Experience column to int\n",
    "df_doc[\"Experience\"]=df_doc[\"Experience\"].astype(int)"
   ]
  },
  {
   "cell_type": "code",
   "execution_count": 78,
   "metadata": {},
   "outputs": [
    {
     "data": {
      "text/plain": [
       "Qualification          object\n",
       "Experience              int32\n",
       "Rating                 object\n",
       "Place                  object\n",
       "Profile                object\n",
       "Miscellaneous_Info     object\n",
       "Fees                  float64\n",
       "source                 object\n",
       "dtype: object"
      ]
     },
     "execution_count": 78,
     "metadata": {},
     "output_type": "execute_result"
    }
   ],
   "source": [
    "#lets chcek the datatype of the columns in datasets\n",
    "df_doc.dtypes"
   ]
  },
  {
   "cell_type": "code",
   "execution_count": 79,
   "metadata": {},
   "outputs": [
    {
     "data": {
      "text/html": [
       "<div>\n",
       "<style scoped>\n",
       "    .dataframe tbody tr th:only-of-type {\n",
       "        vertical-align: middle;\n",
       "    }\n",
       "\n",
       "    .dataframe tbody tr th {\n",
       "        vertical-align: top;\n",
       "    }\n",
       "\n",
       "    .dataframe thead th {\n",
       "        text-align: right;\n",
       "    }\n",
       "</style>\n",
       "<table border=\"1\" class=\"dataframe\">\n",
       "  <thead>\n",
       "    <tr style=\"text-align: right;\">\n",
       "      <th></th>\n",
       "      <th>Rating</th>\n",
       "    </tr>\n",
       "    <tr>\n",
       "      <th>Profile</th>\n",
       "      <th></th>\n",
       "    </tr>\n",
       "  </thead>\n",
       "  <tbody>\n",
       "    <tr>\n",
       "      <th>Ayurveda</th>\n",
       "      <td>100%</td>\n",
       "    </tr>\n",
       "    <tr>\n",
       "      <th>Dentist</th>\n",
       "      <td>100%</td>\n",
       "    </tr>\n",
       "    <tr>\n",
       "      <th>Dermatologists</th>\n",
       "      <td>100%</td>\n",
       "    </tr>\n",
       "    <tr>\n",
       "      <th>ENT Specialist</th>\n",
       "      <td>100%</td>\n",
       "    </tr>\n",
       "    <tr>\n",
       "      <th>General Medicine</th>\n",
       "      <td>100%</td>\n",
       "    </tr>\n",
       "    <tr>\n",
       "      <th>Homeopath</th>\n",
       "      <td>100%</td>\n",
       "    </tr>\n",
       "  </tbody>\n",
       "</table>\n",
       "</div>"
      ],
      "text/plain": [
       "                 Rating\n",
       "Profile                \n",
       "Ayurveda           100%\n",
       "Dentist            100%\n",
       "Dermatologists     100%\n",
       "ENT Specialist     100%\n",
       "General Medicine   100%\n",
       "Homeopath          100%"
      ]
     },
     "execution_count": 79,
     "metadata": {},
     "output_type": "execute_result"
    }
   ],
   "source": [
    "#Rating grouped by profile\n",
    "df_doc.groupby([\"Profile\"]).agg({\"Rating\":lambda x: x.value_counts().index[0]})"
   ]
  },
  {
   "cell_type": "code",
   "execution_count": 80,
   "metadata": {},
   "outputs": [],
   "source": [
    "#Lets strip the\"%\" of Rating\n",
    "df_doc[\"Rating\"]=df_doc[\"Rating\"].str.strip(\"%\")"
   ]
  },
  {
   "cell_type": "code",
   "execution_count": 81,
   "metadata": {},
   "outputs": [],
   "source": [
    "#Converting Rating to float \n",
    "df_doc[\"Rating\"]=df_doc[\"Rating\"].astype(float)"
   ]
  },
  {
   "cell_type": "code",
   "execution_count": 82,
   "metadata": {},
   "outputs": [
    {
     "data": {
      "text/plain": [
       "0       100.0\n",
       "1        98.0\n",
       "2         NaN\n",
       "3         NaN\n",
       "4       100.0\n",
       "        ...  \n",
       "7943      NaN\n",
       "7944      NaN\n",
       "7945      NaN\n",
       "7946     98.0\n",
       "7947      NaN\n",
       "Name: Rating, Length: 7948, dtype: float64"
      ]
     },
     "execution_count": 82,
     "metadata": {},
     "output_type": "execute_result"
    }
   ],
   "source": [
    "df_doc[\"Rating\"]"
   ]
  },
  {
   "cell_type": "code",
   "execution_count": 83,
   "metadata": {},
   "outputs": [
    {
     "data": {
      "text/html": [
       "<div>\n",
       "<style scoped>\n",
       "    .dataframe tbody tr th:only-of-type {\n",
       "        vertical-align: middle;\n",
       "    }\n",
       "\n",
       "    .dataframe tbody tr th {\n",
       "        vertical-align: top;\n",
       "    }\n",
       "\n",
       "    .dataframe thead th {\n",
       "        text-align: right;\n",
       "    }\n",
       "</style>\n",
       "<table border=\"1\" class=\"dataframe\">\n",
       "  <thead>\n",
       "    <tr style=\"text-align: right;\">\n",
       "      <th></th>\n",
       "      <th>Qualification</th>\n",
       "      <th>Experience</th>\n",
       "      <th>Rating</th>\n",
       "      <th>Place</th>\n",
       "      <th>Profile</th>\n",
       "      <th>Miscellaneous_Info</th>\n",
       "      <th>Fees</th>\n",
       "      <th>source</th>\n",
       "    </tr>\n",
       "  </thead>\n",
       "  <tbody>\n",
       "    <tr>\n",
       "      <th>2</th>\n",
       "      <td>MBBS, MS - Otorhinolaryngology</td>\n",
       "      <td>9</td>\n",
       "      <td>NaN</td>\n",
       "      <td>Mathikere - BEL, Bangalore</td>\n",
       "      <td>ENT Specialist</td>\n",
       "      <td>missing</td>\n",
       "      <td>300.0</td>\n",
       "      <td>train</td>\n",
       "    </tr>\n",
       "    <tr>\n",
       "      <th>3</th>\n",
       "      <td>BSc - Zoology, BAMS</td>\n",
       "      <td>12</td>\n",
       "      <td>NaN</td>\n",
       "      <td>Bannerghatta Road, Bangalore</td>\n",
       "      <td>Ayurveda</td>\n",
       "      <td>Bannerghatta Road, Bangalore ₹250 Available on...</td>\n",
       "      <td>250.0</td>\n",
       "      <td>train</td>\n",
       "    </tr>\n",
       "    <tr>\n",
       "      <th>5</th>\n",
       "      <td>BAMS</td>\n",
       "      <td>8</td>\n",
       "      <td>NaN</td>\n",
       "      <td>Porur, Chennai</td>\n",
       "      <td>Ayurveda</td>\n",
       "      <td>missing</td>\n",
       "      <td>100.0</td>\n",
       "      <td>train</td>\n",
       "    </tr>\n",
       "    <tr>\n",
       "      <th>6</th>\n",
       "      <td>BHMS</td>\n",
       "      <td>42</td>\n",
       "      <td>NaN</td>\n",
       "      <td>Karol Bagh, Delhi</td>\n",
       "      <td>Homeopath</td>\n",
       "      <td>missing</td>\n",
       "      <td>200.0</td>\n",
       "      <td>train</td>\n",
       "    </tr>\n",
       "    <tr>\n",
       "      <th>8</th>\n",
       "      <td>MBBS, MD - General Medicine</td>\n",
       "      <td>14</td>\n",
       "      <td>NaN</td>\n",
       "      <td>Old City, Hyderabad</td>\n",
       "      <td>General Medicine</td>\n",
       "      <td>missing</td>\n",
       "      <td>100.0</td>\n",
       "      <td>train</td>\n",
       "    </tr>\n",
       "    <tr>\n",
       "      <th>...</th>\n",
       "      <td>...</td>\n",
       "      <td>...</td>\n",
       "      <td>...</td>\n",
       "      <td>...</td>\n",
       "      <td>...</td>\n",
       "      <td>...</td>\n",
       "      <td>...</td>\n",
       "      <td>...</td>\n",
       "    </tr>\n",
       "    <tr>\n",
       "      <th>7942</th>\n",
       "      <td>MBBS, MD - Dermatology , Venereology &amp; Leprosy...</td>\n",
       "      <td>8</td>\n",
       "      <td>NaN</td>\n",
       "      <td>Lajpat Nagar III, Delhi</td>\n",
       "      <td>Dermatologists</td>\n",
       "      <td>missing</td>\n",
       "      <td>NaN</td>\n",
       "      <td>test</td>\n",
       "    </tr>\n",
       "    <tr>\n",
       "      <th>7943</th>\n",
       "      <td>BAMS, Doctor of Medicine</td>\n",
       "      <td>10</td>\n",
       "      <td>NaN</td>\n",
       "      <td>Basavanagudi, Bangalore</td>\n",
       "      <td>Ayurveda</td>\n",
       "      <td>missing</td>\n",
       "      <td>NaN</td>\n",
       "      <td>test</td>\n",
       "    </tr>\n",
       "    <tr>\n",
       "      <th>7944</th>\n",
       "      <td>MD - Dermatology , Venereology &amp; Leprosy, MBBS</td>\n",
       "      <td>4</td>\n",
       "      <td>NaN</td>\n",
       "      <td>Choolai, Chennai</td>\n",
       "      <td>Dermatologists</td>\n",
       "      <td>missing</td>\n",
       "      <td>NaN</td>\n",
       "      <td>test</td>\n",
       "    </tr>\n",
       "    <tr>\n",
       "      <th>7945</th>\n",
       "      <td>MBBS, MD / MS - Obstetrics &amp; Gynaecology</td>\n",
       "      <td>9</td>\n",
       "      <td>NaN</td>\n",
       "      <td>Porur, Chennai</td>\n",
       "      <td>General Medicine</td>\n",
       "      <td>missing</td>\n",
       "      <td>NaN</td>\n",
       "      <td>test</td>\n",
       "    </tr>\n",
       "    <tr>\n",
       "      <th>7947</th>\n",
       "      <td>MBBS, MD - Dermatology , Venereology &amp; Leprosy</td>\n",
       "      <td>8</td>\n",
       "      <td>NaN</td>\n",
       "      <td>Pallikaranai, Chennai</td>\n",
       "      <td>Dermatologists</td>\n",
       "      <td>1 Feedback Pallikaranai, Chennai ₹500</td>\n",
       "      <td>NaN</td>\n",
       "      <td>test</td>\n",
       "    </tr>\n",
       "  </tbody>\n",
       "</table>\n",
       "<p>4392 rows × 8 columns</p>\n",
       "</div>"
      ],
      "text/plain": [
       "                                          Qualification  Experience  Rating  \\\n",
       "2                        MBBS, MS - Otorhinolaryngology           9     NaN   \n",
       "3                                   BSc - Zoology, BAMS          12     NaN   \n",
       "5                                                  BAMS           8     NaN   \n",
       "6                                                  BHMS          42     NaN   \n",
       "8                           MBBS, MD - General Medicine          14     NaN   \n",
       "...                                                 ...         ...     ...   \n",
       "7942  MBBS, MD - Dermatology , Venereology & Leprosy...           8     NaN   \n",
       "7943                           BAMS, Doctor of Medicine          10     NaN   \n",
       "7944     MD - Dermatology , Venereology & Leprosy, MBBS           4     NaN   \n",
       "7945           MBBS, MD / MS - Obstetrics & Gynaecology           9     NaN   \n",
       "7947     MBBS, MD - Dermatology , Venereology & Leprosy           8     NaN   \n",
       "\n",
       "                             Place           Profile  \\\n",
       "2       Mathikere - BEL, Bangalore    ENT Specialist   \n",
       "3     Bannerghatta Road, Bangalore          Ayurveda   \n",
       "5                   Porur, Chennai          Ayurveda   \n",
       "6                Karol Bagh, Delhi         Homeopath   \n",
       "8              Old City, Hyderabad  General Medicine   \n",
       "...                            ...               ...   \n",
       "7942       Lajpat Nagar III, Delhi    Dermatologists   \n",
       "7943       Basavanagudi, Bangalore          Ayurveda   \n",
       "7944              Choolai, Chennai    Dermatologists   \n",
       "7945                Porur, Chennai  General Medicine   \n",
       "7947         Pallikaranai, Chennai    Dermatologists   \n",
       "\n",
       "                                     Miscellaneous_Info   Fees source  \n",
       "2                                               missing  300.0  train  \n",
       "3     Bannerghatta Road, Bangalore ₹250 Available on...  250.0  train  \n",
       "5                                               missing  100.0  train  \n",
       "6                                               missing  200.0  train  \n",
       "8                                               missing  100.0  train  \n",
       "...                                                 ...    ...    ...  \n",
       "7942                                            missing    NaN   test  \n",
       "7943                                            missing    NaN   test  \n",
       "7944                                            missing    NaN   test  \n",
       "7945                                            missing    NaN   test  \n",
       "7947              1 Feedback Pallikaranai, Chennai ₹500    NaN   test  \n",
       "\n",
       "[4392 rows x 8 columns]"
      ]
     },
     "execution_count": 83,
     "metadata": {},
     "output_type": "execute_result"
    }
   ],
   "source": [
    "#Lets chcek the rows where null values are there\n",
    "df_doc.loc[df_doc[\"Rating\"].isnull()]\n",
    "#Here we see in most of \"Rating\" is nan where miscellaneous_info is missing"
   ]
  },
  {
   "cell_type": "code",
   "execution_count": 84,
   "metadata": {},
   "outputs": [],
   "source": [
    "#Lets replace the null values in rating with 0\n",
    "df_doc[\"Rating\"].fillna(0,inplace=True)"
   ]
  },
  {
   "cell_type": "code",
   "execution_count": 85,
   "metadata": {},
   "outputs": [
    {
     "data": {
      "text/plain": [
       "Qualification            0\n",
       "Experience               0\n",
       "Rating                   0\n",
       "Place                   31\n",
       "Profile                  0\n",
       "Miscellaneous_Info       0\n",
       "Fees                  1987\n",
       "source                   0\n",
       "dtype: int64"
      ]
     },
     "execution_count": 85,
     "metadata": {},
     "output_type": "execute_result"
    }
   ],
   "source": [
    "#chceking null values again\n",
    "df_doc.isnull().sum()\n",
    "#Fees what ever null count  is there is what needs to predicted and is part of test dataset\n",
    "#So we are left with \"Place\" column which needs to be imputed"
   ]
  },
  {
   "cell_type": "code",
   "execution_count": 86,
   "metadata": {},
   "outputs": [
    {
     "data": {
      "text/plain": [
       "Andheri West, Mumbai                97\n",
       "HSR Layout, Bangalore               97\n",
       "Dwarka, Delhi                       93\n",
       "Banjara Hills, Hyderabad            85\n",
       "Mulund West, Mumbai                 81\n",
       "                                    ..\n",
       "Venjaramoodu, Thiruvananthapuram     1\n",
       "Gandhi Nagar, Delhi                  1\n",
       "Lingarajapuram, Bangalore            1\n",
       "Paruthippara, Thiruvananthapuram     1\n",
       "Connaught Place, Delhi               1\n",
       "Name: Place, Length: 948, dtype: int64"
      ]
     },
     "execution_count": 86,
     "metadata": {},
     "output_type": "execute_result"
    }
   ],
   "source": [
    "#Lets chcek the value counts\n",
    "df_doc[\"Place\"].value_counts()"
   ]
  },
  {
   "cell_type": "code",
   "execution_count": 87,
   "metadata": {},
   "outputs": [],
   "source": [
    "#This will have 5 places where maximum number of doctors sit\n",
    "top_doc_places=df_doc[\"Place\"].value_counts().index[0:5]"
   ]
  },
  {
   "cell_type": "code",
   "execution_count": 88,
   "metadata": {},
   "outputs": [
    {
     "data": {
      "text/html": [
       "<div>\n",
       "<style scoped>\n",
       "    .dataframe tbody tr th:only-of-type {\n",
       "        vertical-align: middle;\n",
       "    }\n",
       "\n",
       "    .dataframe tbody tr th {\n",
       "        vertical-align: top;\n",
       "    }\n",
       "\n",
       "    .dataframe thead th {\n",
       "        text-align: right;\n",
       "    }\n",
       "</style>\n",
       "<table border=\"1\" class=\"dataframe\">\n",
       "  <thead>\n",
       "    <tr style=\"text-align: right;\">\n",
       "      <th></th>\n",
       "      <th>Place</th>\n",
       "    </tr>\n",
       "  </thead>\n",
       "  <tbody>\n",
       "    <tr>\n",
       "      <th>0</th>\n",
       "      <td>False</td>\n",
       "    </tr>\n",
       "    <tr>\n",
       "      <th>1</th>\n",
       "      <td>False</td>\n",
       "    </tr>\n",
       "    <tr>\n",
       "      <th>2</th>\n",
       "      <td>False</td>\n",
       "    </tr>\n",
       "    <tr>\n",
       "      <th>3</th>\n",
       "      <td>False</td>\n",
       "    </tr>\n",
       "    <tr>\n",
       "      <th>4</th>\n",
       "      <td>False</td>\n",
       "    </tr>\n",
       "    <tr>\n",
       "      <th>...</th>\n",
       "      <td>...</td>\n",
       "    </tr>\n",
       "    <tr>\n",
       "      <th>7943</th>\n",
       "      <td>False</td>\n",
       "    </tr>\n",
       "    <tr>\n",
       "      <th>7944</th>\n",
       "      <td>False</td>\n",
       "    </tr>\n",
       "    <tr>\n",
       "      <th>7945</th>\n",
       "      <td>False</td>\n",
       "    </tr>\n",
       "    <tr>\n",
       "      <th>7946</th>\n",
       "      <td>False</td>\n",
       "    </tr>\n",
       "    <tr>\n",
       "      <th>7947</th>\n",
       "      <td>False</td>\n",
       "    </tr>\n",
       "  </tbody>\n",
       "</table>\n",
       "<p>7948 rows × 1 columns</p>\n",
       "</div>"
      ],
      "text/plain": [
       "      Place\n",
       "0     False\n",
       "1     False\n",
       "2     False\n",
       "3     False\n",
       "4     False\n",
       "...     ...\n",
       "7943  False\n",
       "7944  False\n",
       "7945  False\n",
       "7946  False\n",
       "7947  False\n",
       "\n",
       "[7948 rows x 1 columns]"
      ]
     },
     "execution_count": 88,
     "metadata": {},
     "output_type": "execute_result"
    }
   ],
   "source": [
    "null_condition=df_doc[[\"Place\"]].isnull()\n",
    "null_condition"
   ]
  },
  {
   "cell_type": "code",
   "execution_count": 89,
   "metadata": {},
   "outputs": [],
   "source": [
    "#We  will impute the null values with fisrt top 5 popular places where doctor sit\n",
    "null_condition=df_doc[[\"Place\"]].isnull()\n",
    "count=0\n",
    "for index_null in null_condition.index:\n",
    "    if null_condition.loc[index_null][0]==True:\n",
    "        if count%5==0:\n",
    "            df_doc.loc[index_null,[\"Place\"]]=top_doc_places[0]\n",
    "        if count%5==1:\n",
    "            df_doc.loc[index_null,[\"Place\"]]=top_doc_places[1]\n",
    "        if count%5==2:\n",
    "            df_doc.loc[index_null,[\"Place\"]]=top_doc_places[2]\n",
    "        if count%5==3:\n",
    "            df_doc.loc[index_null,[\"Place\"]]=top_doc_places[3]\n",
    "        if count%5==4:\n",
    "            df_doc.loc[index_null,[\"Place\"]]=top_doc_places[4]\n",
    "        count=count+1"
   ]
  },
  {
   "cell_type": "code",
   "execution_count": 90,
   "metadata": {},
   "outputs": [
    {
     "data": {
      "text/plain": [
       "Qualification            0\n",
       "Experience               0\n",
       "Rating                   0\n",
       "Place                    0\n",
       "Profile                  0\n",
       "Miscellaneous_Info       0\n",
       "Fees                  1987\n",
       "source                   0\n",
       "dtype: int64"
      ]
     },
     "execution_count": 90,
     "metadata": {},
     "output_type": "execute_result"
    }
   ],
   "source": [
    "#Lets again chcek null values\n",
    "df_doc.isnull().sum()"
   ]
  },
  {
   "cell_type": "code",
   "execution_count": 91,
   "metadata": {},
   "outputs": [
    {
     "data": {
      "text/plain": [
       "Andheri West, Mumbai                104\n",
       "HSR Layout, Bangalore               103\n",
       "Dwarka, Delhi                        99\n",
       "Banjara Hills, Hyderabad             91\n",
       "Mulund West, Mumbai                  87\n",
       "                                   ... \n",
       "Venjaramoodu, Thiruvananthapuram      1\n",
       "Gandhi Nagar, Delhi                   1\n",
       "Lingarajapuram, Bangalore             1\n",
       "Paruthippara, Thiruvananthapuram      1\n",
       "Connaught Place, Delhi                1\n",
       "Name: Place, Length: 948, dtype: int64"
      ]
     },
     "execution_count": 91,
     "metadata": {},
     "output_type": "execute_result"
    }
   ],
   "source": [
    "#value counts for place\n",
    "df_doc[\"Place\"].value_counts()\n",
    "#There fore we have evenly imputed the null values with top 5 places"
   ]
  },
  {
   "cell_type": "code",
   "execution_count": 92,
   "metadata": {},
   "outputs": [
    {
     "name": "stdout",
     "output_type": "stream",
     "text": [
      "Max address length is :3\n"
     ]
    }
   ],
   "source": [
    "#Now we will divide the Place column into multiple columns\n",
    "#First we will find maximum Length \n",
    "max_address_length=-1\n",
    "for i in range(len(df_doc[\"Place\"])):\n",
    "    temp=len(df_doc[\"Place\"].iloc[i].strip().upper().split(\",\"))\n",
    "    if temp>max_address_length:\n",
    "        max_address_length=temp\n",
    "print(\"Max address length is :{}\".format(max_address_length))"
   ]
  },
  {
   "cell_type": "code",
   "execution_count": 93,
   "metadata": {},
   "outputs": [],
   "source": [
    "p1=list()\n",
    "p2=list()\n",
    "p3=list()\n",
    "for i in range(len(df_doc[\"Place\"])):\n",
    "    temp=df_doc[\"Place\"].iloc[i].split(\",\")\n",
    "    try :\n",
    "        p1.append(temp[0].strip().upper())\n",
    "    except :\n",
    "        p1.append('NONE')\n",
    "    try :\n",
    "        p2.append(temp[1].strip().upper())\n",
    "    except :\n",
    "        p2.append('NONE')\n",
    "    try :\n",
    "        p3.append(temp[2].strip().upper())\n",
    "    except :\n",
    "        p3.append('NONE')"
   ]
  },
  {
   "cell_type": "code",
   "execution_count": 94,
   "metadata": {},
   "outputs": [],
   "source": [
    "df_doc[\"p1\"]=p1\n",
    "df_doc[\"p2\"]=p2\n",
    "df_doc[\"p3\"]=p3"
   ]
  },
  {
   "cell_type": "code",
   "execution_count": 95,
   "metadata": {},
   "outputs": [
    {
     "data": {
      "text/html": [
       "<div>\n",
       "<style scoped>\n",
       "    .dataframe tbody tr th:only-of-type {\n",
       "        vertical-align: middle;\n",
       "    }\n",
       "\n",
       "    .dataframe tbody tr th {\n",
       "        vertical-align: top;\n",
       "    }\n",
       "\n",
       "    .dataframe thead th {\n",
       "        text-align: right;\n",
       "    }\n",
       "</style>\n",
       "<table border=\"1\" class=\"dataframe\">\n",
       "  <thead>\n",
       "    <tr style=\"text-align: right;\">\n",
       "      <th></th>\n",
       "      <th>Qualification</th>\n",
       "      <th>Experience</th>\n",
       "      <th>Rating</th>\n",
       "      <th>Place</th>\n",
       "      <th>Profile</th>\n",
       "      <th>Miscellaneous_Info</th>\n",
       "      <th>Fees</th>\n",
       "      <th>source</th>\n",
       "      <th>p1</th>\n",
       "      <th>p2</th>\n",
       "      <th>p3</th>\n",
       "    </tr>\n",
       "  </thead>\n",
       "  <tbody>\n",
       "    <tr>\n",
       "      <th>2169</th>\n",
       "      <td>BDS</td>\n",
       "      <td>11</td>\n",
       "      <td>0.0</td>\n",
       "      <td>Dwarka, Sector 5, Delhi</td>\n",
       "      <td>Dentist</td>\n",
       "      <td>missing</td>\n",
       "      <td>250.0</td>\n",
       "      <td>train</td>\n",
       "      <td>DWARKA</td>\n",
       "      <td>SECTOR 5</td>\n",
       "      <td>DELHI</td>\n",
       "    </tr>\n",
       "  </tbody>\n",
       "</table>\n",
       "</div>"
      ],
      "text/plain": [
       "     Qualification  Experience  Rating                    Place  Profile  \\\n",
       "2169           BDS          11     0.0  Dwarka, Sector 5, Delhi  Dentist   \n",
       "\n",
       "     Miscellaneous_Info   Fees source      p1        p2     p3  \n",
       "2169            missing  250.0  train  DWARKA  SECTOR 5  DELHI  "
      ]
     },
     "execution_count": 95,
     "metadata": {},
     "output_type": "execute_result"
    }
   ],
   "source": [
    "df_doc.loc[df_doc[\"p3\"]!=\"NONE\"]\n",
    "#we see only one row is there where p3 contains anything leaving \"NONE\""
   ]
  },
  {
   "cell_type": "code",
   "execution_count": 96,
   "metadata": {},
   "outputs": [],
   "source": [
    "#lets change replace p2 by \"DELHI\" and then drop the entire p3 column\n",
    "df_doc.loc[df_doc[\"p3\"]!=\"NONE\", ['p2']] = df_doc[['p3']]"
   ]
  },
  {
   "cell_type": "code",
   "execution_count": 97,
   "metadata": {},
   "outputs": [],
   "source": [
    "df_doc[\"p2\"].fillna(\"DELHI\",inplace=True)"
   ]
  },
  {
   "cell_type": "code",
   "execution_count": 98,
   "metadata": {},
   "outputs": [
    {
     "data": {
      "text/html": [
       "<div>\n",
       "<style scoped>\n",
       "    .dataframe tbody tr th:only-of-type {\n",
       "        vertical-align: middle;\n",
       "    }\n",
       "\n",
       "    .dataframe tbody tr th {\n",
       "        vertical-align: top;\n",
       "    }\n",
       "\n",
       "    .dataframe thead th {\n",
       "        text-align: right;\n",
       "    }\n",
       "</style>\n",
       "<table border=\"1\" class=\"dataframe\">\n",
       "  <thead>\n",
       "    <tr style=\"text-align: right;\">\n",
       "      <th></th>\n",
       "      <th>Qualification</th>\n",
       "      <th>Experience</th>\n",
       "      <th>Rating</th>\n",
       "      <th>Place</th>\n",
       "      <th>Profile</th>\n",
       "      <th>Miscellaneous_Info</th>\n",
       "      <th>Fees</th>\n",
       "      <th>source</th>\n",
       "      <th>p1</th>\n",
       "      <th>p2</th>\n",
       "      <th>p3</th>\n",
       "    </tr>\n",
       "  </thead>\n",
       "  <tbody>\n",
       "    <tr>\n",
       "      <th>2169</th>\n",
       "      <td>BDS</td>\n",
       "      <td>11</td>\n",
       "      <td>0.0</td>\n",
       "      <td>Dwarka, Sector 5, Delhi</td>\n",
       "      <td>Dentist</td>\n",
       "      <td>missing</td>\n",
       "      <td>250.0</td>\n",
       "      <td>train</td>\n",
       "      <td>DWARKA</td>\n",
       "      <td>DELHI</td>\n",
       "      <td>DELHI</td>\n",
       "    </tr>\n",
       "  </tbody>\n",
       "</table>\n",
       "</div>"
      ],
      "text/plain": [
       "     Qualification  Experience  Rating                    Place  Profile  \\\n",
       "2169           BDS          11     0.0  Dwarka, Sector 5, Delhi  Dentist   \n",
       "\n",
       "     Miscellaneous_Info   Fees source      p1     p2     p3  \n",
       "2169            missing  250.0  train  DWARKA  DELHI  DELHI  "
      ]
     },
     "execution_count": 98,
     "metadata": {},
     "output_type": "execute_result"
    }
   ],
   "source": [
    "df_doc.loc[df_doc[\"p3\"]!=\"NONE\"]\n",
    "#Now we see p2 contains \"DELHI\" so we can drop p3 as it is having no variance"
   ]
  },
  {
   "cell_type": "code",
   "execution_count": 99,
   "metadata": {},
   "outputs": [],
   "source": [
    "#As discussed above lets drop \"p3\" and \"Place\"\n",
    "df_doc.drop(columns=[\"p3\",\"Place\"],inplace=True)"
   ]
  },
  {
   "cell_type": "code",
   "execution_count": 100,
   "metadata": {},
   "outputs": [
    {
     "name": "stdout",
     "output_type": "stream",
     "text": [
      "Max qualification length is :17\n"
     ]
    }
   ],
   "source": [
    "#Lets divide \"Qualification\" column also into multiple columns\n",
    "#so we will do similar activity what we did for \"Place\"\n",
    "#First we will find maximum Length \n",
    "max_qual_length=-1\n",
    "for i in range(len(df_doc[\"Qualification\"])):\n",
    "    temp=len(df_doc[\"Qualification\"].iloc[i].strip().upper().split(\",\"))\n",
    "    if temp>max_qual_length:\n",
    "        max_qual_length=temp\n",
    "print(\"Max qualification length is :{}\".format(max_qual_length))"
   ]
  },
  {
   "cell_type": "code",
   "execution_count": 101,
   "metadata": {},
   "outputs": [],
   "source": [
    "q1=list()\n",
    "q2=list()\n",
    "q3=list()\n",
    "q4=list()\n",
    "q5=list()\n",
    "q6=list()\n",
    "q7=list()\n",
    "q8=list()\n",
    "q9=list()\n",
    "q10=list()\n",
    "q11=list()\n",
    "q12=list()\n",
    "q13=list()\n",
    "q14=list()\n",
    "q15=list()\n",
    "q16=list()\n",
    "q17=list()\n",
    "for i in range(len(df_doc[\"Qualification\"])):\n",
    "    temp=df_doc[\"Qualification\"].iloc[i].split(\",\")\n",
    "    try :\n",
    "        q1.append(temp[0].strip().upper())\n",
    "    except :\n",
    "        q1.append('NONE')\n",
    "    try :\n",
    "        q2.append(temp[1].strip().upper())\n",
    "    except :\n",
    "        q2.append('NONE')\n",
    "    try :\n",
    "        q3.append(temp[2].strip().upper())\n",
    "    except :\n",
    "        q3.append('NONE')\n",
    "    try :\n",
    "        q4.append(temp[3].strip().upper())\n",
    "    except :\n",
    "        q4.append('NONE')\n",
    "    try :\n",
    "        q5.append(temp[4].strip().upper())\n",
    "    except :\n",
    "        q5.append('NONE')\n",
    "    try :\n",
    "        q6.append(temp[5].strip().upper())\n",
    "    except :\n",
    "        q6.append('NONE')\n",
    "    try :\n",
    "        q7.append(temp[6].strip().upper())\n",
    "    except :\n",
    "        q7.append('NONE')\n",
    "    try :\n",
    "        q8.append(temp[7].strip().upper())\n",
    "    except :\n",
    "        q8.append('NONE')\n",
    "    try :\n",
    "        q9.append(temp[8].strip().upper())\n",
    "    except :\n",
    "        q9.append('NONE')\n",
    "    try :\n",
    "        q10.append(temp[9].strip().upper())\n",
    "    except :\n",
    "        q10.append('NONE')\n",
    "    try :\n",
    "        q11.append(temp[10].strip().upper())\n",
    "    except :\n",
    "        q11.append('NONE')\n",
    "    try :\n",
    "        q12.append(temp[11].strip().upper())\n",
    "    except :\n",
    "        q12.append('NONE')\n",
    "    try :\n",
    "        q13.append(temp[12].strip().upper())\n",
    "    except :\n",
    "        q13.append('NONE')\n",
    "    try :\n",
    "        q14.append(temp[13].strip().upper())\n",
    "    except :\n",
    "        q14.append('NONE')\n",
    "    try :\n",
    "        q15.append(temp[14].strip().upper())\n",
    "    except :\n",
    "        q15.append('NONE')\n",
    "    try :\n",
    "        q16.append(temp[15].strip().upper())\n",
    "    except :\n",
    "        q16.append('NONE')\n",
    "    try :\n",
    "        q17.append(temp[16].strip().upper())\n",
    "    except :\n",
    "        q17.append('NONE')"
   ]
  },
  {
   "cell_type": "code",
   "execution_count": 102,
   "metadata": {},
   "outputs": [],
   "source": [
    "df_doc[\"q1\"]=q1\n",
    "df_doc[\"q2\"]=q2\n",
    "df_doc[\"q3\"]=q3\n",
    "df_doc[\"q4\"]=q4\n",
    "df_doc[\"q5\"]=q5\n",
    "df_doc[\"q6\"]=q6\n",
    "df_doc[\"q7\"]=q7\n",
    "df_doc[\"q8\"]=q8\n",
    "df_doc[\"q9\"]=q9\n",
    "df_doc[\"q10\"]=q10\n",
    "df_doc[\"q11\"]=q11\n",
    "df_doc[\"q12\"]=q12\n",
    "df_doc[\"q13\"]=q13\n",
    "df_doc[\"q14\"]=q14\n",
    "df_doc[\"q15\"]=q15\n",
    "df_doc[\"q16\"]=q16\n",
    "df_doc[\"q17\"]=q17"
   ]
  },
  {
   "cell_type": "code",
   "execution_count": 103,
   "metadata": {},
   "outputs": [
    {
     "data": {
      "text/html": [
       "<div>\n",
       "<style scoped>\n",
       "    .dataframe tbody tr th:only-of-type {\n",
       "        vertical-align: middle;\n",
       "    }\n",
       "\n",
       "    .dataframe tbody tr th {\n",
       "        vertical-align: top;\n",
       "    }\n",
       "\n",
       "    .dataframe thead th {\n",
       "        text-align: right;\n",
       "    }\n",
       "</style>\n",
       "<table border=\"1\" class=\"dataframe\">\n",
       "  <thead>\n",
       "    <tr style=\"text-align: right;\">\n",
       "      <th></th>\n",
       "      <th>Qualification</th>\n",
       "      <th>Experience</th>\n",
       "      <th>Rating</th>\n",
       "      <th>Profile</th>\n",
       "      <th>Miscellaneous_Info</th>\n",
       "      <th>Fees</th>\n",
       "      <th>source</th>\n",
       "      <th>p1</th>\n",
       "      <th>p2</th>\n",
       "      <th>q1</th>\n",
       "      <th>...</th>\n",
       "      <th>q8</th>\n",
       "      <th>q9</th>\n",
       "      <th>q10</th>\n",
       "      <th>q11</th>\n",
       "      <th>q12</th>\n",
       "      <th>q13</th>\n",
       "      <th>q14</th>\n",
       "      <th>q15</th>\n",
       "      <th>q16</th>\n",
       "      <th>q17</th>\n",
       "    </tr>\n",
       "  </thead>\n",
       "  <tbody>\n",
       "    <tr>\n",
       "      <th>1593</th>\n",
       "      <td>Diploma in Diet and Nutrition, BHMS, Diploma i...</td>\n",
       "      <td>10</td>\n",
       "      <td>99.0</td>\n",
       "      <td>Homeopath</td>\n",
       "      <td>Dermabrasion Laser Resurfacing Acne / Pimples ...</td>\n",
       "      <td>500.0</td>\n",
       "      <td>train</td>\n",
       "      <td>GHATKOPAR EAST</td>\n",
       "      <td>MUMBAI</td>\n",
       "      <td>DIPLOMA IN DIET AND NUTRITION</td>\n",
       "      <td>...</td>\n",
       "      <td>FILLERS</td>\n",
       "      <td>THREADLIFTS</td>\n",
       "      <td>NONE</td>\n",
       "      <td>NONE</td>\n",
       "      <td>NONE</td>\n",
       "      <td>NONE</td>\n",
       "      <td>NONE</td>\n",
       "      <td>NONE</td>\n",
       "      <td>NONE</td>\n",
       "      <td>NONE</td>\n",
       "    </tr>\n",
       "    <tr>\n",
       "      <th>2035</th>\n",
       "      <td>Fellowship in Oral implantlogy, Certified Adva...</td>\n",
       "      <td>22</td>\n",
       "      <td>97.0</td>\n",
       "      <td>Dentist</td>\n",
       "      <td>RCT - Root Canal Treatment Cosmetic/ Aesthetic...</td>\n",
       "      <td>300.0</td>\n",
       "      <td>train</td>\n",
       "      <td>ASHOK NAGAR</td>\n",
       "      <td>CHENNAI</td>\n",
       "      <td>FELLOWSHIP IN ORAL IMPLANTLOGY</td>\n",
       "      <td>...</td>\n",
       "      <td>FELLOWSHIP IN ADVANCED ENDOSCOPIC SINUS SURGERY</td>\n",
       "      <td>DEGREE IN DENTAL IMPLANT</td>\n",
       "      <td>FELLOWSHIP IN LASERS &amp; COSMETOLOGY</td>\n",
       "      <td>NONE</td>\n",
       "      <td>NONE</td>\n",
       "      <td>NONE</td>\n",
       "      <td>NONE</td>\n",
       "      <td>NONE</td>\n",
       "      <td>NONE</td>\n",
       "      <td>NONE</td>\n",
       "    </tr>\n",
       "    <tr>\n",
       "      <th>3562</th>\n",
       "      <td>MBBS, Diploma in Family Medicine (DFM), Certif...</td>\n",
       "      <td>5</td>\n",
       "      <td>0.0</td>\n",
       "      <td>General Medicine</td>\n",
       "      <td>missing</td>\n",
       "      <td>700.0</td>\n",
       "      <td>train</td>\n",
       "      <td>COIMBATORE RACECOURSE</td>\n",
       "      <td>COIMBATORE</td>\n",
       "      <td>MBBS</td>\n",
       "      <td>...</td>\n",
       "      <td>CCMTD</td>\n",
       "      <td>NONE</td>\n",
       "      <td>NONE</td>\n",
       "      <td>NONE</td>\n",
       "      <td>NONE</td>\n",
       "      <td>NONE</td>\n",
       "      <td>NONE</td>\n",
       "      <td>NONE</td>\n",
       "      <td>NONE</td>\n",
       "      <td>NONE</td>\n",
       "    </tr>\n",
       "    <tr>\n",
       "      <th>3580</th>\n",
       "      <td>MBBS, MD - General Medicine, Post Graduate Dip...</td>\n",
       "      <td>17</td>\n",
       "      <td>88.0</td>\n",
       "      <td>General Medicine</td>\n",
       "      <td>Non-Invasive Cardiology Chest Pain Treatment C...</td>\n",
       "      <td>100.0</td>\n",
       "      <td>train</td>\n",
       "      <td>GREATER KAILASH PART 1</td>\n",
       "      <td>DELHI</td>\n",
       "      <td>MBBS</td>\n",
       "      <td>...</td>\n",
       "      <td>POST GRADUATE CERTIFICATE IN SPORTS MEDICINE</td>\n",
       "      <td>CLINICAL CARDIOLOGY CERTIFICATION</td>\n",
       "      <td>NONE</td>\n",
       "      <td>NONE</td>\n",
       "      <td>NONE</td>\n",
       "      <td>NONE</td>\n",
       "      <td>NONE</td>\n",
       "      <td>NONE</td>\n",
       "      <td>NONE</td>\n",
       "      <td>NONE</td>\n",
       "    </tr>\n",
       "    <tr>\n",
       "      <th>4174</th>\n",
       "      <td>MBBS, DNB - General Medicine, FRCP, Post Gradu...</td>\n",
       "      <td>29</td>\n",
       "      <td>76.0</td>\n",
       "      <td>General Medicine</td>\n",
       "      <td>76% 8 Feedback Old Rajendra Nagar, Delhi</td>\n",
       "      <td>100.0</td>\n",
       "      <td>train</td>\n",
       "      <td>OLD RAJENDRA NAGAR</td>\n",
       "      <td>DELHI</td>\n",
       "      <td>MBBS</td>\n",
       "      <td>...</td>\n",
       "      <td>EULAR CERTIFICATE FOR RHEUMATIC DISEASES</td>\n",
       "      <td>NONE</td>\n",
       "      <td>NONE</td>\n",
       "      <td>NONE</td>\n",
       "      <td>NONE</td>\n",
       "      <td>NONE</td>\n",
       "      <td>NONE</td>\n",
       "      <td>NONE</td>\n",
       "      <td>NONE</td>\n",
       "      <td>NONE</td>\n",
       "    </tr>\n",
       "    <tr>\n",
       "      <th>5667</th>\n",
       "      <td>MD - CCM, MD - Physician, Post Graduate Diplom...</td>\n",
       "      <td>13</td>\n",
       "      <td>0.0</td>\n",
       "      <td>General Medicine</td>\n",
       "      <td>missing</td>\n",
       "      <td>300.0</td>\n",
       "      <td>train</td>\n",
       "      <td>PUNJAGUTTA</td>\n",
       "      <td>HYDERABAD</td>\n",
       "      <td>MD - CCM</td>\n",
       "      <td>...</td>\n",
       "      <td>POST GRADUATE DIPLOMA IN DIABETOLOGY (PGDD)</td>\n",
       "      <td>MD - CARDIOLOGY</td>\n",
       "      <td>NONE</td>\n",
       "      <td>NONE</td>\n",
       "      <td>NONE</td>\n",
       "      <td>NONE</td>\n",
       "      <td>NONE</td>\n",
       "      <td>NONE</td>\n",
       "      <td>NONE</td>\n",
       "      <td>NONE</td>\n",
       "    </tr>\n",
       "    <tr>\n",
       "      <th>7248</th>\n",
       "      <td>BDS, PG Diploma in Conservative, Endodontics a...</td>\n",
       "      <td>4</td>\n",
       "      <td>100.0</td>\n",
       "      <td>Dentist</td>\n",
       "      <td>Dental Crowns Dental Fillings Dental Implant F...</td>\n",
       "      <td>NaN</td>\n",
       "      <td>test</td>\n",
       "      <td>NEW ASHOK NAGAR</td>\n",
       "      <td>DELHI</td>\n",
       "      <td>BDS</td>\n",
       "      <td>...</td>\n",
       "      <td>FELLOW OF ACADEMY OF GENERAL EDUCATION (FAGE)</td>\n",
       "      <td>ADVANCED RETREATMENT COURSE IN RCT</td>\n",
       "      <td>ADVANCED ENDOTONTIC COURSE ON ROOT CANAL</td>\n",
       "      <td>CERTIFIED COURSE IN ORAL SURGERY</td>\n",
       "      <td>MIDA</td>\n",
       "      <td>CERTIFICATION IN PROSTHODONTICS &amp; PERIODONTOLOGY</td>\n",
       "      <td>CERTIFIED ADVANCED COURSE IN WISDOM TOOTH EXTR...</td>\n",
       "      <td>CERTIFICATE IN COSMETIC DENTISTRY</td>\n",
       "      <td>FELLOWSHIP IN AESTHETIC DENTISTRY (FAD)</td>\n",
       "      <td>POST GRADUATE CERTIFICATE IN ENDODONTICS (PGCE)</td>\n",
       "    </tr>\n",
       "    <tr>\n",
       "      <th>7249</th>\n",
       "      <td>FAMS - Fellowship of the Academy Medicine, MBB...</td>\n",
       "      <td>28</td>\n",
       "      <td>60.0</td>\n",
       "      <td>ENT Specialist</td>\n",
       "      <td>60% 1 Feedback AS Rao Nagar, Hyderabad</td>\n",
       "      <td>NaN</td>\n",
       "      <td>test</td>\n",
       "      <td>AS RAO NAGAR</td>\n",
       "      <td>HYDERABAD</td>\n",
       "      <td>FAMS - FELLOWSHIP OF THE ACADEMY MEDICINE</td>\n",
       "      <td>...</td>\n",
       "      <td>COCHLEAR IMPLANT SURGERY</td>\n",
       "      <td>ADVANCE COURSE ON DIAGNOSIS OF ALLERGY AND IMM...</td>\n",
       "      <td>NONE</td>\n",
       "      <td>NONE</td>\n",
       "      <td>NONE</td>\n",
       "      <td>NONE</td>\n",
       "      <td>NONE</td>\n",
       "      <td>NONE</td>\n",
       "      <td>NONE</td>\n",
       "      <td>NONE</td>\n",
       "    </tr>\n",
       "  </tbody>\n",
       "</table>\n",
       "<p>8 rows × 26 columns</p>\n",
       "</div>"
      ],
      "text/plain": [
       "                                          Qualification  Experience  Rating  \\\n",
       "1593  Diploma in Diet and Nutrition, BHMS, Diploma i...          10    99.0   \n",
       "2035  Fellowship in Oral implantlogy, Certified Adva...          22    97.0   \n",
       "3562  MBBS, Diploma in Family Medicine (DFM), Certif...           5     0.0   \n",
       "3580  MBBS, MD - General Medicine, Post Graduate Dip...          17    88.0   \n",
       "4174  MBBS, DNB - General Medicine, FRCP, Post Gradu...          29    76.0   \n",
       "5667  MD - CCM, MD - Physician, Post Graduate Diplom...          13     0.0   \n",
       "7248  BDS, PG Diploma in Conservative, Endodontics a...           4   100.0   \n",
       "7249  FAMS - Fellowship of the Academy Medicine, MBB...          28    60.0   \n",
       "\n",
       "               Profile                                 Miscellaneous_Info  \\\n",
       "1593         Homeopath  Dermabrasion Laser Resurfacing Acne / Pimples ...   \n",
       "2035           Dentist  RCT - Root Canal Treatment Cosmetic/ Aesthetic...   \n",
       "3562  General Medicine                                            missing   \n",
       "3580  General Medicine  Non-Invasive Cardiology Chest Pain Treatment C...   \n",
       "4174  General Medicine           76% 8 Feedback Old Rajendra Nagar, Delhi   \n",
       "5667  General Medicine                                            missing   \n",
       "7248           Dentist  Dental Crowns Dental Fillings Dental Implant F...   \n",
       "7249    ENT Specialist             60% 1 Feedback AS Rao Nagar, Hyderabad   \n",
       "\n",
       "       Fees source                      p1          p2  \\\n",
       "1593  500.0  train          GHATKOPAR EAST      MUMBAI   \n",
       "2035  300.0  train             ASHOK NAGAR     CHENNAI   \n",
       "3562  700.0  train   COIMBATORE RACECOURSE  COIMBATORE   \n",
       "3580  100.0  train  GREATER KAILASH PART 1       DELHI   \n",
       "4174  100.0  train      OLD RAJENDRA NAGAR       DELHI   \n",
       "5667  300.0  train              PUNJAGUTTA   HYDERABAD   \n",
       "7248    NaN   test         NEW ASHOK NAGAR       DELHI   \n",
       "7249    NaN   test            AS RAO NAGAR   HYDERABAD   \n",
       "\n",
       "                                             q1  ...  \\\n",
       "1593              DIPLOMA IN DIET AND NUTRITION  ...   \n",
       "2035             FELLOWSHIP IN ORAL IMPLANTLOGY  ...   \n",
       "3562                                       MBBS  ...   \n",
       "3580                                       MBBS  ...   \n",
       "4174                                       MBBS  ...   \n",
       "5667                                   MD - CCM  ...   \n",
       "7248                                        BDS  ...   \n",
       "7249  FAMS - FELLOWSHIP OF THE ACADEMY MEDICINE  ...   \n",
       "\n",
       "                                                   q8  \\\n",
       "1593                                          FILLERS   \n",
       "2035  FELLOWSHIP IN ADVANCED ENDOSCOPIC SINUS SURGERY   \n",
       "3562                                            CCMTD   \n",
       "3580     POST GRADUATE CERTIFICATE IN SPORTS MEDICINE   \n",
       "4174         EULAR CERTIFICATE FOR RHEUMATIC DISEASES   \n",
       "5667      POST GRADUATE DIPLOMA IN DIABETOLOGY (PGDD)   \n",
       "7248    FELLOW OF ACADEMY OF GENERAL EDUCATION (FAGE)   \n",
       "7249                         COCHLEAR IMPLANT SURGERY   \n",
       "\n",
       "                                                     q9  \\\n",
       "1593                                        THREADLIFTS   \n",
       "2035                           DEGREE IN DENTAL IMPLANT   \n",
       "3562                                               NONE   \n",
       "3580                  CLINICAL CARDIOLOGY CERTIFICATION   \n",
       "4174                                               NONE   \n",
       "5667                                    MD - CARDIOLOGY   \n",
       "7248                 ADVANCED RETREATMENT COURSE IN RCT   \n",
       "7249  ADVANCE COURSE ON DIAGNOSIS OF ALLERGY AND IMM...   \n",
       "\n",
       "                                           q10  \\\n",
       "1593                                      NONE   \n",
       "2035        FELLOWSHIP IN LASERS & COSMETOLOGY   \n",
       "3562                                      NONE   \n",
       "3580                                      NONE   \n",
       "4174                                      NONE   \n",
       "5667                                      NONE   \n",
       "7248  ADVANCED ENDOTONTIC COURSE ON ROOT CANAL   \n",
       "7249                                      NONE   \n",
       "\n",
       "                                   q11   q12  \\\n",
       "1593                              NONE  NONE   \n",
       "2035                              NONE  NONE   \n",
       "3562                              NONE  NONE   \n",
       "3580                              NONE  NONE   \n",
       "4174                              NONE  NONE   \n",
       "5667                              NONE  NONE   \n",
       "7248  CERTIFIED COURSE IN ORAL SURGERY  MIDA   \n",
       "7249                              NONE  NONE   \n",
       "\n",
       "                                                   q13  \\\n",
       "1593                                              NONE   \n",
       "2035                                              NONE   \n",
       "3562                                              NONE   \n",
       "3580                                              NONE   \n",
       "4174                                              NONE   \n",
       "5667                                              NONE   \n",
       "7248  CERTIFICATION IN PROSTHODONTICS & PERIODONTOLOGY   \n",
       "7249                                              NONE   \n",
       "\n",
       "                                                    q14  \\\n",
       "1593                                               NONE   \n",
       "2035                                               NONE   \n",
       "3562                                               NONE   \n",
       "3580                                               NONE   \n",
       "4174                                               NONE   \n",
       "5667                                               NONE   \n",
       "7248  CERTIFIED ADVANCED COURSE IN WISDOM TOOTH EXTR...   \n",
       "7249                                               NONE   \n",
       "\n",
       "                                    q15  \\\n",
       "1593                               NONE   \n",
       "2035                               NONE   \n",
       "3562                               NONE   \n",
       "3580                               NONE   \n",
       "4174                               NONE   \n",
       "5667                               NONE   \n",
       "7248  CERTIFICATE IN COSMETIC DENTISTRY   \n",
       "7249                               NONE   \n",
       "\n",
       "                                          q16  \\\n",
       "1593                                     NONE   \n",
       "2035                                     NONE   \n",
       "3562                                     NONE   \n",
       "3580                                     NONE   \n",
       "4174                                     NONE   \n",
       "5667                                     NONE   \n",
       "7248  FELLOWSHIP IN AESTHETIC DENTISTRY (FAD)   \n",
       "7249                                     NONE   \n",
       "\n",
       "                                                  q17  \n",
       "1593                                             NONE  \n",
       "2035                                             NONE  \n",
       "3562                                             NONE  \n",
       "3580                                             NONE  \n",
       "4174                                             NONE  \n",
       "5667                                             NONE  \n",
       "7248  POST GRADUATE CERTIFICATE IN ENDODONTICS (PGCE)  \n",
       "7249                                             NONE  \n",
       "\n",
       "[8 rows x 26 columns]"
      ]
     },
     "execution_count": 103,
     "metadata": {},
     "output_type": "execute_result"
    }
   ],
   "source": [
    "df_doc.loc[(df_doc[\"q8\"]!=\"NONE\")|(df_doc[\"q9\"]!=\"NONE\")|(df_doc[\"q10\"]!=\"NONE\")|(df_doc[\"q11\"]!=\"NONE\")|(df_doc[\"q12\"]!=\"NONE\")|(df_doc[\"q13\"]!=\"NONE\")|(df_doc[\"q14\"]!=\"NONE\")|(df_doc[\"q15\"]!=\"NONE\")|(df_doc[\"q16\"]!=\"NONE\")|(df_doc[\"q17\"]!=\"NONE\")]\n",
    "#There are only 8  rows with where either of q8 to 17 is not \"NONE\",so basically q8 to q17 we can simply drop"
   ]
  },
  {
   "cell_type": "code",
   "execution_count": 104,
   "metadata": {},
   "outputs": [],
   "source": [
    "#dropping q8 to q17 as it is importnat only for 8 rows as discussed sbove\n",
    "df_doc.drop(columns=[\"q8\",\"q9\",\"q10\",\"q11\",\"q12\",\"q13\",\"q14\",\"q15\",\"q16\",\"q17\"],inplace=True)"
   ]
  },
  {
   "cell_type": "code",
   "execution_count": 105,
   "metadata": {},
   "outputs": [],
   "source": [
    "#Lets drop \"Qualification\" column\n",
    "df_doc.drop(columns=[\"Qualification\"],inplace=True)"
   ]
  },
  {
   "cell_type": "code",
   "execution_count": 106,
   "metadata": {},
   "outputs": [
    {
     "data": {
      "text/plain": [
       "missing                                                                      3454\n",
       "Acrylic Partial Denture Crowns and Bridges Fixing Artificial Teeth             50\n",
       "Skin Allergy Treatment Skin Allergies Dermabrasion                             18\n",
       "Tooth Extraction Dental Fillings Scaling / Polishing                           16\n",
       "Dental Fillings Zirconia Crowns Dental Implant Fixing                          15\n",
       "                                                                             ... \n",
       "47% 9 Feedback Old Airport Road, Bangalore                                      1\n",
       "Cast Partial Denture Conservative Dentistry Cosmetic/ Aesthetic Dentistry       1\n",
       "HIV Counselling Infectious Disease Treatment Health Checkup (General)           1\n",
       "Crowns and Bridges Fixing Dental Implant Fixing Flap Surgery                    1\n",
       "99% 23 Feedback Tambaram East, Chennai                                          1\n",
       "Name: Miscellaneous_Info, Length: 3981, dtype: int64"
      ]
     },
     "execution_count": 106,
     "metadata": {},
     "output_type": "execute_result"
    }
   ],
   "source": [
    "df_doc[\"Miscellaneous_Info\"].value_counts()"
   ]
  },
  {
   "cell_type": "code",
   "execution_count": 107,
   "metadata": {},
   "outputs": [],
   "source": [
    "#Now lets process the description column so that we can use it in K means\n",
    "#Below function we will use to clean the Description column\n",
    "import re\n",
    "from nltk.stem import WordNetLemmatizer \n",
    "from nltk.corpus import stopwords\n",
    "stop_words=list(stopwords.words('english'))\n",
    "lemmatizer = WordNetLemmatizer() #Initialising the lemmatizer\n",
    "def clean(text):\n",
    "    newstring=\"\"\n",
    "    text=re.sub(\"[\\W*]\",\" \",text)\n",
    "    text=re.sub(\"\\d+[a-z]*\",\" \",text)\n",
    "    text=re.sub(\"\\s+\",\" \",text)\n",
    "    count=0\n",
    "    for word in text.split():\n",
    "        if word not in stop_words:\n",
    "            word=lemmatizer.lemmatize(word)\n",
    "            if count==0:\n",
    "                newstring=newstring+word\n",
    "            if count!=0:\n",
    "                newstring=newstring+\" \"+word\n",
    "            count=count+1\n",
    "    return newstring"
   ]
  },
  {
   "cell_type": "code",
   "execution_count": 108,
   "metadata": {},
   "outputs": [],
   "source": [
    "df_doc[\"Miscellaneous_Info\"]=df_doc[\"Miscellaneous_Info\"].apply(lambda x: clean(x))"
   ]
  },
  {
   "cell_type": "code",
   "execution_count": 109,
   "metadata": {},
   "outputs": [
    {
     "data": {
      "text/plain": [
       "(7948, 1000)"
      ]
     },
     "execution_count": 109,
     "metadata": {},
     "output_type": "execute_result"
    }
   ],
   "source": [
    "#Lets use tf-idf to convert Description into integers\n",
    "from sklearn.feature_extraction.text import TfidfVectorizer\n",
    "vectorizer = TfidfVectorizer(max_features=1000)\n",
    "miss_info = vectorizer.fit_transform(df_doc[\"Miscellaneous_Info\"].to_list())\n",
    "miss_info.shape"
   ]
  },
  {
   "cell_type": "code",
   "execution_count": 110,
   "metadata": {},
   "outputs": [],
   "source": [
    "df_doc_final=pd.concat([df_doc,pd.DataFrame(miss_info.toarray())],axis=1)"
   ]
  },
  {
   "cell_type": "code",
   "execution_count": 111,
   "metadata": {},
   "outputs": [],
   "source": [
    "#lets drop the \"Miscellaneous_Info\" column\n",
    "df_doc.drop(columns=[\"Miscellaneous_Info\"],inplace=True)"
   ]
  },
  {
   "cell_type": "code",
   "execution_count": 112,
   "metadata": {},
   "outputs": [],
   "source": [
    "#Lets do some grpahical analysis"
   ]
  },
  {
   "cell_type": "code",
   "execution_count": 113,
   "metadata": {},
   "outputs": [
    {
     "data": {
      "image/png": "[encoded data removed]",
      "text/plain": [
       "<Figure size 720x360 with 1 Axes>"
      ]
     },
     "metadata": {
      "needs_background": "light"
     },
     "output_type": "display_data"
    }
   ],
   "source": [
    "plt.figure(figsize=(10,5))\n",
    "sns.barplot(x=\"Profile\",y=\"Fees\",data=df_doc_final)\n",
    "plt.show()\n",
    "#Here it is clear that ENT specialist and Dermatologists charge more"
   ]
  },
  {
   "cell_type": "code",
   "execution_count": 114,
   "metadata": {},
   "outputs": [
    {
     "data": {
      "image/png": "[encoded data removed]",
      "text/plain": [
       "<Figure size 720x360 with 1 Axes>"
      ]
     },
     "metadata": {
      "needs_background": "light"
     },
     "output_type": "display_data"
    }
   ],
   "source": [
    "#lets check the averge rate of doctors in a city\n",
    "plt.figure(figsize=(10,5))\n",
    "sns.barplot(x=\"p2\",y=\"Fees\",data=df_doc_final)\n",
    "plt.xticks(rotation=40)\n",
    "plt.show()\n",
    "#In delhi averge fees is maximum compared to other cities"
   ]
  },
  {
   "cell_type": "code",
   "execution_count": 115,
   "metadata": {},
   "outputs": [
    {
     "data": {
      "text/plain": [
       "Index([        'Experience',             'Rating',            'Profile',\n",
       "       'Miscellaneous_Info',               'Fees',             'source',\n",
       "                       'p1',                 'p2',                 'q1',\n",
       "                       'q2',\n",
       "       ...\n",
       "                        990,                  991,                  992,\n",
       "                        993,                  994,                  995,\n",
       "                        996,                  997,                  998,\n",
       "                        999],\n",
       "      dtype='object', length=1015)"
      ]
     },
     "execution_count": 115,
     "metadata": {},
     "output_type": "execute_result"
    }
   ],
   "source": [
    "df_doc_final.columns"
   ]
  },
  {
   "cell_type": "code",
   "execution_count": 116,
   "metadata": {},
   "outputs": [],
   "source": [
    "from sklearn.preprocessing import LabelEncoder\n",
    "for col in df_doc_final.columns:\n",
    "    if df_doc_final[col].dtype==\"object\":\n",
    "        df_doc_final[col]=LabelEncoder().fit_transform(df_doc_final[col])"
   ]
  },
  {
   "cell_type": "code",
   "execution_count": 117,
   "metadata": {},
   "outputs": [
    {
     "data": {
      "text/html": [
       "<div>\n",
       "<style scoped>\n",
       "    .dataframe tbody tr th:only-of-type {\n",
       "        vertical-align: middle;\n",
       "    }\n",
       "\n",
       "    .dataframe tbody tr th {\n",
       "        vertical-align: top;\n",
       "    }\n",
       "\n",
       "    .dataframe thead th {\n",
       "        text-align: right;\n",
       "    }\n",
       "</style>\n",
       "<table border=\"1\" class=\"dataframe\">\n",
       "  <thead>\n",
       "    <tr style=\"text-align: right;\">\n",
       "      <th></th>\n",
       "      <th>Experience</th>\n",
       "      <th>Rating</th>\n",
       "      <th>Profile</th>\n",
       "      <th>Miscellaneous_Info</th>\n",
       "      <th>Fees</th>\n",
       "      <th>source</th>\n",
       "      <th>p1</th>\n",
       "      <th>p2</th>\n",
       "      <th>q1</th>\n",
       "      <th>q2</th>\n",
       "      <th>...</th>\n",
       "      <th>990</th>\n",
       "      <th>991</th>\n",
       "      <th>992</th>\n",
       "      <th>993</th>\n",
       "      <th>994</th>\n",
       "      <th>995</th>\n",
       "      <th>996</th>\n",
       "      <th>997</th>\n",
       "      <th>998</th>\n",
       "      <th>999</th>\n",
       "    </tr>\n",
       "  </thead>\n",
       "  <tbody>\n",
       "    <tr>\n",
       "      <th>0</th>\n",
       "      <td>24</td>\n",
       "      <td>100.0</td>\n",
       "      <td>5</td>\n",
       "      <td>968</td>\n",
       "      <td>100.0</td>\n",
       "      <td>1</td>\n",
       "      <td>321</td>\n",
       "      <td>4</td>\n",
       "      <td>8</td>\n",
       "      <td>302</td>\n",
       "      <td>...</td>\n",
       "      <td>0.0</td>\n",
       "      <td>0.0</td>\n",
       "      <td>0.0</td>\n",
       "      <td>0.0</td>\n",
       "      <td>0.0</td>\n",
       "      <td>0.0</td>\n",
       "      <td>0.0</td>\n",
       "      <td>0.0</td>\n",
       "      <td>0.0</td>\n",
       "      <td>0.0</td>\n",
       "    </tr>\n",
       "    <tr>\n",
       "      <th>1</th>\n",
       "      <td>12</td>\n",
       "      <td>98.0</td>\n",
       "      <td>0</td>\n",
       "      <td>1300</td>\n",
       "      <td>350.0</td>\n",
       "      <td>1</td>\n",
       "      <td>926</td>\n",
       "      <td>0</td>\n",
       "      <td>5</td>\n",
       "      <td>292</td>\n",
       "      <td>...</td>\n",
       "      <td>0.0</td>\n",
       "      <td>0.0</td>\n",
       "      <td>0.0</td>\n",
       "      <td>0.0</td>\n",
       "      <td>0.0</td>\n",
       "      <td>0.0</td>\n",
       "      <td>0.0</td>\n",
       "      <td>0.0</td>\n",
       "      <td>0.0</td>\n",
       "      <td>0.0</td>\n",
       "    </tr>\n",
       "    <tr>\n",
       "      <th>2</th>\n",
       "      <td>9</td>\n",
       "      <td>0.0</td>\n",
       "      <td>3</td>\n",
       "      <td>2362</td>\n",
       "      <td>300.0</td>\n",
       "      <td>1</td>\n",
       "      <td>492</td>\n",
       "      <td>0</td>\n",
       "      <td>102</td>\n",
       "      <td>396</td>\n",
       "      <td>...</td>\n",
       "      <td>0.0</td>\n",
       "      <td>0.0</td>\n",
       "      <td>0.0</td>\n",
       "      <td>0.0</td>\n",
       "      <td>0.0</td>\n",
       "      <td>0.0</td>\n",
       "      <td>0.0</td>\n",
       "      <td>0.0</td>\n",
       "      <td>0.0</td>\n",
       "      <td>0.0</td>\n",
       "    </tr>\n",
       "    <tr>\n",
       "      <th>3</th>\n",
       "      <td>12</td>\n",
       "      <td>0.0</td>\n",
       "      <td>0</td>\n",
       "      <td>178</td>\n",
       "      <td>250.0</td>\n",
       "      <td>1</td>\n",
       "      <td>70</td>\n",
       "      <td>0</td>\n",
       "      <td>14</td>\n",
       "      <td>10</td>\n",
       "      <td>...</td>\n",
       "      <td>0.0</td>\n",
       "      <td>0.0</td>\n",
       "      <td>0.0</td>\n",
       "      <td>0.0</td>\n",
       "      <td>0.0</td>\n",
       "      <td>0.0</td>\n",
       "      <td>0.0</td>\n",
       "      <td>0.0</td>\n",
       "      <td>0.0</td>\n",
       "      <td>0.0</td>\n",
       "    </tr>\n",
       "    <tr>\n",
       "      <th>4</th>\n",
       "      <td>20</td>\n",
       "      <td>100.0</td>\n",
       "      <td>0</td>\n",
       "      <td>993</td>\n",
       "      <td>250.0</td>\n",
       "      <td>1</td>\n",
       "      <td>364</td>\n",
       "      <td>1</td>\n",
       "      <td>5</td>\n",
       "      <td>411</td>\n",
       "      <td>...</td>\n",
       "      <td>0.0</td>\n",
       "      <td>0.0</td>\n",
       "      <td>0.0</td>\n",
       "      <td>0.0</td>\n",
       "      <td>0.0</td>\n",
       "      <td>0.0</td>\n",
       "      <td>0.0</td>\n",
       "      <td>0.0</td>\n",
       "      <td>0.0</td>\n",
       "      <td>0.0</td>\n",
       "    </tr>\n",
       "    <tr>\n",
       "      <th>...</th>\n",
       "      <td>...</td>\n",
       "      <td>...</td>\n",
       "      <td>...</td>\n",
       "      <td>...</td>\n",
       "      <td>...</td>\n",
       "      <td>...</td>\n",
       "      <td>...</td>\n",
       "      <td>...</td>\n",
       "      <td>...</td>\n",
       "      <td>...</td>\n",
       "      <td>...</td>\n",
       "      <td>...</td>\n",
       "      <td>...</td>\n",
       "      <td>...</td>\n",
       "      <td>...</td>\n",
       "      <td>...</td>\n",
       "      <td>...</td>\n",
       "      <td>...</td>\n",
       "      <td>...</td>\n",
       "      <td>...</td>\n",
       "      <td>...</td>\n",
       "    </tr>\n",
       "    <tr>\n",
       "      <th>7943</th>\n",
       "      <td>10</td>\n",
       "      <td>0.0</td>\n",
       "      <td>0</td>\n",
       "      <td>2362</td>\n",
       "      <td>NaN</td>\n",
       "      <td>0</td>\n",
       "      <td>72</td>\n",
       "      <td>0</td>\n",
       "      <td>5</td>\n",
       "      <td>172</td>\n",
       "      <td>...</td>\n",
       "      <td>0.0</td>\n",
       "      <td>0.0</td>\n",
       "      <td>0.0</td>\n",
       "      <td>0.0</td>\n",
       "      <td>0.0</td>\n",
       "      <td>0.0</td>\n",
       "      <td>0.0</td>\n",
       "      <td>0.0</td>\n",
       "      <td>0.0</td>\n",
       "      <td>0.0</td>\n",
       "    </tr>\n",
       "    <tr>\n",
       "      <th>7944</th>\n",
       "      <td>4</td>\n",
       "      <td>0.0</td>\n",
       "      <td>2</td>\n",
       "      <td>2362</td>\n",
       "      <td>NaN</td>\n",
       "      <td>0</td>\n",
       "      <td>133</td>\n",
       "      <td>1</td>\n",
       "      <td>111</td>\n",
       "      <td>493</td>\n",
       "      <td>...</td>\n",
       "      <td>0.0</td>\n",
       "      <td>0.0</td>\n",
       "      <td>0.0</td>\n",
       "      <td>0.0</td>\n",
       "      <td>0.0</td>\n",
       "      <td>0.0</td>\n",
       "      <td>0.0</td>\n",
       "      <td>0.0</td>\n",
       "      <td>0.0</td>\n",
       "      <td>0.0</td>\n",
       "    </tr>\n",
       "    <tr>\n",
       "      <th>7945</th>\n",
       "      <td>9</td>\n",
       "      <td>0.0</td>\n",
       "      <td>4</td>\n",
       "      <td>2362</td>\n",
       "      <td>NaN</td>\n",
       "      <td>0</td>\n",
       "      <td>659</td>\n",
       "      <td>1</td>\n",
       "      <td>102</td>\n",
       "      <td>332</td>\n",
       "      <td>...</td>\n",
       "      <td>0.0</td>\n",
       "      <td>0.0</td>\n",
       "      <td>0.0</td>\n",
       "      <td>0.0</td>\n",
       "      <td>0.0</td>\n",
       "      <td>0.0</td>\n",
       "      <td>0.0</td>\n",
       "      <td>0.0</td>\n",
       "      <td>0.0</td>\n",
       "      <td>0.0</td>\n",
       "    </tr>\n",
       "    <tr>\n",
       "      <th>7946</th>\n",
       "      <td>12</td>\n",
       "      <td>98.0</td>\n",
       "      <td>1</td>\n",
       "      <td>1965</td>\n",
       "      <td>NaN</td>\n",
       "      <td>0</td>\n",
       "      <td>33</td>\n",
       "      <td>0</td>\n",
       "      <td>6</td>\n",
       "      <td>411</td>\n",
       "      <td>...</td>\n",
       "      <td>0.0</td>\n",
       "      <td>0.0</td>\n",
       "      <td>0.0</td>\n",
       "      <td>0.0</td>\n",
       "      <td>0.0</td>\n",
       "      <td>0.0</td>\n",
       "      <td>0.0</td>\n",
       "      <td>0.0</td>\n",
       "      <td>0.0</td>\n",
       "      <td>0.0</td>\n",
       "    </tr>\n",
       "    <tr>\n",
       "      <th>7947</th>\n",
       "      <td>8</td>\n",
       "      <td>0.0</td>\n",
       "      <td>2</td>\n",
       "      <td>1125</td>\n",
       "      <td>NaN</td>\n",
       "      <td>0</td>\n",
       "      <td>607</td>\n",
       "      <td>1</td>\n",
       "      <td>102</td>\n",
       "      <td>296</td>\n",
       "      <td>...</td>\n",
       "      <td>0.0</td>\n",
       "      <td>0.0</td>\n",
       "      <td>0.0</td>\n",
       "      <td>0.0</td>\n",
       "      <td>0.0</td>\n",
       "      <td>0.0</td>\n",
       "      <td>0.0</td>\n",
       "      <td>0.0</td>\n",
       "      <td>0.0</td>\n",
       "      <td>0.0</td>\n",
       "    </tr>\n",
       "  </tbody>\n",
       "</table>\n",
       "<p>7948 rows × 1015 columns</p>\n",
       "</div>"
      ],
      "text/plain": [
       "      Experience  Rating  Profile  Miscellaneous_Info   Fees  source   p1  p2  \\\n",
       "0             24   100.0        5                 968  100.0       1  321   4   \n",
       "1             12    98.0        0                1300  350.0       1  926   0   \n",
       "2              9     0.0        3                2362  300.0       1  492   0   \n",
       "3             12     0.0        0                 178  250.0       1   70   0   \n",
       "4             20   100.0        0                 993  250.0       1  364   1   \n",
       "...          ...     ...      ...                 ...    ...     ...  ...  ..   \n",
       "7943          10     0.0        0                2362    NaN       0   72   0   \n",
       "7944           4     0.0        2                2362    NaN       0  133   1   \n",
       "7945           9     0.0        4                2362    NaN       0  659   1   \n",
       "7946          12    98.0        1                1965    NaN       0   33   0   \n",
       "7947           8     0.0        2                1125    NaN       0  607   1   \n",
       "\n",
       "       q1   q2  ...  990  991  992  993  994  995  996  997  998  999  \n",
       "0       8  302  ...  0.0  0.0  0.0  0.0  0.0  0.0  0.0  0.0  0.0  0.0  \n",
       "1       5  292  ...  0.0  0.0  0.0  0.0  0.0  0.0  0.0  0.0  0.0  0.0  \n",
       "2     102  396  ...  0.0  0.0  0.0  0.0  0.0  0.0  0.0  0.0  0.0  0.0  \n",
       "3      14   10  ...  0.0  0.0  0.0  0.0  0.0  0.0  0.0  0.0  0.0  0.0  \n",
       "4       5  411  ...  0.0  0.0  0.0  0.0  0.0  0.0  0.0  0.0  0.0  0.0  \n",
       "...   ...  ...  ...  ...  ...  ...  ...  ...  ...  ...  ...  ...  ...  \n",
       "7943    5  172  ...  0.0  0.0  0.0  0.0  0.0  0.0  0.0  0.0  0.0  0.0  \n",
       "7944  111  493  ...  0.0  0.0  0.0  0.0  0.0  0.0  0.0  0.0  0.0  0.0  \n",
       "7945  102  332  ...  0.0  0.0  0.0  0.0  0.0  0.0  0.0  0.0  0.0  0.0  \n",
       "7946    6  411  ...  0.0  0.0  0.0  0.0  0.0  0.0  0.0  0.0  0.0  0.0  \n",
       "7947  102  296  ...  0.0  0.0  0.0  0.0  0.0  0.0  0.0  0.0  0.0  0.0  \n",
       "\n",
       "[7948 rows x 1015 columns]"
      ]
     },
     "execution_count": 117,
     "metadata": {},
     "output_type": "execute_result"
    }
   ],
   "source": [
    "df_doc_final"
   ]
  },
  {
   "cell_type": "code",
   "execution_count": 118,
   "metadata": {},
   "outputs": [],
   "source": [
    "#lets seprate test and train data\n",
    "df_train=df_doc_final.loc[df_doc_final[\"source\"]==1]\n",
    "df_test=df_doc_final.loc[df_doc_final[\"source\"]==0]"
   ]
  },
  {
   "cell_type": "code",
   "execution_count": 119,
   "metadata": {},
   "outputs": [],
   "source": [
    "#Resetting the index\n",
    "df_test.reset_index(drop=True,inplace=True)"
   ]
  },
  {
   "cell_type": "code",
   "execution_count": 120,
   "metadata": {},
   "outputs": [
    {
     "name": "stderr",
     "output_type": "stream",
     "text": [
      "C:\\Users\\pc\\anaconda3\\lib\\site-packages\\pandas\\core\\frame.py:3997: SettingWithCopyWarning: \n",
      "A value is trying to be set on a copy of a slice from a DataFrame\n",
      "\n",
      "See the caveats in the documentation: https://pandas.pydata.org/pandas-docs/stable/user_guide/indexing.html#returning-a-view-versus-a-copy\n",
      "  errors=errors,\n"
     ]
    }
   ],
   "source": [
    "#Dropping the source column\n",
    "df_train.drop(columns=[\"source\"],inplace=True)\n",
    "df_test.drop(columns=[\"source\"],inplace=True)"
   ]
  },
  {
   "cell_type": "code",
   "execution_count": 121,
   "metadata": {},
   "outputs": [],
   "source": [
    "#Lets seprate the input and output from train dataset\n",
    "df_x=df_train.drop(columns=[\"Fees\"])\n",
    "y=df_train[[\"Fees\"]]"
   ]
  },
  {
   "cell_type": "code",
   "execution_count": 122,
   "metadata": {},
   "outputs": [],
   "source": [
    "#Lets bring every column to common scale\n",
    "from sklearn.preprocessing import StandardScaler\n",
    "sc = StandardScaler()\n",
    "X = sc.fit_transform(df_x)\n",
    "X=pd.DataFrame(X,columns=df_x.columns)"
   ]
  },
  {
   "cell_type": "code",
   "execution_count": 123,
   "metadata": {},
   "outputs": [],
   "source": [
    "from sklearn.model_selection import train_test_split\n",
    "X_train, X_cv, y_train, y_cv = train_test_split(X, y, test_size=0.25, random_state=1)"
   ]
  },
  {
   "cell_type": "code",
   "execution_count": 124,
   "metadata": {},
   "outputs": [
    {
     "data": {
      "text/plain": [
       "((4470, 1013), (4470, 1), (1491, 1013), (1491, 1))"
      ]
     },
     "execution_count": 124,
     "metadata": {},
     "output_type": "execute_result"
    }
   ],
   "source": [
    "X_train.shape, y_train.shape, X_cv.shape, y_cv.shape"
   ]
  },
  {
   "cell_type": "code",
   "execution_count": 125,
   "metadata": {},
   "outputs": [
    {
     "data": {
      "text/plain": [
       "Index([        'Experience',             'Rating',            'Profile',\n",
       "       'Miscellaneous_Info',                 'p1',                 'p2',\n",
       "                       'q1',                 'q2',                 'q3',\n",
       "                       'q4',\n",
       "       ...\n",
       "                        990,                  991,                  992,\n",
       "                        993,                  994,                  995,\n",
       "                        996,                  997,                  998,\n",
       "                        999],\n",
       "      dtype='object', length=1013)"
      ]
     },
     "execution_count": 125,
     "metadata": {},
     "output_type": "execute_result"
    }
   ],
   "source": [
    "X_train.columns"
   ]
  },
  {
   "cell_type": "code",
   "execution_count": 127,
   "metadata": {},
   "outputs": [
    {
     "name": "stdout",
     "output_type": "stream",
     "text": [
      "RMSLE: 0.5823278847294342\n"
     ]
    }
   ],
   "source": [
    "from math import sqrt \n",
    "from sklearn.metrics import mean_squared_log_error, mean_squared_error\n",
    "from xgboost import XGBRegressor\n",
    "xgb = XGBRegressor(learning_rate=0.02, \n",
    "                   gamma=100, \n",
    "                   max_depth=25,  \n",
    "                   min_child_weight=1, \n",
    "                   max_delta_step=0, \n",
    "                   subsample=0.75,  \n",
    "                   colsample_bylevel=0.95,  \n",
    "                   colsample_bytree=0.70,  \n",
    "                   reg_lambda=1)\n",
    "xgb.fit(X_train, y_train)\n",
    "y_pred1 = xgb.predict(X_cv)\n",
    "y_pred1 = y_pred1.astype(int)\n",
    "print('RMSLE:', sqrt(mean_squared_log_error(y_cv, y_pred1)))"
   ]
  },
  {
   "cell_type": "code",
   "execution_count": 128,
   "metadata": {},
   "outputs": [
    {
     "name": "stderr",
     "output_type": "stream",
     "text": [
      "C:\\Users\\pc\\anaconda3\\lib\\site-packages\\lightgbm\\engine.py:151: UserWarning: Found `num_iterations` in params. Will use it instead of argument\n",
      "  warnings.warn(\"Found `{}` in params. Will use it instead of argument\".format(alias))\n"
     ]
    },
    {
     "name": "stdout",
     "output_type": "stream",
     "text": [
      "[LightGBM] [Warning] Auto-choosing row-wise multi-threading, the overhead of testing was 0.014906 seconds.\n",
      "You can set `force_row_wise=true` to remove the overhead.\n",
      "And if memory is not enough, you can set `force_col_wise=true`.\n",
      "[LightGBM] [Info] Total Bins 1759\n",
      "[LightGBM] [Info] Number of data points in the train set: 4470, number of used features: 548\n",
      "[LightGBM] [Info] Start training from score 307.347651\n",
      "RMSLE: 0.5940293662939693\n"
     ]
    }
   ],
   "source": [
    "import lightgbm as lgb\n",
    "train_data = lgb.Dataset(X_train, label=y_train)\n",
    "test_data = lgb.Dataset(X_cv, label=y_cv)\n",
    "\n",
    "param = {'objective': 'regression',\n",
    "         'boosting': 'dart',\n",
    "         'num_iterations': 152,   \n",
    "         'learning_rate': 0.1,  \n",
    "         'num_leaves': 52, \n",
    "         'max_depth': 28, \n",
    "         'min_data_in_leaf': 3, \n",
    "         'feature_fraction': 0.66,  \n",
    "         'feature_fraction_seed': 10,\n",
    "         'drop_seed': 4,\n",
    "         'alpha': 100,\n",
    "         'max_bin': 7,\n",
    "         'min_data_in_bin': 45,   \n",
    "         'metric': 'l2_root'\n",
    "         }\n",
    "\n",
    "lgbm = lgb.train(params=param,\n",
    "                 verbose_eval=0,\n",
    "                 train_set=train_data,\n",
    "                 valid_sets=[test_data])\n",
    "\n",
    "y_pred2 = lgbm.predict(X_cv)\n",
    "print('RMSLE:', sqrt(mean_squared_log_error(y_cv, y_pred2)))"
   ]
  },
  {
   "cell_type": "code",
   "execution_count": 130,
   "metadata": {},
   "outputs": [
    {
     "name": "stderr",
     "output_type": "stream",
     "text": [
      "C:\\Users\\pc\\anaconda3\\lib\\site-packages\\sklearn\\utils\\validation.py:73: DataConversionWarning: A column-vector y was passed when a 1d array was expected. Please change the shape of y to (n_samples, ), for example using ravel().\n",
      "  return f(**kwargs)\n"
     ]
    },
    {
     "name": "stdout",
     "output_type": "stream",
     "text": [
      "RMSLE: 0.6051860559629337\n",
      "RMSE: 165.92165194435222\n"
     ]
    }
   ],
   "source": [
    "from sklearn.ensemble import BaggingRegressor\n",
    "br = BaggingRegressor(base_estimator=None, \n",
    "                      n_estimators=80,  \n",
    "                      max_samples=1.0, \n",
    "                      max_features=1.0, \n",
    "                      bootstrap=True, \n",
    "                      bootstrap_features=True,\n",
    "                      oob_score=True,\n",
    "                      n_jobs=None, \n",
    "                      random_state=13, \n",
    "                      verbose=0)\n",
    "br.fit(X_train, y_train)\n",
    "y_pred5 = br.predict(X_cv)\n",
    "print('RMSLE:', sqrt(mean_squared_log_error(y_cv, y_pred5)))\n",
    "print('RMSE:', sqrt(mean_squared_error(y_cv, y_pred5)))"
   ]
  },
  {
   "cell_type": "code",
   "execution_count": 131,
   "metadata": {},
   "outputs": [
    {
     "name": "stderr",
     "output_type": "stream",
     "text": [
      "C:\\Users\\pc\\anaconda3\\lib\\site-packages\\sklearn\\utils\\validation.py:73: DataConversionWarning: A column-vector y was passed when a 1d array was expected. Please change the shape of y to (n_samples, ), for example using ravel().\n",
      "  return f(**kwargs)\n"
     ]
    },
    {
     "name": "stdout",
     "output_type": "stream",
     "text": [
      "RMSLE: 0.5870399774288234\n"
     ]
    }
   ],
   "source": [
    "from sklearn.ensemble import GradientBoostingRegressor\n",
    "gb = GradientBoostingRegressor(loss='lad', \n",
    "                               learning_rate=0.2,  \n",
    "                               random_state=10, \n",
    "                               n_estimators=92,   \n",
    "                               max_depth=11,  \n",
    "                               subsample=1.0, \n",
    "                               min_samples_split=40, \n",
    "                               min_samples_leaf=1,\n",
    "                               max_features='auto')\n",
    "gb.fit(X_train, y_train)\n",
    "y_pred3 = gb.predict(X_cv)\n",
    "print('RMSLE:', sqrt(mean_squared_log_error(y_cv, y_pred3)))"
   ]
  },
  {
   "cell_type": "code",
   "execution_count": 132,
   "metadata": {},
   "outputs": [
    {
     "name": "stderr",
     "output_type": "stream",
     "text": [
      "C:\\Users\\pc\\anaconda3\\lib\\site-packages\\ipykernel_launcher.py:15: DataConversionWarning: A column-vector y was passed when a 1d array was expected. Please change the shape of y to (n_samples,), for example using ravel().\n",
      "  from ipykernel import kernelapp as app\n"
     ]
    },
    {
     "name": "stdout",
     "output_type": "stream",
     "text": [
      "RMSLE: 0.6117385543937554\n"
     ]
    }
   ],
   "source": [
    "from sklearn.ensemble import RandomForestRegressor\n",
    "rf = RandomForestRegressor(n_estimators=29,  \n",
    "                           criterion='mse', \n",
    "                           max_depth=58,  \n",
    "                           min_samples_split=5, \n",
    "                           min_samples_leaf=2, \n",
    "                           min_weight_fraction_leaf=0.0, \n",
    "                           max_features='auto', \n",
    "                           max_leaf_nodes=None, \n",
    "                           min_impurity_decrease=0.20,  \n",
    "                           bootstrap=True, \n",
    "                           oob_score=True, \n",
    "                           n_jobs=-1, \n",
    "                           random_state=11)  \n",
    "rf.fit(X_train, y_train)\n",
    "y_pred4 = rf.predict(X_cv)\n",
    "print('RMSLE:', sqrt(mean_squared_log_error(y_cv, y_pred4)))"
   ]
  },
  {
   "cell_type": "code",
   "execution_count": 133,
   "metadata": {},
   "outputs": [
    {
     "name": "stdout",
     "output_type": "stream",
     "text": [
      "RMSLE: 0.5800739104105584\n"
     ]
    }
   ],
   "source": [
    "y_predx = y_pred1*.4 + y_pred2*0.5 + y_pred3*0.1\n",
    "y_predx = y_predx.astype(int)\n",
    "print('RMSLE:', sqrt(mean_squared_log_error(y_cv, y_predx)))"
   ]
  },
  {
   "cell_type": "code",
   "execution_count": 134,
   "metadata": {},
   "outputs": [
    {
     "name": "stdout",
     "output_type": "stream",
     "text": [
      "RMSLE: 0.5795367057638082\n"
     ]
    }
   ],
   "source": [
    "y_predy = y_pred1*0.40 + y_pred2*0.45 + y_pred3*0.10 + y_pred5*0.05\n",
    "y_predy = y_predy.astype(int)\n",
    "print('RMSLE:', sqrt(mean_squared_log_error(y_cv, y_predy)))"
   ]
  },
  {
   "cell_type": "code",
   "execution_count": 135,
   "metadata": {},
   "outputs": [
    {
     "name": "stdout",
     "output_type": "stream",
     "text": [
      "RMSLE: 0.5799477120911097\n"
     ]
    }
   ],
   "source": [
    "y_pred = y_predx*.98 + y_predy*0.02\n",
    "y_pred = y_pred.astype(int)\n",
    "print('RMSLE:', sqrt(mean_squared_log_error(y_cv, y_pred)))"
   ]
  },
  {
   "cell_type": "code",
   "execution_count": 136,
   "metadata": {},
   "outputs": [],
   "source": [
    "#Now, predict on test set"
   ]
  },
  {
   "cell_type": "code",
   "execution_count": 138,
   "metadata": {},
   "outputs": [],
   "source": [
    "X_train = X\n",
    "y_train = y"
   ]
  },
  {
   "cell_type": "code",
   "execution_count": 142,
   "metadata": {},
   "outputs": [],
   "source": [
    "df_test=df_test.drop(labels='Fees', axis=1)"
   ]
  },
  {
   "cell_type": "code",
   "execution_count": 143,
   "metadata": {
    "scrolled": true
   },
   "outputs": [],
   "source": [
    "#Lets bring every column to common scale\n",
    "from sklearn.preprocessing import StandardScaler\n",
    "sc = StandardScaler()\n",
    "X_test= sc.fit_transform(df_test)\n",
    "X_test=pd.DataFrame(X_test,columns=df_test.columns)"
   ]
  },
  {
   "cell_type": "code",
   "execution_count": 144,
   "metadata": {},
   "outputs": [],
   "source": [
    "from xgboost import XGBRegressor\n",
    "xgb = XGBRegressor(learning_rate=0.02, \n",
    "                   gamma=100, \n",
    "                   max_depth=25,  \n",
    "                   min_child_weight=1, \n",
    "                   max_delta_step=0, \n",
    "                   subsample=0.75,  \n",
    "                   colsample_bylevel=0.95,  \n",
    "                   colsample_bytree=0.70,  \n",
    "                   reg_lambda=1)\n",
    "xgb.fit(X_train, y_train)\n",
    "y_pred1 = xgb.predict(X_test)"
   ]
  },
  {
   "cell_type": "code",
   "execution_count": 145,
   "metadata": {},
   "outputs": [
    {
     "name": "stderr",
     "output_type": "stream",
     "text": [
      "C:\\Users\\pc\\anaconda3\\lib\\site-packages\\lightgbm\\engine.py:151: UserWarning: Found `num_iterations` in params. Will use it instead of argument\n",
      "  warnings.warn(\"Found `{}` in params. Will use it instead of argument\".format(alias))\n"
     ]
    },
    {
     "name": "stdout",
     "output_type": "stream",
     "text": [
      "[LightGBM] [Warning] Auto-choosing row-wise multi-threading, the overhead of testing was 0.013976 seconds.\n",
      "You can set `force_row_wise=true` to remove the overhead.\n",
      "And if memory is not enough, you can set `force_col_wise=true`.\n",
      "[LightGBM] [Info] Total Bins 2065\n",
      "[LightGBM] [Info] Number of data points in the train set: 5961, number of used features: 641\n",
      "[LightGBM] [Info] Start training from score 307.944640\n"
     ]
    }
   ],
   "source": [
    "import lightgbm as lgb\n",
    "train_data = lgb.Dataset(X_train, label=y_train)\n",
    "\n",
    "param = {'objective': 'regression',\n",
    "         'boosting': 'dart',\n",
    "         'num_iterations': 137,   \n",
    "         'learning_rate': 0.1,\n",
    "         'num_leaves': 52,   \n",
    "         'max_depth': 33,   \n",
    "         'min_data_in_leaf': 3,  \n",
    "         'feature_fraction': 0.54,  \n",
    "         'feature_fraction_seed': 50,  \n",
    "         'alpha': 100,\n",
    "         'max_bin': 7,\n",
    "         'min_data_in_bin': 45,   \n",
    "         'metric': 'l2_root'\n",
    "         }\n",
    "\n",
    "lgbm = lgb.train(params=param,\n",
    "                 train_set=train_data)\n",
    "\n",
    "y_pred2 = lgbm.predict(X_test)"
   ]
  },
  {
   "cell_type": "code",
   "execution_count": 146,
   "metadata": {},
   "outputs": [
    {
     "name": "stderr",
     "output_type": "stream",
     "text": [
      "C:\\Users\\pc\\anaconda3\\lib\\site-packages\\sklearn\\utils\\validation.py:73: DataConversionWarning: A column-vector y was passed when a 1d array was expected. Please change the shape of y to (n_samples, ), for example using ravel().\n",
      "  return f(**kwargs)\n"
     ]
    }
   ],
   "source": [
    "from sklearn.ensemble import BaggingRegressor\n",
    "br = BaggingRegressor(base_estimator=None, \n",
    "                      n_estimators=80,  \n",
    "                      max_samples=1.0, \n",
    "                      max_features=1.0, \n",
    "                      bootstrap=True, \n",
    "                      bootstrap_features=True,\n",
    "                      oob_score=True,\n",
    "                      n_jobs=None, \n",
    "                      random_state=13, #4\n",
    "                      verbose=0)\n",
    "br.fit(X_train, y_train)\n",
    "y_pred5 = br.predict(X_test)"
   ]
  },
  {
   "cell_type": "code",
   "execution_count": 147,
   "metadata": {},
   "outputs": [
    {
     "name": "stderr",
     "output_type": "stream",
     "text": [
      "C:\\Users\\pc\\anaconda3\\lib\\site-packages\\sklearn\\utils\\validation.py:73: DataConversionWarning: A column-vector y was passed when a 1d array was expected. Please change the shape of y to (n_samples, ), for example using ravel().\n",
      "  return f(**kwargs)\n"
     ]
    }
   ],
   "source": [
    "from sklearn.ensemble import GradientBoostingRegressor\n",
    "gb = GradientBoostingRegressor(loss='lad', \n",
    "                               learning_rate=0.2, #0.2\n",
    "                               random_state=10, \n",
    "                               n_estimators=92,   \n",
    "                               max_depth=11, #11, \n",
    "                               subsample=1.0, \n",
    "                               min_samples_split=40, \n",
    "                               min_samples_leaf=1,\n",
    "                               max_features='auto')\n",
    "gb.fit(X_train, y_train)\n",
    "y_pred3 = gb.predict(X_test)"
   ]
  },
  {
   "cell_type": "code",
   "execution_count": 148,
   "metadata": {},
   "outputs": [
    {
     "name": "stderr",
     "output_type": "stream",
     "text": [
      "C:\\Users\\pc\\anaconda3\\lib\\site-packages\\ipykernel_launcher.py:15: DataConversionWarning: A column-vector y was passed when a 1d array was expected. Please change the shape of y to (n_samples,), for example using ravel().\n",
      "  from ipykernel import kernelapp as app\n"
     ]
    }
   ],
   "source": [
    "from sklearn.ensemble import RandomForestRegressor\n",
    "rf = RandomForestRegressor(n_estimators=29, #25, 29\n",
    "                           criterion='mse', \n",
    "                           max_depth=58, #55, 58\n",
    "                           min_samples_split=5, \n",
    "                           min_samples_leaf=2, \n",
    "                           min_weight_fraction_leaf=0.0, \n",
    "                           max_features='auto', \n",
    "                           max_leaf_nodes=None, \n",
    "                           min_impurity_decrease=0.20, #0.20, \n",
    "                           bootstrap=True, \n",
    "                           oob_score=True, \n",
    "                           n_jobs=-1, \n",
    "                           random_state=11) \n",
    "rf.fit(X_train, y_train)\n",
    "y_pred4 = rf.predict(X_test)"
   ]
  },
  {
   "cell_type": "code",
   "execution_count": 149,
   "metadata": {},
   "outputs": [
    {
     "data": {
      "text/plain": [
       "((1987,), (1987,), (1987,), (1987,), (1987,))"
      ]
     },
     "execution_count": 149,
     "metadata": {},
     "output_type": "execute_result"
    }
   ],
   "source": [
    "y_pred1.shape, y_pred2.shape, y_pred3.shape, y_pred4.shape, y_pred5.shape"
   ]
  },
  {
   "cell_type": "code",
   "execution_count": 150,
   "metadata": {},
   "outputs": [],
   "source": [
    "y_predx = y_pred1*.4 + y_pred2*0.5 + y_pred3*0.10\n",
    "y_predx = y_predx.astype(int)"
   ]
  },
  {
   "cell_type": "code",
   "execution_count": 151,
   "metadata": {},
   "outputs": [],
   "source": [
    "y_predy = y_pred1*0.40 + y_pred2*0.45 + y_pred3*0.10 + y_pred5*0.05\n",
    "y_predy = y_predy.astype(int)"
   ]
  },
  {
   "cell_type": "code",
   "execution_count": 152,
   "metadata": {},
   "outputs": [],
   "source": [
    "y_pred = y_predx*.98 + y_predy*0.02\n",
    "y_pred = y_pred.astype(int)"
   ]
  },
  {
   "cell_type": "code",
   "execution_count": 153,
   "metadata": {},
   "outputs": [],
   "source": [
    "#write predictions to output file"
   ]
  },
  {
   "cell_type": "code",
   "execution_count": 154,
   "metadata": {},
   "outputs": [],
   "source": [
    "df_sub = pd.DataFrame(data=y_pred, columns=['Fees'])\n",
    "writer = pd.ExcelWriter('doctor_fees_predictions.xlsx', engine='xlsxwriter')\n",
    "df_sub.to_excel(writer,sheet_name='doctor_fees_prediction', index=False)\n",
    "writer.save()"
   ]
  },
  {
   "cell_type": "markdown",
   "metadata": {},
   "source": [
    "***"
   ]
  },
  {
   "cell_type": "code",
   "execution_count": null,
   "metadata": {},
   "outputs": [],
   "source": []
  }
 ],
 "metadata": {
  "kernelspec": {
   "display_name": "Python 3",
   "language": "python",
   "name": "python3"
  },
  "language_info": {
   "codemirror_mode": {
    "name": "ipython",
    "version": 3
   },
   "file_extension": ".py",
   "mimetype": "text/x-python",
   "name": "python",
   "nbconvert_exporter": "python",
   "pygments_lexer": "ipython3",
   "version": "3.7.6"
  }
 },
 "nbformat": 4,
 "nbformat_minor": 4
}
