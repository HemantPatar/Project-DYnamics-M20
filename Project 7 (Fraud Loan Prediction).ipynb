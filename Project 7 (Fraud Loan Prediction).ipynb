{
 "cells": [
  {
   "cell_type": "markdown",
   "metadata": {},
   "source": [
    "# Loan prediction"
   ]
  },
  {
   "cell_type": "raw",
   "metadata": {},
   "source": [
    "Whether to give loan to a person or not based on the information."
   ]
  },
  {
   "cell_type": "code",
   "execution_count": 171,
   "metadata": {},
   "outputs": [],
   "source": [
    "#import libraries\n",
    "import pandas as pd\n",
    "import numpy as np\n",
    "import matplotlib.pyplot as plt\n",
    "import seaborn as sns\n",
    "%matplotlib inline "
   ]
  },
  {
   "cell_type": "code",
   "execution_count": 172,
   "metadata": {},
   "outputs": [
    {
     "data": {
      "text/html": [
       "<div>\n",
       "<style scoped>\n",
       "    .dataframe tbody tr th:only-of-type {\n",
       "        vertical-align: middle;\n",
       "    }\n",
       "\n",
       "    .dataframe tbody tr th {\n",
       "        vertical-align: top;\n",
       "    }\n",
       "\n",
       "    .dataframe thead th {\n",
       "        text-align: right;\n",
       "    }\n",
       "</style>\n",
       "<table border=\"1\" class=\"dataframe\">\n",
       "  <thead>\n",
       "    <tr style=\"text-align: right;\">\n",
       "      <th></th>\n",
       "      <th>Loan_ID</th>\n",
       "      <th>Gender</th>\n",
       "      <th>Married</th>\n",
       "      <th>Dependents</th>\n",
       "      <th>Education</th>\n",
       "      <th>Self_Employed</th>\n",
       "      <th>ApplicantIncome</th>\n",
       "      <th>CoapplicantIncome</th>\n",
       "      <th>LoanAmount</th>\n",
       "      <th>Loan_Amount_Term</th>\n",
       "      <th>Credit_History</th>\n",
       "      <th>Property_Area</th>\n",
       "      <th>Loan_Status</th>\n",
       "    </tr>\n",
       "  </thead>\n",
       "  <tbody>\n",
       "    <tr>\n",
       "      <th>0</th>\n",
       "      <td>LP001002</td>\n",
       "      <td>Male</td>\n",
       "      <td>No</td>\n",
       "      <td>0</td>\n",
       "      <td>Graduate</td>\n",
       "      <td>No</td>\n",
       "      <td>5849</td>\n",
       "      <td>0.0</td>\n",
       "      <td>NaN</td>\n",
       "      <td>360.0</td>\n",
       "      <td>1.0</td>\n",
       "      <td>Urban</td>\n",
       "      <td>Y</td>\n",
       "    </tr>\n",
       "    <tr>\n",
       "      <th>1</th>\n",
       "      <td>LP001003</td>\n",
       "      <td>Male</td>\n",
       "      <td>Yes</td>\n",
       "      <td>1</td>\n",
       "      <td>Graduate</td>\n",
       "      <td>No</td>\n",
       "      <td>4583</td>\n",
       "      <td>1508.0</td>\n",
       "      <td>128.0</td>\n",
       "      <td>360.0</td>\n",
       "      <td>1.0</td>\n",
       "      <td>Rural</td>\n",
       "      <td>N</td>\n",
       "    </tr>\n",
       "    <tr>\n",
       "      <th>2</th>\n",
       "      <td>LP001005</td>\n",
       "      <td>Male</td>\n",
       "      <td>Yes</td>\n",
       "      <td>0</td>\n",
       "      <td>Graduate</td>\n",
       "      <td>Yes</td>\n",
       "      <td>3000</td>\n",
       "      <td>0.0</td>\n",
       "      <td>66.0</td>\n",
       "      <td>360.0</td>\n",
       "      <td>1.0</td>\n",
       "      <td>Urban</td>\n",
       "      <td>Y</td>\n",
       "    </tr>\n",
       "    <tr>\n",
       "      <th>3</th>\n",
       "      <td>LP001006</td>\n",
       "      <td>Male</td>\n",
       "      <td>Yes</td>\n",
       "      <td>0</td>\n",
       "      <td>Not Graduate</td>\n",
       "      <td>No</td>\n",
       "      <td>2583</td>\n",
       "      <td>2358.0</td>\n",
       "      <td>120.0</td>\n",
       "      <td>360.0</td>\n",
       "      <td>1.0</td>\n",
       "      <td>Urban</td>\n",
       "      <td>Y</td>\n",
       "    </tr>\n",
       "    <tr>\n",
       "      <th>4</th>\n",
       "      <td>LP001008</td>\n",
       "      <td>Male</td>\n",
       "      <td>No</td>\n",
       "      <td>0</td>\n",
       "      <td>Graduate</td>\n",
       "      <td>No</td>\n",
       "      <td>6000</td>\n",
       "      <td>0.0</td>\n",
       "      <td>141.0</td>\n",
       "      <td>360.0</td>\n",
       "      <td>1.0</td>\n",
       "      <td>Urban</td>\n",
       "      <td>Y</td>\n",
       "    </tr>\n",
       "    <tr>\n",
       "      <th>...</th>\n",
       "      <td>...</td>\n",
       "      <td>...</td>\n",
       "      <td>...</td>\n",
       "      <td>...</td>\n",
       "      <td>...</td>\n",
       "      <td>...</td>\n",
       "      <td>...</td>\n",
       "      <td>...</td>\n",
       "      <td>...</td>\n",
       "      <td>...</td>\n",
       "      <td>...</td>\n",
       "      <td>...</td>\n",
       "      <td>...</td>\n",
       "    </tr>\n",
       "    <tr>\n",
       "      <th>609</th>\n",
       "      <td>LP002978</td>\n",
       "      <td>Female</td>\n",
       "      <td>No</td>\n",
       "      <td>0</td>\n",
       "      <td>Graduate</td>\n",
       "      <td>No</td>\n",
       "      <td>2900</td>\n",
       "      <td>0.0</td>\n",
       "      <td>71.0</td>\n",
       "      <td>360.0</td>\n",
       "      <td>1.0</td>\n",
       "      <td>Rural</td>\n",
       "      <td>Y</td>\n",
       "    </tr>\n",
       "    <tr>\n",
       "      <th>610</th>\n",
       "      <td>LP002979</td>\n",
       "      <td>Male</td>\n",
       "      <td>Yes</td>\n",
       "      <td>3+</td>\n",
       "      <td>Graduate</td>\n",
       "      <td>No</td>\n",
       "      <td>4106</td>\n",
       "      <td>0.0</td>\n",
       "      <td>40.0</td>\n",
       "      <td>180.0</td>\n",
       "      <td>1.0</td>\n",
       "      <td>Rural</td>\n",
       "      <td>Y</td>\n",
       "    </tr>\n",
       "    <tr>\n",
       "      <th>611</th>\n",
       "      <td>LP002983</td>\n",
       "      <td>Male</td>\n",
       "      <td>Yes</td>\n",
       "      <td>1</td>\n",
       "      <td>Graduate</td>\n",
       "      <td>No</td>\n",
       "      <td>8072</td>\n",
       "      <td>240.0</td>\n",
       "      <td>253.0</td>\n",
       "      <td>360.0</td>\n",
       "      <td>1.0</td>\n",
       "      <td>Urban</td>\n",
       "      <td>Y</td>\n",
       "    </tr>\n",
       "    <tr>\n",
       "      <th>612</th>\n",
       "      <td>LP002984</td>\n",
       "      <td>Male</td>\n",
       "      <td>Yes</td>\n",
       "      <td>2</td>\n",
       "      <td>Graduate</td>\n",
       "      <td>No</td>\n",
       "      <td>7583</td>\n",
       "      <td>0.0</td>\n",
       "      <td>187.0</td>\n",
       "      <td>360.0</td>\n",
       "      <td>1.0</td>\n",
       "      <td>Urban</td>\n",
       "      <td>Y</td>\n",
       "    </tr>\n",
       "    <tr>\n",
       "      <th>613</th>\n",
       "      <td>LP002990</td>\n",
       "      <td>Female</td>\n",
       "      <td>No</td>\n",
       "      <td>0</td>\n",
       "      <td>Graduate</td>\n",
       "      <td>Yes</td>\n",
       "      <td>4583</td>\n",
       "      <td>0.0</td>\n",
       "      <td>133.0</td>\n",
       "      <td>360.0</td>\n",
       "      <td>0.0</td>\n",
       "      <td>Semiurban</td>\n",
       "      <td>N</td>\n",
       "    </tr>\n",
       "  </tbody>\n",
       "</table>\n",
       "<p>614 rows × 13 columns</p>\n",
       "</div>"
      ],
      "text/plain": [
       "      Loan_ID  Gender Married Dependents     Education Self_Employed  \\\n",
       "0    LP001002    Male      No          0      Graduate            No   \n",
       "1    LP001003    Male     Yes          1      Graduate            No   \n",
       "2    LP001005    Male     Yes          0      Graduate           Yes   \n",
       "3    LP001006    Male     Yes          0  Not Graduate            No   \n",
       "4    LP001008    Male      No          0      Graduate            No   \n",
       "..        ...     ...     ...        ...           ...           ...   \n",
       "609  LP002978  Female      No          0      Graduate            No   \n",
       "610  LP002979    Male     Yes         3+      Graduate            No   \n",
       "611  LP002983    Male     Yes          1      Graduate            No   \n",
       "612  LP002984    Male     Yes          2      Graduate            No   \n",
       "613  LP002990  Female      No          0      Graduate           Yes   \n",
       "\n",
       "     ApplicantIncome  CoapplicantIncome  LoanAmount  Loan_Amount_Term  \\\n",
       "0               5849                0.0         NaN             360.0   \n",
       "1               4583             1508.0       128.0             360.0   \n",
       "2               3000                0.0        66.0             360.0   \n",
       "3               2583             2358.0       120.0             360.0   \n",
       "4               6000                0.0       141.0             360.0   \n",
       "..               ...                ...         ...               ...   \n",
       "609             2900                0.0        71.0             360.0   \n",
       "610             4106                0.0        40.0             180.0   \n",
       "611             8072              240.0       253.0             360.0   \n",
       "612             7583                0.0       187.0             360.0   \n",
       "613             4583                0.0       133.0             360.0   \n",
       "\n",
       "     Credit_History Property_Area Loan_Status  \n",
       "0               1.0         Urban           Y  \n",
       "1               1.0         Rural           N  \n",
       "2               1.0         Urban           Y  \n",
       "3               1.0         Urban           Y  \n",
       "4               1.0         Urban           Y  \n",
       "..              ...           ...         ...  \n",
       "609             1.0         Rural           Y  \n",
       "610             1.0         Rural           Y  \n",
       "611             1.0         Urban           Y  \n",
       "612             1.0         Urban           Y  \n",
       "613             0.0     Semiurban           N  \n",
       "\n",
       "[614 rows x 13 columns]"
      ]
     },
     "execution_count": 172,
     "metadata": {},
     "output_type": "execute_result"
    }
   ],
   "source": [
    "#load dataset\n",
    "df_loan=pd.read_csv(\"loan_prediction.csv\")\n",
    "df_loan"
   ]
  },
  {
   "cell_type": "code",
   "execution_count": 173,
   "metadata": {},
   "outputs": [
    {
     "name": "stdout",
     "output_type": "stream",
     "text": [
      "<class 'pandas.core.frame.DataFrame'>\n",
      "RangeIndex: 614 entries, 0 to 613\n",
      "Data columns (total 13 columns):\n",
      " #   Column             Non-Null Count  Dtype  \n",
      "---  ------             --------------  -----  \n",
      " 0   Loan_ID            614 non-null    object \n",
      " 1   Gender             601 non-null    object \n",
      " 2   Married            611 non-null    object \n",
      " 3   Dependents         599 non-null    object \n",
      " 4   Education          614 non-null    object \n",
      " 5   Self_Employed      582 non-null    object \n",
      " 6   ApplicantIncome    614 non-null    int64  \n",
      " 7   CoapplicantIncome  614 non-null    float64\n",
      " 8   LoanAmount         592 non-null    float64\n",
      " 9   Loan_Amount_Term   600 non-null    float64\n",
      " 10  Credit_History     564 non-null    float64\n",
      " 11  Property_Area      614 non-null    object \n",
      " 12  Loan_Status        614 non-null    object \n",
      "dtypes: float64(4), int64(1), object(8)\n",
      "memory usage: 62.5+ KB\n"
     ]
    }
   ],
   "source": [
    "df_loan.info()"
   ]
  },
  {
   "cell_type": "code",
   "execution_count": 174,
   "metadata": {},
   "outputs": [
    {
     "data": {
      "text/plain": [
       "Loan_ID               0\n",
       "Gender               13\n",
       "Married               3\n",
       "Dependents           15\n",
       "Education             0\n",
       "Self_Employed        32\n",
       "ApplicantIncome       0\n",
       "CoapplicantIncome     0\n",
       "LoanAmount           22\n",
       "Loan_Amount_Term     14\n",
       "Credit_History       50\n",
       "Property_Area         0\n",
       "Loan_Status           0\n",
       "dtype: int64"
      ]
     },
     "execution_count": 174,
     "metadata": {},
     "output_type": "execute_result"
    }
   ],
   "source": [
    "#Checking for NA values, and there are none.\n",
    "df_loan.isna().sum()"
   ]
  },
  {
   "cell_type": "code",
   "execution_count": 175,
   "metadata": {},
   "outputs": [
    {
     "name": "stdout",
     "output_type": "stream",
     "text": [
      "Column data type : object    column name : Loan_ID    Null values:  0\n",
      "Column data type : object    column name : Gender    Null values:  13\n",
      "Column data type : object    column name : Married    Null values:  3\n",
      "Column data type : object    column name : Dependents    Null values:  15\n",
      "Column data type : object    column name : Education    Null values:  0\n",
      "Column data type : object    column name : Self_Employed    Null values:  32\n",
      "Column data type : int64    column name : ApplicantIncome    Null values:  0\n",
      "Column data type : float64    column name : CoapplicantIncome    Null values:  0\n",
      "Column data type : float64    column name : LoanAmount    Null values:  22\n",
      "Column data type : float64    column name : Loan_Amount_Term    Null values:  14\n",
      "Column data type : float64    column name : Credit_History    Null values:  50\n",
      "Column data type : object    column name : Property_Area    Null values:  0\n",
      "Column data type : object    column name : Loan_Status    Null values:  0\n"
     ]
    }
   ],
   "source": [
    "for col in df_loan.columns:\n",
    "    print(\"Column data type :\",df_loan[col].dtype,\"   column name :\",col,\"   Null values: \",df_loan[col].isnull().sum())"
   ]
  },
  {
   "cell_type": "code",
   "execution_count": 176,
   "metadata": {},
   "outputs": [
    {
     "data": {
      "text/html": [
       "<div>\n",
       "<style scoped>\n",
       "    .dataframe tbody tr th:only-of-type {\n",
       "        vertical-align: middle;\n",
       "    }\n",
       "\n",
       "    .dataframe tbody tr th {\n",
       "        vertical-align: top;\n",
       "    }\n",
       "\n",
       "    .dataframe thead th {\n",
       "        text-align: right;\n",
       "    }\n",
       "</style>\n",
       "<table border=\"1\" class=\"dataframe\">\n",
       "  <thead>\n",
       "    <tr style=\"text-align: right;\">\n",
       "      <th></th>\n",
       "      <th>ApplicantIncome</th>\n",
       "      <th>CoapplicantIncome</th>\n",
       "      <th>LoanAmount</th>\n",
       "      <th>Loan_Amount_Term</th>\n",
       "      <th>Credit_History</th>\n",
       "    </tr>\n",
       "  </thead>\n",
       "  <tbody>\n",
       "    <tr>\n",
       "      <th>count</th>\n",
       "      <td>614.000000</td>\n",
       "      <td>614.000000</td>\n",
       "      <td>592.000000</td>\n",
       "      <td>600.00000</td>\n",
       "      <td>564.000000</td>\n",
       "    </tr>\n",
       "    <tr>\n",
       "      <th>mean</th>\n",
       "      <td>5403.459283</td>\n",
       "      <td>1621.245798</td>\n",
       "      <td>146.412162</td>\n",
       "      <td>342.00000</td>\n",
       "      <td>0.842199</td>\n",
       "    </tr>\n",
       "    <tr>\n",
       "      <th>std</th>\n",
       "      <td>6109.041673</td>\n",
       "      <td>2926.248369</td>\n",
       "      <td>85.587325</td>\n",
       "      <td>65.12041</td>\n",
       "      <td>0.364878</td>\n",
       "    </tr>\n",
       "    <tr>\n",
       "      <th>min</th>\n",
       "      <td>150.000000</td>\n",
       "      <td>0.000000</td>\n",
       "      <td>9.000000</td>\n",
       "      <td>12.00000</td>\n",
       "      <td>0.000000</td>\n",
       "    </tr>\n",
       "    <tr>\n",
       "      <th>25%</th>\n",
       "      <td>2877.500000</td>\n",
       "      <td>0.000000</td>\n",
       "      <td>100.000000</td>\n",
       "      <td>360.00000</td>\n",
       "      <td>1.000000</td>\n",
       "    </tr>\n",
       "    <tr>\n",
       "      <th>50%</th>\n",
       "      <td>3812.500000</td>\n",
       "      <td>1188.500000</td>\n",
       "      <td>128.000000</td>\n",
       "      <td>360.00000</td>\n",
       "      <td>1.000000</td>\n",
       "    </tr>\n",
       "    <tr>\n",
       "      <th>75%</th>\n",
       "      <td>5795.000000</td>\n",
       "      <td>2297.250000</td>\n",
       "      <td>168.000000</td>\n",
       "      <td>360.00000</td>\n",
       "      <td>1.000000</td>\n",
       "    </tr>\n",
       "    <tr>\n",
       "      <th>max</th>\n",
       "      <td>81000.000000</td>\n",
       "      <td>41667.000000</td>\n",
       "      <td>700.000000</td>\n",
       "      <td>480.00000</td>\n",
       "      <td>1.000000</td>\n",
       "    </tr>\n",
       "  </tbody>\n",
       "</table>\n",
       "</div>"
      ],
      "text/plain": [
       "       ApplicantIncome  CoapplicantIncome  LoanAmount  Loan_Amount_Term  \\\n",
       "count       614.000000         614.000000  592.000000         600.00000   \n",
       "mean       5403.459283        1621.245798  146.412162         342.00000   \n",
       "std        6109.041673        2926.248369   85.587325          65.12041   \n",
       "min         150.000000           0.000000    9.000000          12.00000   \n",
       "25%        2877.500000           0.000000  100.000000         360.00000   \n",
       "50%        3812.500000        1188.500000  128.000000         360.00000   \n",
       "75%        5795.000000        2297.250000  168.000000         360.00000   \n",
       "max       81000.000000       41667.000000  700.000000         480.00000   \n",
       "\n",
       "       Credit_History  \n",
       "count      564.000000  \n",
       "mean         0.842199  \n",
       "std          0.364878  \n",
       "min          0.000000  \n",
       "25%          1.000000  \n",
       "50%          1.000000  \n",
       "75%          1.000000  \n",
       "max          1.000000  "
      ]
     },
     "execution_count": 176,
     "metadata": {},
     "output_type": "execute_result"
    }
   ],
   "source": [
    "#Lets describe the dataset\n",
    "df_loan.describe()\n",
    "#there is difference between mean value and median so there can outliers present in the data set"
   ]
  },
  {
   "cell_type": "code",
   "execution_count": 177,
   "metadata": {},
   "outputs": [
    {
     "data": {
      "text/html": [
       "<div>\n",
       "<style scoped>\n",
       "    .dataframe tbody tr th:only-of-type {\n",
       "        vertical-align: middle;\n",
       "    }\n",
       "\n",
       "    .dataframe tbody tr th {\n",
       "        vertical-align: top;\n",
       "    }\n",
       "\n",
       "    .dataframe thead th {\n",
       "        text-align: right;\n",
       "    }\n",
       "</style>\n",
       "<table border=\"1\" class=\"dataframe\">\n",
       "  <thead>\n",
       "    <tr style=\"text-align: right;\">\n",
       "      <th></th>\n",
       "      <th>ApplicantIncome</th>\n",
       "      <th>CoapplicantIncome</th>\n",
       "      <th>LoanAmount</th>\n",
       "      <th>Loan_Amount_Term</th>\n",
       "      <th>Credit_History</th>\n",
       "    </tr>\n",
       "  </thead>\n",
       "  <tbody>\n",
       "    <tr>\n",
       "      <th>ApplicantIncome</th>\n",
       "      <td>1.000000</td>\n",
       "      <td>-0.116605</td>\n",
       "      <td>0.570909</td>\n",
       "      <td>-0.045306</td>\n",
       "      <td>-0.014715</td>\n",
       "    </tr>\n",
       "    <tr>\n",
       "      <th>CoapplicantIncome</th>\n",
       "      <td>-0.116605</td>\n",
       "      <td>1.000000</td>\n",
       "      <td>0.188619</td>\n",
       "      <td>-0.059878</td>\n",
       "      <td>-0.002056</td>\n",
       "    </tr>\n",
       "    <tr>\n",
       "      <th>LoanAmount</th>\n",
       "      <td>0.570909</td>\n",
       "      <td>0.188619</td>\n",
       "      <td>1.000000</td>\n",
       "      <td>0.039447</td>\n",
       "      <td>-0.008433</td>\n",
       "    </tr>\n",
       "    <tr>\n",
       "      <th>Loan_Amount_Term</th>\n",
       "      <td>-0.045306</td>\n",
       "      <td>-0.059878</td>\n",
       "      <td>0.039447</td>\n",
       "      <td>1.000000</td>\n",
       "      <td>0.001470</td>\n",
       "    </tr>\n",
       "    <tr>\n",
       "      <th>Credit_History</th>\n",
       "      <td>-0.014715</td>\n",
       "      <td>-0.002056</td>\n",
       "      <td>-0.008433</td>\n",
       "      <td>0.001470</td>\n",
       "      <td>1.000000</td>\n",
       "    </tr>\n",
       "  </tbody>\n",
       "</table>\n",
       "</div>"
      ],
      "text/plain": [
       "                   ApplicantIncome  CoapplicantIncome  LoanAmount  \\\n",
       "ApplicantIncome           1.000000          -0.116605    0.570909   \n",
       "CoapplicantIncome        -0.116605           1.000000    0.188619   \n",
       "LoanAmount                0.570909           0.188619    1.000000   \n",
       "Loan_Amount_Term         -0.045306          -0.059878    0.039447   \n",
       "Credit_History           -0.014715          -0.002056   -0.008433   \n",
       "\n",
       "                   Loan_Amount_Term  Credit_History  \n",
       "ApplicantIncome           -0.045306       -0.014715  \n",
       "CoapplicantIncome         -0.059878       -0.002056  \n",
       "LoanAmount                 0.039447       -0.008433  \n",
       "Loan_Amount_Term           1.000000        0.001470  \n",
       "Credit_History             0.001470        1.000000  "
      ]
     },
     "execution_count": 177,
     "metadata": {},
     "output_type": "execute_result"
    }
   ],
   "source": [
    "#Lets check the corrrelation matrix\n",
    "df_loan.corr()"
   ]
  },
  {
   "cell_type": "code",
   "execution_count": 178,
   "metadata": {},
   "outputs": [
    {
     "data": {
      "text/plain": [
       "<matplotlib.axes._subplots.AxesSubplot at 0x23044e67cc8>"
      ]
     },
     "execution_count": 178,
     "metadata": {},
     "output_type": "execute_result"
    },
    {
     "data": {
      "image/png": "[encoded data removed]",
      "text/plain": [
       "<Figure size 648x648 with 2 Axes>"
      ]
     },
     "metadata": {
      "needs_background": "light"
     },
     "output_type": "display_data"
    }
   ],
   "source": [
    "f,ax=plt.subplots(figsize=(9,9))\n",
    "sns.heatmap(df_loan.corr(),vmax=.8,fmt=\".2f\",annot=True,cmap = \"coolwarm\")"
   ]
  },
  {
   "cell_type": "code",
   "execution_count": 179,
   "metadata": {},
   "outputs": [
    {
     "name": "stdout",
     "output_type": "stream",
     "text": [
      "LP002689    1\n",
      "LP002789    1\n",
      "LP002453    1\n",
      "LP001688    1\n",
      "LP002840    1\n",
      "           ..\n",
      "LP002447    1\n",
      "LP001674    1\n",
      "LP002958    1\n",
      "LP002031    1\n",
      "LP002606    1\n",
      "Name: Loan_ID, Length: 614, dtype: int64\n",
      "\n",
      "Male      489\n",
      "Female    112\n",
      "Name: Gender, dtype: int64\n",
      "\n",
      "Yes    398\n",
      "No     213\n",
      "Name: Married, dtype: int64\n",
      "\n",
      "0     345\n",
      "1     102\n",
      "2     101\n",
      "3+     51\n",
      "Name: Dependents, dtype: int64\n",
      "\n",
      "Graduate        480\n",
      "Not Graduate    134\n",
      "Name: Education, dtype: int64\n",
      "\n",
      "No     500\n",
      "Yes     82\n",
      "Name: Self_Employed, dtype: int64\n",
      "\n",
      "Semiurban    233\n",
      "Urban        202\n",
      "Rural        179\n",
      "Name: Property_Area, dtype: int64\n",
      "\n",
      "Y    422\n",
      "N    192\n",
      "Name: Loan_Status, dtype: int64\n",
      "\n"
     ]
    }
   ],
   "source": [
    "#frequency of categories\n",
    "for col in df_loan.columns:\n",
    "    if df_loan[col].dtype==\"object\":\n",
    "        print(df_loan[col].value_counts())\n",
    "        print()"
   ]
  },
  {
   "cell_type": "code",
   "execution_count": 180,
   "metadata": {},
   "outputs": [
    {
     "name": "stdout",
     "output_type": "stream",
     "text": [
      "0.0       273\n",
      "1666.0      5\n",
      "2083.0      5\n",
      "2500.0      5\n",
      "1750.0      3\n",
      "         ... \n",
      "7166.0      1\n",
      "2138.0      1\n",
      "2166.0      1\n",
      "3541.0      1\n",
      "3021.0      1\n",
      "Name: CoapplicantIncome, Length: 287, dtype: int64\n",
      "\n",
      "120.0    20\n",
      "110.0    17\n",
      "100.0    15\n",
      "187.0    12\n",
      "160.0    12\n",
      "         ..\n",
      "570.0     1\n",
      "300.0     1\n",
      "376.0     1\n",
      "117.0     1\n",
      "311.0     1\n",
      "Name: LoanAmount, Length: 203, dtype: int64\n",
      "\n",
      "360.0    512\n",
      "180.0     44\n",
      "480.0     15\n",
      "300.0     13\n",
      "84.0       4\n",
      "240.0      4\n",
      "120.0      3\n",
      "36.0       2\n",
      "60.0       2\n",
      "12.0       1\n",
      "Name: Loan_Amount_Term, dtype: int64\n",
      "\n",
      "1.0    475\n",
      "0.0     89\n",
      "Name: Credit_History, dtype: int64\n",
      "\n"
     ]
    }
   ],
   "source": [
    "#frequency of categories\n",
    "for col in df_loan.columns:\n",
    "    if df_loan[col].dtype==\"float64\":\n",
    "        print(df_loan[col].value_counts())\n",
    "        print()"
   ]
  },
  {
   "cell_type": "code",
   "execution_count": 181,
   "metadata": {
    "scrolled": true
   },
   "outputs": [
    {
     "data": {
      "text/plain": [
       "1.0    489\n",
       "0.0    112\n",
       "Name: Gender, dtype: int64"
      ]
     },
     "execution_count": 181,
     "metadata": {},
     "output_type": "execute_result"
    }
   ],
   "source": [
    "df_loan.Gender=df_loan.Gender.map({'Male':1,'Female':0})\n",
    "df_loan.Gender.value_counts()"
   ]
  },
  {
   "cell_type": "code",
   "execution_count": 182,
   "metadata": {},
   "outputs": [
    {
     "data": {
      "text/plain": [
       "1.0    489\n",
       "0.0    125\n",
       "Name: Gender, dtype: int64"
      ]
     },
     "execution_count": 182,
     "metadata": {},
     "output_type": "execute_result"
    }
   ],
   "source": [
    "from random import randint \n",
    "df_loan.Gender.fillna(np.random.randint(0,2),inplace=True)\n",
    "df_loan.Gender.value_counts()"
   ]
  },
  {
   "cell_type": "code",
   "execution_count": 183,
   "metadata": {},
   "outputs": [
    {
     "data": {
      "text/plain": [
       "1.0    398\n",
       "0.0    213\n",
       "Name: Married, dtype: int64"
      ]
     },
     "execution_count": 183,
     "metadata": {},
     "output_type": "execute_result"
    }
   ],
   "source": [
    "df_loan.Married=df_loan.Married.map({'Yes':1,'No':0})\n",
    "df_loan.Married.value_counts()"
   ]
  },
  {
   "cell_type": "code",
   "execution_count": 184,
   "metadata": {},
   "outputs": [
    {
     "data": {
      "text/plain": [
       "1.0    398\n",
       "0.0    216\n",
       "Name: Married, dtype: int64"
      ]
     },
     "execution_count": 184,
     "metadata": {},
     "output_type": "execute_result"
    }
   ],
   "source": [
    "df_loan.Married.fillna(np.random.randint(0,2),inplace=True)\n",
    "df_loan.Married.value_counts()"
   ]
  },
  {
   "cell_type": "code",
   "execution_count": 185,
   "metadata": {},
   "outputs": [
    {
     "data": {
      "text/plain": [
       "0.0    345\n",
       "1.0    102\n",
       "2.0    101\n",
       "3.0     51\n",
       "Name: Dependents, dtype: int64"
      ]
     },
     "execution_count": 185,
     "metadata": {},
     "output_type": "execute_result"
    }
   ],
   "source": [
    "df_loan.Dependents=df_loan.Dependents.map({'0':0,'1':1,'2':2,'3+':3})\n",
    "df_loan.Dependents.value_counts()"
   ]
  },
  {
   "cell_type": "code",
   "execution_count": 186,
   "metadata": {},
   "outputs": [
    {
     "data": {
      "text/plain": [
       "0.0    360\n",
       "1.0    102\n",
       "2.0    101\n",
       "3.0     51\n",
       "Name: Dependents, dtype: int64"
      ]
     },
     "execution_count": 186,
     "metadata": {},
     "output_type": "execute_result"
    }
   ],
   "source": [
    "df_loan.Dependents.fillna(df_loan.Dependents.median(),inplace=True)\n",
    "df_loan.Dependents.value_counts()"
   ]
  },
  {
   "cell_type": "code",
   "execution_count": 187,
   "metadata": {},
   "outputs": [
    {
     "data": {
      "text/plain": [
       "0.0    500\n",
       "1.0     82\n",
       "Name: Self_Employed, dtype: int64"
      ]
     },
     "execution_count": 187,
     "metadata": {},
     "output_type": "execute_result"
    }
   ],
   "source": [
    "df_loan.Self_Employed=df_loan.Self_Employed.map({'Yes':1,'No':0})\n",
    "df_loan.Self_Employed.value_counts()"
   ]
  },
  {
   "cell_type": "code",
   "execution_count": 188,
   "metadata": {},
   "outputs": [
    {
     "data": {
      "text/plain": [
       "0.0    532\n",
       "1.0     82\n",
       "Name: Self_Employed, dtype: int64"
      ]
     },
     "execution_count": 188,
     "metadata": {},
     "output_type": "execute_result"
    }
   ],
   "source": [
    "df_loan.Self_Employed.fillna(np.random.randint(0,2),inplace=True)\n",
    "df_loan.Self_Employed.value_counts()"
   ]
  },
  {
   "cell_type": "code",
   "execution_count": 189,
   "metadata": {},
   "outputs": [],
   "source": [
    "df_loan.LoanAmount.fillna(df_loan.LoanAmount.median(),inplace=True)"
   ]
  },
  {
   "cell_type": "code",
   "execution_count": 190,
   "metadata": {},
   "outputs": [],
   "source": [
    "df_loan.Loan_Amount_Term.fillna(df_loan.Loan_Amount_Term.mean(),inplace=True)"
   ]
  },
  {
   "cell_type": "code",
   "execution_count": 191,
   "metadata": {},
   "outputs": [
    {
     "data": {
      "text/plain": [
       "1.0    475\n",
       "0.0     89\n",
       "Name: Credit_History, dtype: int64"
      ]
     },
     "execution_count": 191,
     "metadata": {},
     "output_type": "execute_result"
    }
   ],
   "source": [
    "df_loan.Credit_History.value_counts()"
   ]
  },
  {
   "cell_type": "code",
   "execution_count": 192,
   "metadata": {},
   "outputs": [],
   "source": [
    "df_loan.Credit_History.fillna(np.random.randint(0,2),inplace=True)"
   ]
  },
  {
   "cell_type": "code",
   "execution_count": 193,
   "metadata": {},
   "outputs": [
    {
     "data": {
      "text/plain": [
       "Loan_ID              0\n",
       "Gender               0\n",
       "Married              0\n",
       "Dependents           0\n",
       "Education            0\n",
       "Self_Employed        0\n",
       "ApplicantIncome      0\n",
       "CoapplicantIncome    0\n",
       "LoanAmount           0\n",
       "Loan_Amount_Term     0\n",
       "Credit_History       0\n",
       "Property_Area        0\n",
       "Loan_Status          0\n",
       "dtype: int64"
      ]
     },
     "execution_count": 193,
     "metadata": {},
     "output_type": "execute_result"
    }
   ],
   "source": [
    "df_loan.isnull().sum()"
   ]
  },
  {
   "cell_type": "code",
   "execution_count": 194,
   "metadata": {},
   "outputs": [
    {
     "data": {
      "text/plain": [
       "Loan_ID              614\n",
       "Gender                 2\n",
       "Married                2\n",
       "Dependents             4\n",
       "Education              2\n",
       "Self_Employed          2\n",
       "ApplicantIncome      505\n",
       "CoapplicantIncome    287\n",
       "LoanAmount           203\n",
       "Loan_Amount_Term      11\n",
       "Credit_History         2\n",
       "Property_Area          3\n",
       "Loan_Status            2\n",
       "dtype: int64"
      ]
     },
     "execution_count": 194,
     "metadata": {},
     "output_type": "execute_result"
    }
   ],
   "source": [
    "#Checking for unique values in each column\n",
    "df_loan.nunique()"
   ]
  },
  {
   "cell_type": "code",
   "execution_count": 195,
   "metadata": {},
   "outputs": [],
   "source": [
    "df_loan.drop('Loan_ID',inplace=True,axis=1)"
   ]
  },
  {
   "cell_type": "code",
   "execution_count": 196,
   "metadata": {},
   "outputs": [
    {
     "data": {
      "text/plain": [
       "(614, 12)"
      ]
     },
     "execution_count": 196,
     "metadata": {},
     "output_type": "execute_result"
    }
   ],
   "source": [
    "df_loan.shape"
   ]
  },
  {
   "cell_type": "code",
   "execution_count": 197,
   "metadata": {},
   "outputs": [
    {
     "data": {
      "text/html": [
       "<div>\n",
       "<style scoped>\n",
       "    .dataframe tbody tr th:only-of-type {\n",
       "        vertical-align: middle;\n",
       "    }\n",
       "\n",
       "    .dataframe tbody tr th {\n",
       "        vertical-align: top;\n",
       "    }\n",
       "\n",
       "    .dataframe thead th {\n",
       "        text-align: right;\n",
       "    }\n",
       "</style>\n",
       "<table border=\"1\" class=\"dataframe\">\n",
       "  <thead>\n",
       "    <tr style=\"text-align: right;\">\n",
       "      <th></th>\n",
       "      <th>Gender</th>\n",
       "      <th>Married</th>\n",
       "      <th>Dependents</th>\n",
       "      <th>Education</th>\n",
       "      <th>Self_Employed</th>\n",
       "      <th>ApplicantIncome</th>\n",
       "      <th>CoapplicantIncome</th>\n",
       "      <th>LoanAmount</th>\n",
       "      <th>Loan_Amount_Term</th>\n",
       "      <th>Credit_History</th>\n",
       "      <th>Property_Area</th>\n",
       "      <th>Loan_Status</th>\n",
       "    </tr>\n",
       "  </thead>\n",
       "  <tbody>\n",
       "    <tr>\n",
       "      <th>0</th>\n",
       "      <td>1.0</td>\n",
       "      <td>0.0</td>\n",
       "      <td>0.0</td>\n",
       "      <td>Graduate</td>\n",
       "      <td>0.0</td>\n",
       "      <td>5849</td>\n",
       "      <td>0.0</td>\n",
       "      <td>128.0</td>\n",
       "      <td>360.0</td>\n",
       "      <td>1.0</td>\n",
       "      <td>Urban</td>\n",
       "      <td>Y</td>\n",
       "    </tr>\n",
       "    <tr>\n",
       "      <th>1</th>\n",
       "      <td>1.0</td>\n",
       "      <td>1.0</td>\n",
       "      <td>1.0</td>\n",
       "      <td>Graduate</td>\n",
       "      <td>0.0</td>\n",
       "      <td>4583</td>\n",
       "      <td>1508.0</td>\n",
       "      <td>128.0</td>\n",
       "      <td>360.0</td>\n",
       "      <td>1.0</td>\n",
       "      <td>Rural</td>\n",
       "      <td>N</td>\n",
       "    </tr>\n",
       "    <tr>\n",
       "      <th>2</th>\n",
       "      <td>1.0</td>\n",
       "      <td>1.0</td>\n",
       "      <td>0.0</td>\n",
       "      <td>Graduate</td>\n",
       "      <td>1.0</td>\n",
       "      <td>3000</td>\n",
       "      <td>0.0</td>\n",
       "      <td>66.0</td>\n",
       "      <td>360.0</td>\n",
       "      <td>1.0</td>\n",
       "      <td>Urban</td>\n",
       "      <td>Y</td>\n",
       "    </tr>\n",
       "    <tr>\n",
       "      <th>3</th>\n",
       "      <td>1.0</td>\n",
       "      <td>1.0</td>\n",
       "      <td>0.0</td>\n",
       "      <td>Not Graduate</td>\n",
       "      <td>0.0</td>\n",
       "      <td>2583</td>\n",
       "      <td>2358.0</td>\n",
       "      <td>120.0</td>\n",
       "      <td>360.0</td>\n",
       "      <td>1.0</td>\n",
       "      <td>Urban</td>\n",
       "      <td>Y</td>\n",
       "    </tr>\n",
       "    <tr>\n",
       "      <th>4</th>\n",
       "      <td>1.0</td>\n",
       "      <td>0.0</td>\n",
       "      <td>0.0</td>\n",
       "      <td>Graduate</td>\n",
       "      <td>0.0</td>\n",
       "      <td>6000</td>\n",
       "      <td>0.0</td>\n",
       "      <td>141.0</td>\n",
       "      <td>360.0</td>\n",
       "      <td>1.0</td>\n",
       "      <td>Urban</td>\n",
       "      <td>Y</td>\n",
       "    </tr>\n",
       "    <tr>\n",
       "      <th>...</th>\n",
       "      <td>...</td>\n",
       "      <td>...</td>\n",
       "      <td>...</td>\n",
       "      <td>...</td>\n",
       "      <td>...</td>\n",
       "      <td>...</td>\n",
       "      <td>...</td>\n",
       "      <td>...</td>\n",
       "      <td>...</td>\n",
       "      <td>...</td>\n",
       "      <td>...</td>\n",
       "      <td>...</td>\n",
       "    </tr>\n",
       "    <tr>\n",
       "      <th>609</th>\n",
       "      <td>0.0</td>\n",
       "      <td>0.0</td>\n",
       "      <td>0.0</td>\n",
       "      <td>Graduate</td>\n",
       "      <td>0.0</td>\n",
       "      <td>2900</td>\n",
       "      <td>0.0</td>\n",
       "      <td>71.0</td>\n",
       "      <td>360.0</td>\n",
       "      <td>1.0</td>\n",
       "      <td>Rural</td>\n",
       "      <td>Y</td>\n",
       "    </tr>\n",
       "    <tr>\n",
       "      <th>610</th>\n",
       "      <td>1.0</td>\n",
       "      <td>1.0</td>\n",
       "      <td>3.0</td>\n",
       "      <td>Graduate</td>\n",
       "      <td>0.0</td>\n",
       "      <td>4106</td>\n",
       "      <td>0.0</td>\n",
       "      <td>40.0</td>\n",
       "      <td>180.0</td>\n",
       "      <td>1.0</td>\n",
       "      <td>Rural</td>\n",
       "      <td>Y</td>\n",
       "    </tr>\n",
       "    <tr>\n",
       "      <th>611</th>\n",
       "      <td>1.0</td>\n",
       "      <td>1.0</td>\n",
       "      <td>1.0</td>\n",
       "      <td>Graduate</td>\n",
       "      <td>0.0</td>\n",
       "      <td>8072</td>\n",
       "      <td>240.0</td>\n",
       "      <td>253.0</td>\n",
       "      <td>360.0</td>\n",
       "      <td>1.0</td>\n",
       "      <td>Urban</td>\n",
       "      <td>Y</td>\n",
       "    </tr>\n",
       "    <tr>\n",
       "      <th>612</th>\n",
       "      <td>1.0</td>\n",
       "      <td>1.0</td>\n",
       "      <td>2.0</td>\n",
       "      <td>Graduate</td>\n",
       "      <td>0.0</td>\n",
       "      <td>7583</td>\n",
       "      <td>0.0</td>\n",
       "      <td>187.0</td>\n",
       "      <td>360.0</td>\n",
       "      <td>1.0</td>\n",
       "      <td>Urban</td>\n",
       "      <td>Y</td>\n",
       "    </tr>\n",
       "    <tr>\n",
       "      <th>613</th>\n",
       "      <td>0.0</td>\n",
       "      <td>0.0</td>\n",
       "      <td>0.0</td>\n",
       "      <td>Graduate</td>\n",
       "      <td>1.0</td>\n",
       "      <td>4583</td>\n",
       "      <td>0.0</td>\n",
       "      <td>133.0</td>\n",
       "      <td>360.0</td>\n",
       "      <td>0.0</td>\n",
       "      <td>Semiurban</td>\n",
       "      <td>N</td>\n",
       "    </tr>\n",
       "  </tbody>\n",
       "</table>\n",
       "<p>614 rows × 12 columns</p>\n",
       "</div>"
      ],
      "text/plain": [
       "     Gender  Married  Dependents     Education  Self_Employed  \\\n",
       "0       1.0      0.0         0.0      Graduate            0.0   \n",
       "1       1.0      1.0         1.0      Graduate            0.0   \n",
       "2       1.0      1.0         0.0      Graduate            1.0   \n",
       "3       1.0      1.0         0.0  Not Graduate            0.0   \n",
       "4       1.0      0.0         0.0      Graduate            0.0   \n",
       "..      ...      ...         ...           ...            ...   \n",
       "609     0.0      0.0         0.0      Graduate            0.0   \n",
       "610     1.0      1.0         3.0      Graduate            0.0   \n",
       "611     1.0      1.0         1.0      Graduate            0.0   \n",
       "612     1.0      1.0         2.0      Graduate            0.0   \n",
       "613     0.0      0.0         0.0      Graduate            1.0   \n",
       "\n",
       "     ApplicantIncome  CoapplicantIncome  LoanAmount  Loan_Amount_Term  \\\n",
       "0               5849                0.0       128.0             360.0   \n",
       "1               4583             1508.0       128.0             360.0   \n",
       "2               3000                0.0        66.0             360.0   \n",
       "3               2583             2358.0       120.0             360.0   \n",
       "4               6000                0.0       141.0             360.0   \n",
       "..               ...                ...         ...               ...   \n",
       "609             2900                0.0        71.0             360.0   \n",
       "610             4106                0.0        40.0             180.0   \n",
       "611             8072              240.0       253.0             360.0   \n",
       "612             7583                0.0       187.0             360.0   \n",
       "613             4583                0.0       133.0             360.0   \n",
       "\n",
       "     Credit_History Property_Area Loan_Status  \n",
       "0               1.0         Urban           Y  \n",
       "1               1.0         Rural           N  \n",
       "2               1.0         Urban           Y  \n",
       "3               1.0         Urban           Y  \n",
       "4               1.0         Urban           Y  \n",
       "..              ...           ...         ...  \n",
       "609             1.0         Rural           Y  \n",
       "610             1.0         Rural           Y  \n",
       "611             1.0         Urban           Y  \n",
       "612             1.0         Urban           Y  \n",
       "613             0.0     Semiurban           N  \n",
       "\n",
       "[614 rows x 12 columns]"
      ]
     },
     "execution_count": 197,
     "metadata": {},
     "output_type": "execute_result"
    }
   ],
   "source": [
    "df_loan"
   ]
  },
  {
   "cell_type": "code",
   "execution_count": 198,
   "metadata": {},
   "outputs": [
    {
     "data": {
      "image/png": "[encoded data removed]",
      "text/plain": [
       "<Figure size 432x288 with 1 Axes>"
      ]
     },
     "metadata": {
      "needs_background": "light"
     },
     "output_type": "display_data"
    }
   ],
   "source": [
    "#loan approval status \n",
    "sns.countplot(x=\"Loan_Status\",data=df_loan)\n",
    "plt.show()\n",
    "#we see almost 50% loan rejected cases"
   ]
  },
  {
   "cell_type": "code",
   "execution_count": 199,
   "metadata": {},
   "outputs": [
    {
     "data": {
      "image/png": "[encoded data removed]",
      "text/plain": [
       "<Figure size 432x288 with 1 Axes>"
      ]
     },
     "metadata": {
      "needs_background": "light"
     },
     "output_type": "display_data"
    }
   ],
   "source": [
    "#loan approval status wrt self employed people\n",
    "sns.countplot(x=\"Loan_Status\",hue=\"Self_Employed\",data=df_loan)\n",
    "plt.show()\n",
    "#self employed people get more approval for loan"
   ]
  },
  {
   "cell_type": "code",
   "execution_count": 200,
   "metadata": {},
   "outputs": [
    {
     "data": {
      "image/png": "[encoded data removed]",
      "text/plain": [
       "<Figure size 432x288 with 1 Axes>"
      ]
     },
     "metadata": {
      "needs_background": "light"
     },
     "output_type": "display_data"
    }
   ],
   "source": [
    "#Lets check the loan approval count based on \"Education\"\n",
    "sns.countplot(x=\"Loan_Status\",hue=\"Education\",data=df_loan)\n",
    "plt.show()\n",
    "#graduate people get more approval for loan"
   ]
  },
  {
   "cell_type": "code",
   "execution_count": 201,
   "metadata": {},
   "outputs": [
    {
     "data": {
      "image/png": "[encoded data removed]",
      "text/plain": [
       "<Figure size 432x288 with 1 Axes>"
      ]
     },
     "metadata": {
      "needs_background": "light"
     },
     "output_type": "display_data"
    }
   ],
   "source": [
    "#loan approval status wrt gender\n",
    "sns.countplot(x=\"Loan_Status\",hue=\"Gender\",data=df_loan)\n",
    "plt.show()\n",
    "#there are more number of males getting loan approval than comapred to female"
   ]
  },
  {
   "cell_type": "code",
   "execution_count": 202,
   "metadata": {},
   "outputs": [
    {
     "data": {
      "image/png": "[encoded data removed]",
      "text/plain": [
       "<Figure size 432x288 with 1 Axes>"
      ]
     },
     "metadata": {
      "needs_background": "light"
     },
     "output_type": "display_data"
    }
   ],
   "source": [
    "#lets chcek the loan approval status based on property area\n",
    "sns.countplot(x=\"Loan_Status\",hue=\"Property_Area\",data=df_loan)\n",
    "plt.show()\n",
    "#semi urban people get more loan approval than urban people followed by rural"
   ]
  },
  {
   "cell_type": "code",
   "execution_count": 203,
   "metadata": {},
   "outputs": [
    {
     "data": {
      "image/png": "[encoded data removed]",
      "text/plain": [
       "<Figure size 432x288 with 1 Axes>"
      ]
     },
     "metadata": {
      "needs_background": "light"
     },
     "output_type": "display_data"
    }
   ],
   "source": [
    "#Lets chcek the loan approval count based on marital status\n",
    "sns.countplot(x=\"Married\",hue=\"Loan_Status\",data=df_loan)\n",
    "plt.show()\n",
    "#married people are getting more loan approval"
   ]
  },
  {
   "cell_type": "code",
   "execution_count": 204,
   "metadata": {},
   "outputs": [
    {
     "data": {
      "image/png": "[encoded data removed]",
      "text/plain": [
       "<Figure size 432x288 with 1 Axes>"
      ]
     },
     "metadata": {
      "needs_background": "light"
     },
     "output_type": "display_data"
    }
   ],
   "source": [
    "#Lets chcek loan status for applicant income greater than 5000\n",
    "sns.countplot(x=\"Loan_Status\",data=df_loan.loc[df_loan[\"ApplicantIncome\"]>5000])\n",
    "plt.show()\n",
    "#people whose loan was sanctioned are more than double of prople whose loan was not sanctioned"
   ]
  },
  {
   "cell_type": "code",
   "execution_count": 205,
   "metadata": {},
   "outputs": [
    {
     "data": {
      "image/png": "[encoded data removed]",
      "text/plain": [
       "<Figure size 432x288 with 1 Axes>"
      ]
     },
     "metadata": {
      "needs_background": "light"
     },
     "output_type": "display_data"
    }
   ],
   "source": [
    "#Lets chcek what is the effect on above count if co-aplicant income is 0\n",
    "sns.countplot(x=\"Loan_Status\",data=df_loan.loc[(df_loan[\"ApplicantIncome\"]>5000)&(df_loan[\"CoapplicantIncome\"]==0)])\n",
    "plt.show()\n",
    "#count reduced but still ratio is almost same"
   ]
  },
  {
   "cell_type": "code",
   "execution_count": 206,
   "metadata": {},
   "outputs": [
    {
     "data": {
      "image/png": "[encoded data removed]",
      "text/plain": [
       "<Figure size 432x288 with 1 Axes>"
      ]
     },
     "metadata": {
      "needs_background": "light"
     },
     "output_type": "display_data"
    }
   ],
   "source": [
    "#lets compare the average loan amount between self employed and not self employed\n",
    "sns.barplot(y=\"LoanAmount\",x=\"Self_Employed\",data=df_loan)\n",
    "plt.show()\n",
    "#avaerge loan amount demanded by the self employed is more but there is not too much difference"
   ]
  },
  {
   "cell_type": "code",
   "execution_count": 207,
   "metadata": {},
   "outputs": [
    {
     "data": {
      "image/png": "[encoded data removed]",
      "text/plain": [
       "<Figure size 432x288 with 1 Axes>"
      ]
     },
     "metadata": {
      "needs_background": "light"
     },
     "output_type": "display_data"
    }
   ],
   "source": [
    "#Lets compare the average income of employed and self employed\n",
    "sns.barplot(y=\"ApplicantIncome\",x=\"Self_Employed\",data=df_loan)\n",
    "plt.show()"
   ]
  },
  {
   "cell_type": "code",
   "execution_count": 208,
   "metadata": {},
   "outputs": [
    {
     "data": {
      "image/png": "[encoded data removed]",
      "text/plain": [
       "<Figure size 432x288 with 1 Axes>"
      ]
     },
     "metadata": {
      "needs_background": "light"
     },
     "output_type": "display_data"
    }
   ],
   "source": [
    "#Lets compare the count of people who got loans and who didn't\n",
    "sns.countplot(x=\"Loan_Status\",data=df_loan.loc[df_loan[\"Self_Employed\"]==1])\n",
    "plt.show()\n",
    "#there are more than double who got loan"
   ]
  },
  {
   "cell_type": "code",
   "execution_count": 209,
   "metadata": {},
   "outputs": [
    {
     "data": {
      "image/png": "[encoded data removed]",
      "text/plain": [
       "<Figure size 432x288 with 1 Axes>"
      ]
     },
     "metadata": {
      "needs_background": "light"
     },
     "output_type": "display_data"
    }
   ],
   "source": [
    "sns.barplot(y=\"ApplicantIncome\",x=\"Loan_Status\",data=df_loan.loc[df_loan[\"Self_Employed\"]==1])\n",
    "plt.show()\n",
    "#So people who got loan has averge income more and it is expected"
   ]
  },
  {
   "cell_type": "code",
   "execution_count": 210,
   "metadata": {},
   "outputs": [
    {
     "data": {
      "image/png": "[encoded data removed]",
      "text/plain": [
       "<Figure size 432x288 with 1 Axes>"
      ]
     },
     "metadata": {
      "needs_background": "light"
     },
     "output_type": "display_data"
    }
   ],
   "source": [
    "# let's chcek the average loan amount as per Dependents\n",
    "sns.barplot(y=\"ApplicantIncome\",x=\"Dependents\",data=df_loan)\n",
    "plt.show()\n",
    "#Average income of dependents of with 2 is less than with 1"
   ]
  },
  {
   "cell_type": "code",
   "execution_count": 211,
   "metadata": {},
   "outputs": [
    {
     "data": {
      "text/plain": [
       "<matplotlib.axes._subplots.AxesSubplot at 0x23046a21988>"
      ]
     },
     "execution_count": 211,
     "metadata": {},
     "output_type": "execute_result"
    },
    {
     "data": {
      "image/png": "[encoded data removed]",
      "text/plain": [
       "<Figure size 432x288 with 1 Axes>"
      ]
     },
     "metadata": {
      "needs_background": "light"
     },
     "output_type": "display_data"
    }
   ],
   "source": [
    "#Average loan amount requested groupped by Loan_Amount_Term\n",
    "sns.barplot(x=\"Loan_Amount_Term\",y=\"LoanAmount\",data=df_loan)"
   ]
  },
  {
   "cell_type": "code",
   "execution_count": 212,
   "metadata": {},
   "outputs": [
    {
     "data": {
      "text/plain": [
       "Gender              -1.475893\n",
       "Married             -0.622252\n",
       "Dependents           1.015551\n",
       "Self_Employed        2.159796\n",
       "ApplicantIncome      6.539513\n",
       "CoapplicantIncome    7.491531\n",
       "LoanAmount           2.743053\n",
       "Loan_Amount_Term    -2.389680\n",
       "Credit_History      -1.310835\n",
       "dtype: float64"
      ]
     },
     "execution_count": 212,
     "metadata": {},
     "output_type": "execute_result"
    }
   ],
   "source": [
    "#lets check the skewness of the dataset\n",
    "df_loan.skew()"
   ]
  },
  {
   "cell_type": "code",
   "execution_count": 213,
   "metadata": {},
   "outputs": [],
   "source": [
    "#dividing it into input and output\n",
    "df_x=df_loan.drop(columns=[\"Loan_Status\"])\n",
    "y=df_loan[[\"Loan_Status\"]]"
   ]
  },
  {
   "cell_type": "code",
   "execution_count": 214,
   "metadata": {},
   "outputs": [],
   "source": [
    "import numpy as np\n",
    "for index in df_x.skew().index:\n",
    "    if df_x.skew().loc[index]>0.5:\n",
    "        df_x[index]=np.log1p(df_x[index])"
   ]
  },
  {
   "cell_type": "code",
   "execution_count": 215,
   "metadata": {},
   "outputs": [
    {
     "data": {
      "text/plain": [
       "Gender              -1.475893\n",
       "Married             -0.622252\n",
       "Dependents           0.671985\n",
       "Self_Employed        2.159796\n",
       "ApplicantIncome      0.482128\n",
       "CoapplicantIncome   -0.173073\n",
       "LoanAmount          -0.151578\n",
       "Loan_Amount_Term    -2.389680\n",
       "Credit_History      -1.310835\n",
       "dtype: float64"
      ]
     },
     "execution_count": 215,
     "metadata": {},
     "output_type": "execute_result"
    }
   ],
   "source": [
    "#lets chcek the skewness\n",
    "df_x.skew()"
   ]
  },
  {
   "cell_type": "code",
   "execution_count": 216,
   "metadata": {},
   "outputs": [
    {
     "data": {
      "text/plain": [
       "Gender               float64\n",
       "Married              float64\n",
       "Dependents           float64\n",
       "Education             object\n",
       "Self_Employed        float64\n",
       "ApplicantIncome      float64\n",
       "CoapplicantIncome    float64\n",
       "LoanAmount           float64\n",
       "Loan_Amount_Term     float64\n",
       "Credit_History       float64\n",
       "Property_Area         object\n",
       "dtype: object"
      ]
     },
     "execution_count": 216,
     "metadata": {},
     "output_type": "execute_result"
    }
   ],
   "source": [
    "#Lets chcek the datatypes in input dataset\n",
    "df_x.dtypes"
   ]
  },
  {
   "cell_type": "code",
   "execution_count": 217,
   "metadata": {},
   "outputs": [],
   "source": [
    "df_x=pd.get_dummies(df_x,drop_first=True)"
   ]
  },
  {
   "cell_type": "code",
   "execution_count": 218,
   "metadata": {},
   "outputs": [
    {
     "data": {
      "text/plain": [
       "(614, 12)"
      ]
     },
     "execution_count": 218,
     "metadata": {},
     "output_type": "execute_result"
    }
   ],
   "source": [
    "#Lets chcek the shape\n",
    "df_x.shape"
   ]
  },
  {
   "cell_type": "code",
   "execution_count": 219,
   "metadata": {},
   "outputs": [],
   "source": [
    "#lets bring all features to a common scale using\n",
    "from sklearn.preprocessing import StandardScaler\n",
    "sc=StandardScaler()\n",
    "sc.fit(df_x)\n",
    "x=sc.transform(df_x)\n",
    "x=pd.DataFrame(x,columns=df_x.columns)"
   ]
  },
  {
   "cell_type": "code",
   "execution_count": 220,
   "metadata": {},
   "outputs": [
    {
     "data": {
      "text/plain": [
       "array([1, 0, 1, 1, 1, 1, 1, 0, 1, 0, 1, 1, 1, 0, 1, 1, 1, 0, 0, 1, 0, 1,\n",
       "       0, 0, 0, 1, 1, 1, 0, 1, 0, 0, 0, 1, 0, 1, 0, 1, 1, 1, 0, 1, 1, 1,\n",
       "       1, 1, 1, 1, 0, 1, 1, 1, 0, 0, 0, 1, 1, 0, 1, 1, 1, 1, 0, 0, 0, 0,\n",
       "       0, 1, 1, 0, 1, 1, 1, 0, 1, 0, 0, 0, 0, 1, 1, 1, 0, 0, 1, 1, 1, 1,\n",
       "       1, 1, 1, 1, 1, 1, 1, 0, 1, 1, 1, 1, 1, 1, 1, 1, 1, 1, 1, 0, 0, 1,\n",
       "       1, 1, 0, 1, 1, 1, 1, 1, 0, 1, 1, 1, 1, 1, 1, 1, 1, 1, 0, 0, 1, 1,\n",
       "       1, 1, 1, 0, 0, 1, 0, 0, 0, 1, 1, 1, 1, 1, 1, 1, 0, 1, 0, 1, 0, 0,\n",
       "       1, 1, 1, 1, 1, 1, 1, 0, 0, 1, 1, 1, 0, 1, 0, 1, 1, 1, 0, 1, 0, 1,\n",
       "       1, 0, 1, 0, 0, 0, 1, 0, 1, 1, 0, 1, 1, 1, 1, 0, 0, 1, 1, 0, 1, 1,\n",
       "       1, 0, 1, 1, 0, 1, 1, 1, 1, 1, 1, 0, 0, 0, 1, 1, 1, 1, 0, 1, 0, 1,\n",
       "       0, 1, 1, 1, 1, 0, 0, 1, 1, 1, 1, 1, 1, 1, 1, 1, 0, 1, 1, 1, 1, 0,\n",
       "       1, 1, 1, 0, 1, 1, 1, 1, 0, 0, 1, 1, 0, 1, 0, 0, 0, 0, 1, 1, 0, 1,\n",
       "       1, 1, 1, 1, 0, 1, 1, 1, 1, 1, 1, 1, 1, 1, 1, 1, 0, 1, 1, 1, 0, 1,\n",
       "       0, 1, 1, 1, 1, 0, 1, 0, 1, 1, 1, 1, 0, 0, 0, 1, 1, 1, 1, 0, 1, 0,\n",
       "       0, 1, 1, 1, 1, 1, 0, 1, 1, 1, 1, 0, 1, 1, 1, 1, 1, 0, 1, 1, 0, 1,\n",
       "       1, 1, 1, 1, 1, 1, 1, 1, 0, 1, 0, 0, 1, 1, 1, 1, 0, 1, 1, 1, 1, 0,\n",
       "       1, 0, 1, 1, 1, 0, 0, 1, 0, 1, 1, 1, 1, 0, 0, 0, 1, 0, 1, 1, 1, 0,\n",
       "       1, 1, 1, 1, 0, 1, 1, 1, 1, 1, 0, 1, 1, 0, 1, 1, 1, 1, 1, 1, 1, 1,\n",
       "       0, 1, 1, 0, 0, 0, 1, 1, 0, 1, 1, 1, 0, 0, 0, 1, 0, 1, 0, 1, 0, 0,\n",
       "       1, 1, 1, 0, 1, 0, 1, 1, 0, 1, 1, 1, 1, 0, 1, 1, 1, 1, 1, 1, 0, 1,\n",
       "       1, 1, 1, 1, 1, 1, 1, 0, 0, 0, 0, 1, 0, 1, 1, 1, 1, 0, 1, 0, 1, 1,\n",
       "       1, 1, 0, 1, 0, 1, 1, 0, 1, 0, 1, 1, 1, 1, 1, 0, 1, 0, 1, 1, 1, 1,\n",
       "       1, 1, 0, 0, 1, 0, 1, 1, 1, 1, 0, 1, 1, 1, 1, 0, 1, 1, 1, 0, 1, 1,\n",
       "       1, 0, 1, 1, 0, 1, 1, 0, 0, 1, 1, 0, 0, 0, 1, 1, 1, 1, 0, 1, 1, 1,\n",
       "       1, 1, 1, 1, 0, 0, 1, 1, 1, 1, 0, 1, 1, 0, 1, 1, 1, 1, 0, 1, 0, 1,\n",
       "       0, 1, 1, 0, 0, 1, 1, 1, 1, 1, 1, 1, 1, 1, 0, 1, 1, 0, 0, 0, 1, 0,\n",
       "       1, 0, 0, 1, 0, 1, 1, 1, 1, 0, 1, 0, 0, 0, 1, 1, 1, 0, 1, 0, 1, 1,\n",
       "       1, 1, 0, 0, 1, 1, 0, 1, 1, 1, 1, 0, 1, 1, 1, 1, 1, 1, 1, 0])"
      ]
     },
     "execution_count": 220,
     "metadata": {},
     "output_type": "execute_result"
    }
   ],
   "source": [
    "#lets use labelencoder to convert target class into integers\n",
    "from sklearn.preprocessing import LabelEncoder\n",
    "le=LabelEncoder()\n",
    "le.fit(y)\n",
    "y=le.transform(y)\n",
    "y"
   ]
  },
  {
   "cell_type": "code",
   "execution_count": 221,
   "metadata": {},
   "outputs": [],
   "source": [
    "#since it is imbalanced dataset so we will focus on auc-roc score\n",
    "from imblearn.over_sampling import SMOTE\n",
    "from sklearn.metrics import roc_auc_score\n",
    "from sklearn.model_selection import train_test_split\n",
    "def max_aucroc_score(clf,df_x,y):\n",
    "    max_aucroc_score=0\n",
    "    for r_state in range(42,100):\n",
    "        x_train, x_test, y_train, y_test = train_test_split(df_x, y,random_state = r_state,test_size=0.20,stratify=y)\n",
    "        x_train, y_train = SMOTE().fit_sample(x_train, y_train)\n",
    "        clf.fit(x_train,y_train)\n",
    "        y_pred = clf.predict(x_test)\n",
    "        aucroc_scr=roc_auc_score(y_test,y_pred)\n",
    "        print(\"auc roc score corresponding to \",r_state,\" is \",aucroc_scr)\n",
    "        if aucroc_scr>max_aucroc_score:\n",
    "            max_aucroc_score=aucroc_scr\n",
    "            final_r_state=r_state\n",
    "    print(\"max auc roc score corresponding to \",final_r_state,\" is \",max_aucroc_score)\n",
    "    return final_r_state"
   ]
  },
  {
   "cell_type": "code",
   "execution_count": 222,
   "metadata": {},
   "outputs": [
    {
     "name": "stdout",
     "output_type": "stream",
     "text": [
      "auc roc score corresponding to  42  is  0.7348297213622291\n",
      "auc roc score corresponding to  43  is  0.7306501547987616\n",
      "auc roc score corresponding to  44  is  0.6662538699690402\n",
      "auc roc score corresponding to  45  is  0.7026315789473685\n",
      "auc roc score corresponding to  46  is  0.6852941176470588\n",
      "auc roc score corresponding to  47  is  0.6777089783281733\n",
      "auc roc score corresponding to  48  is  0.6676470588235295\n",
      "auc roc score corresponding to  49  is  0.7421052631578948\n",
      "auc roc score corresponding to  50  is  0.6791021671826625\n",
      "auc roc score corresponding to  51  is  0.6877708978328174\n",
      "auc roc score corresponding to  52  is  0.7157894736842105\n",
      "auc roc score corresponding to  53  is  0.7085139318885448\n",
      "auc roc score corresponding to  54  is  0.6676470588235295\n",
      "auc roc score corresponding to  55  is  0.7407120743034056\n",
      "auc roc score corresponding to  56  is  0.6001547987616098\n",
      "auc roc score corresponding to  57  is  0.6749226006191951\n",
      "auc roc score corresponding to  58  is  0.6309597523219814\n",
      "auc roc score corresponding to  59  is  0.6763157894736842\n",
      "auc roc score corresponding to  60  is  0.7303405572755417\n",
      "auc roc score corresponding to  61  is  0.6060371517027863\n",
      "auc roc score corresponding to  62  is  0.7452012383900928\n",
      "auc roc score corresponding to  63  is  0.7026315789473685\n",
      "auc roc score corresponding to  64  is  0.7143962848297213\n",
      "auc roc score corresponding to  65  is  0.7012383900928792\n",
      "auc roc score corresponding to  66  is  0.681888544891641\n",
      "auc roc score corresponding to  67  is  0.6821981424148607\n",
      "auc roc score corresponding to  68  is  0.6396284829721363\n",
      "auc roc score corresponding to  69  is  0.6894736842105263\n",
      "auc roc score corresponding to  70  is  0.7157894736842105\n",
      "auc roc score corresponding to  71  is  0.6866873065015481\n",
      "auc roc score corresponding to  72  is  0.7085139318885448\n",
      "auc roc score corresponding to  73  is  0.625077399380805\n",
      "auc roc score corresponding to  74  is  0.6732198142414861\n",
      "auc roc score corresponding to  75  is  0.6908668730650155\n",
      "auc roc score corresponding to  76  is  0.7376160990712075\n",
      "auc roc score corresponding to  77  is  0.781578947368421\n",
      "auc roc score corresponding to  78  is  0.6603715170278638\n",
      "auc roc score corresponding to  79  is  0.723374613003096\n",
      "auc roc score corresponding to  80  is  0.7113003095975232\n",
      "auc roc score corresponding to  81  is  0.7130030959752323\n",
      "auc roc score corresponding to  82  is  0.65\n",
      "auc roc score corresponding to  83  is  0.7185758513931888\n",
      "auc roc score corresponding to  84  is  0.6925696594427245\n",
      "auc roc score corresponding to  85  is  0.6617647058823529\n",
      "auc roc score corresponding to  86  is  0.7023219814241486\n",
      "auc roc score corresponding to  87  is  0.6323529411764706\n",
      "auc roc score corresponding to  88  is  0.7773993808049535\n",
      "auc roc score corresponding to  89  is  0.6306501547987616\n",
      "auc roc score corresponding to  90  is  0.6911764705882353\n",
      "auc roc score corresponding to  91  is  0.7026315789473685\n",
      "auc roc score corresponding to  92  is  0.7202786377708978\n",
      "auc roc score corresponding to  93  is  0.6908668730650155\n",
      "auc roc score corresponding to  94  is  0.6911764705882353\n",
      "auc roc score corresponding to  95  is  0.6880804953560371\n",
      "auc roc score corresponding to  96  is  0.7157894736842105\n",
      "auc roc score corresponding to  97  is  0.6617647058823529\n",
      "auc roc score corresponding to  98  is  0.6396284829721363\n",
      "auc roc score corresponding to  99  is  0.7465944272445821\n",
      "max auc roc score corresponding to  77  is  0.781578947368421\n"
     ]
    },
    {
     "data": {
      "text/plain": [
       "77"
      ]
     },
     "execution_count": 222,
     "metadata": {},
     "output_type": "execute_result"
    }
   ],
   "source": [
    "#Lets use logistic regression and check\n",
    "from sklearn.linear_model import LogisticRegression\n",
    "import warnings\n",
    "warnings.filterwarnings(\"ignore\")\n",
    "lg_clf=LogisticRegression()\n",
    "max_aucroc_score(lg_clf,x,y)"
   ]
  },
  {
   "cell_type": "code",
   "execution_count": 223,
   "metadata": {},
   "outputs": [
    {
     "name": "stdout",
     "output_type": "stream",
     "text": [
      "auc roc score corresponding to  42  is  0.6147058823529412\n",
      "auc roc score corresponding to  43  is  0.6060371517027863\n",
      "auc roc score corresponding to  44  is  0.625077399380805\n",
      "auc roc score corresponding to  45  is  0.5925696594427246\n",
      "auc roc score corresponding to  46  is  0.6732198142414861\n",
      "auc roc score corresponding to  47  is  0.5811145510835913\n",
      "auc roc score corresponding to  48  is  0.6309597523219814\n",
      "auc roc score corresponding to  49  is  0.6746130030959752\n",
      "auc roc score corresponding to  50  is  0.6410216718266253\n",
      "auc roc score corresponding to  51  is  0.6863777089783282\n",
      "auc roc score corresponding to  52  is  0.6821981424148607\n",
      "auc roc score corresponding to  53  is  0.6337461300309598\n",
      "auc roc score corresponding to  54  is  0.6309597523219814\n",
      "auc roc score corresponding to  55  is  0.6510835913312693\n",
      "auc roc score corresponding to  56  is  0.6015479876160991\n",
      "auc roc score corresponding to  57  is  0.6043343653250774\n",
      "auc roc score corresponding to  58  is  0.5797213622291021\n",
      "auc roc score corresponding to  59  is  0.6337461300309598\n",
      "auc roc score corresponding to  60  is  0.6205882352941177\n",
      "auc roc score corresponding to  61  is  0.576625386996904\n",
      "auc roc score corresponding to  62  is  0.6527863777089783\n",
      "auc roc score corresponding to  63  is  0.5735294117647058\n",
      "auc roc score corresponding to  64  is  0.6513931888544893\n",
      "auc roc score corresponding to  65  is  0.6060371517027863\n",
      "auc roc score corresponding to  66  is  0.6541795665634675\n",
      "auc roc score corresponding to  67  is  0.5897832817337462\n",
      "auc roc score corresponding to  68  is  0.6555727554179567\n",
      "auc roc score corresponding to  69  is  0.6071207430340557\n",
      "auc roc score corresponding to  70  is  0.5253869969040248\n",
      "auc roc score corresponding to  71  is  0.6541795665634675\n",
      "auc roc score corresponding to  72  is  0.6337461300309598\n",
      "auc roc score corresponding to  73  is  0.5752321981424149\n",
      "auc roc score corresponding to  74  is  0.6469040247678018\n",
      "auc roc score corresponding to  75  is  0.7213622291021673\n",
      "auc roc score corresponding to  76  is  0.6396284829721363\n",
      "auc roc score corresponding to  77  is  0.5486068111455108\n",
      "auc roc score corresponding to  78  is  0.6015479876160991\n",
      "auc roc score corresponding to  79  is  0.6482972136222911\n",
      "auc roc score corresponding to  80  is  0.5811145510835913\n",
      "auc roc score corresponding to  81  is  0.6337461300309598\n",
      "auc roc score corresponding to  82  is  0.6527863777089783\n",
      "auc roc score corresponding to  83  is  0.6586687306501546\n",
      "auc roc score corresponding to  84  is  0.65\n",
      "auc roc score corresponding to  85  is  0.6261609907120743\n",
      "auc roc score corresponding to  86  is  0.670123839009288\n",
      "auc roc score corresponding to  87  is  0.5236842105263158\n",
      "auc roc score corresponding to  88  is  0.6205882352941177\n",
      "auc roc score corresponding to  89  is  0.6808049535603716\n",
      "auc roc score corresponding to  90  is  0.6835913312693498\n",
      "auc roc score corresponding to  91  is  0.5721362229102167\n",
      "auc roc score corresponding to  92  is  0.5212074303405573\n",
      "auc roc score corresponding to  93  is  0.6088235294117648\n",
      "auc roc score corresponding to  94  is  0.5402476780185759\n",
      "auc roc score corresponding to  95  is  0.6732198142414861\n",
      "auc roc score corresponding to  96  is  0.6043343653250774\n",
      "auc roc score corresponding to  97  is  0.625077399380805\n",
      "auc roc score corresponding to  98  is  0.5883900928792569\n",
      "auc roc score corresponding to  99  is  0.5357585139318886\n",
      "max auc roc score corresponding to  75  is  0.7213622291021673\n"
     ]
    },
    {
     "data": {
      "text/plain": [
       "75"
      ]
     },
     "execution_count": 223,
     "metadata": {},
     "output_type": "execute_result"
    }
   ],
   "source": [
    "#lets chcek decision tree\n",
    "from sklearn.tree import DecisionTreeClassifier\n",
    "dc=DecisionTreeClassifier()\n",
    "max_aucroc_score(dc,df_x,y)"
   ]
  },
  {
   "cell_type": "code",
   "execution_count": 224,
   "metadata": {},
   "outputs": [
    {
     "data": {
      "text/plain": [
       "{'n_estimators': 500}"
      ]
     },
     "execution_count": 224,
     "metadata": {},
     "output_type": "execute_result"
    }
   ],
   "source": [
    "#lets use random forest\n",
    "from sklearn.ensemble import RandomForestClassifier\n",
    "from sklearn.model_selection import GridSearchCV\n",
    "parameters={\"n_estimators\":[10,100,500]}\n",
    "rf_clf=RandomForestClassifier()\n",
    "clf = GridSearchCV(rf_clf, parameters, cv=5,scoring=\"roc_auc\")\n",
    "clf.fit(df_x,y)\n",
    "clf.best_params_"
   ]
  },
  {
   "cell_type": "code",
   "execution_count": 242,
   "metadata": {},
   "outputs": [
    {
     "name": "stdout",
     "output_type": "stream",
     "text": [
      "auc roc score corresponding to  42  is  0.7099071207430339\n",
      "auc roc score corresponding to  43  is  0.676625386996904\n",
      "auc roc score corresponding to  44  is  0.6662538699690402\n",
      "auc roc score corresponding to  45  is  0.6105263157894737\n",
      "auc roc score corresponding to  46  is  0.6558823529411765\n",
      "auc roc score corresponding to  47  is  0.6676470588235295\n",
      "auc roc score corresponding to  48  is  0.6441176470588235\n",
      "auc roc score corresponding to  49  is  0.6735294117647059\n",
      "auc roc score corresponding to  50  is  0.6427244582043344\n",
      "auc roc score corresponding to  51  is  0.6995356037151703\n",
      "auc roc score corresponding to  52  is  0.6704334365325076\n",
      "auc roc score corresponding to  53  is  0.6939628482972137\n",
      "auc roc score corresponding to  54  is  0.6295665634674922\n",
      "auc roc score corresponding to  55  is  0.7157894736842105\n",
      "auc roc score corresponding to  56  is  0.6032507739938081\n",
      "auc roc score corresponding to  57  is  0.6558823529411765\n",
      "auc roc score corresponding to  58  is  0.6091331269349844\n",
      "auc roc score corresponding to  59  is  0.5959752321981424\n",
      "auc roc score corresponding to  60  is  0.6835913312693498\n",
      "auc roc score corresponding to  61  is  0.6354489164086687\n",
      "auc roc score corresponding to  62  is  0.6690402476780186\n",
      "auc roc score corresponding to  63  is  0.7143962848297213\n",
      "auc roc score corresponding to  64  is  0.6721362229102168\n",
      "auc roc score corresponding to  65  is  0.6617647058823529\n",
      "auc roc score corresponding to  66  is  0.6586687306501546\n",
      "auc roc score corresponding to  67  is  0.6645510835913312\n",
      "auc roc score corresponding to  68  is  0.6323529411764706\n",
      "auc roc score corresponding to  69  is  0.7407120743034056\n",
      "auc roc score corresponding to  70  is  0.6455108359133127\n",
      "auc roc score corresponding to  71  is  0.698452012383901\n",
      "auc roc score corresponding to  72  is  0.6558823529411765\n",
      "auc roc score corresponding to  73  is  0.6735294117647059\n",
      "auc roc score corresponding to  74  is  0.7071207430340558\n",
      "auc roc score corresponding to  75  is  0.6631578947368422\n",
      "auc roc score corresponding to  76  is  0.6586687306501546\n",
      "auc roc score corresponding to  77  is  0.6690402476780186\n",
      "auc roc score corresponding to  78  is  0.6558823529411765\n",
      "auc roc score corresponding to  79  is  0.6413312693498452\n",
      "auc roc score corresponding to  80  is  0.6676470588235295\n",
      "auc roc score corresponding to  81  is  0.6735294117647059\n",
      "auc roc score corresponding to  82  is  0.7043343653250774\n",
      "auc roc score corresponding to  83  is  0.7054179566563468\n",
      "auc roc score corresponding to  84  is  0.651702786377709\n",
      "auc roc score corresponding to  85  is  0.6427244582043344\n",
      "auc roc score corresponding to  86  is  0.6029411764705883\n",
      "auc roc score corresponding to  87  is  0.6544891640866873\n",
      "auc roc score corresponding to  88  is  0.7496904024767802\n",
      "auc roc score corresponding to  89  is  0.6866873065015481\n",
      "auc roc score corresponding to  90  is  0.6427244582043344\n",
      "auc roc score corresponding to  91  is  0.6749226006191951\n",
      "auc roc score corresponding to  92  is  0.6794117647058824\n",
      "auc roc score corresponding to  93  is  0.6558823529411765\n",
      "auc roc score corresponding to  94  is  0.6239938080495355\n",
      "auc roc score corresponding to  95  is  0.6178018575851393\n",
      "auc roc score corresponding to  96  is  0.6808049535603716\n",
      "auc roc score corresponding to  97  is  0.6222910216718266\n",
      "auc roc score corresponding to  98  is  0.6340557275541796\n",
      "auc roc score corresponding to  99  is  0.6676470588235295\n",
      "max auc roc score corresponding to  88  is  0.7496904024767802\n"
     ]
    },
    {
     "data": {
      "text/plain": [
       "88"
      ]
     },
     "execution_count": 242,
     "metadata": {},
     "output_type": "execute_result"
    }
   ],
   "source": [
    "rf_clf=RandomForestClassifier(n_estimators=500)\n",
    "max_aucroc_score(rf_clf,df_x,y)"
   ]
  },
  {
   "cell_type": "code",
   "execution_count": 226,
   "metadata": {},
   "outputs": [
    {
     "data": {
      "text/plain": [
       "{'n_neighbors': 23}"
      ]
     },
     "execution_count": 226,
     "metadata": {},
     "output_type": "execute_result"
    }
   ],
   "source": [
    "#Lets use KNN\n",
    "#For KNN we need to know the best value of k using grid search\n",
    "from sklearn.model_selection import GridSearchCV\n",
    "from sklearn.neighbors import KNeighborsClassifier\n",
    "import warnings\n",
    "warnings.filterwarnings(\"ignore\")\n",
    "kc=KNeighborsClassifier()\n",
    "neighbors={\"n_neighbors\":range(1,30)}\n",
    "clf = GridSearchCV(kc, neighbors, cv=5,scoring=\"roc_auc\")\n",
    "clf.fit(x,y)\n",
    "clf.best_params_"
   ]
  },
  {
   "cell_type": "code",
   "execution_count": 243,
   "metadata": {},
   "outputs": [
    {
     "name": "stdout",
     "output_type": "stream",
     "text": [
      "auc roc score corresponding to  42  is  0.7261609907120743\n",
      "auc roc score corresponding to  43  is  0.7174922600619194\n",
      "auc roc score corresponding to  44  is  0.6925696594427245\n",
      "auc roc score corresponding to  45  is  0.6160990712074305\n",
      "auc roc score corresponding to  46  is  0.6631578947368422\n",
      "auc roc score corresponding to  47  is  0.6455108359133127\n",
      "auc roc score corresponding to  48  is  0.6102167182662539\n",
      "auc roc score corresponding to  49  is  0.7143962848297213\n",
      "auc roc score corresponding to  50  is  0.7126934984520124\n",
      "auc roc score corresponding to  51  is  0.6908668730650155\n",
      "auc roc score corresponding to  52  is  0.6642414860681115\n",
      "auc roc score corresponding to  53  is  0.6656346749226005\n",
      "auc roc score corresponding to  54  is  0.6396284829721363\n",
      "auc roc score corresponding to  55  is  0.6628482972136223\n",
      "auc roc score corresponding to  56  is  0.5987616099071207\n",
      "auc roc score corresponding to  57  is  0.6863777089783282\n",
      "auc roc score corresponding to  58  is  0.5987616099071207\n",
      "auc roc score corresponding to  59  is  0.5797213622291021\n",
      "auc roc score corresponding to  60  is  0.6967492260061919\n",
      "auc roc score corresponding to  61  is  0.5942724458204334\n",
      "auc roc score corresponding to  62  is  0.6835913312693498\n",
      "auc roc score corresponding to  63  is  0.7040247678018576\n",
      "auc roc score corresponding to  64  is  0.7334365325077399\n",
      "auc roc score corresponding to  65  is  0.6320433436532507\n",
      "auc roc score corresponding to  66  is  0.6174922600619195\n",
      "auc roc score corresponding to  67  is  0.7026315789473685\n",
      "auc roc score corresponding to  68  is  0.6981424148606811\n",
      "auc roc score corresponding to  69  is  0.7244582043343653\n",
      "auc roc score corresponding to  70  is  0.6908668730650155\n",
      "auc roc score corresponding to  71  is  0.7085139318885448\n",
      "auc roc score corresponding to  72  is  0.6088235294117648\n",
      "auc roc score corresponding to  73  is  0.6410216718266253\n",
      "auc roc score corresponding to  74  is  0.6174922600619195\n",
      "auc roc score corresponding to  75  is  0.6614551083591331\n",
      "auc roc score corresponding to  76  is  0.7185758513931888\n",
      "auc roc score corresponding to  77  is  0.6877708978328174\n",
      "auc roc score corresponding to  78  is  0.6472136222910216\n",
      "auc roc score corresponding to  79  is  0.6676470588235295\n",
      "auc roc score corresponding to  80  is  0.6292569659442725\n",
      "auc roc score corresponding to  81  is  0.6424148606811146\n",
      "auc roc score corresponding to  82  is  0.6704334365325076\n",
      "auc roc score corresponding to  83  is  0.6261609907120743\n",
      "auc roc score corresponding to  84  is  0.6676470588235295\n",
      "auc roc score corresponding to  85  is  0.6527863777089783\n",
      "auc roc score corresponding to  86  is  0.6261609907120743\n",
      "auc roc score corresponding to  87  is  0.6513931888544893\n",
      "auc roc score corresponding to  88  is  0.6995356037151703\n",
      "auc roc score corresponding to  89  is  0.6981424148606811\n",
      "auc roc score corresponding to  90  is  0.6659442724458204\n",
      "auc roc score corresponding to  91  is  0.6953560371517027\n",
      "auc roc score corresponding to  92  is  0.6763157894736842\n",
      "auc roc score corresponding to  93  is  0.6673374613003096\n",
      "auc roc score corresponding to  94  is  0.6458204334365325\n",
      "auc roc score corresponding to  95  is  0.6953560371517027\n",
      "auc roc score corresponding to  96  is  0.7348297213622291\n",
      "auc roc score corresponding to  97  is  0.6178018575851393\n",
      "auc roc score corresponding to  98  is  0.6278637770897834\n",
      "auc roc score corresponding to  99  is  0.7286377708978329\n",
      "max auc roc score corresponding to  96  is  0.7348297213622291\n"
     ]
    },
    {
     "data": {
      "text/plain": [
       "96"
      ]
     },
     "execution_count": 243,
     "metadata": {},
     "output_type": "execute_result"
    }
   ],
   "source": [
    "kc=KNeighborsClassifier(n_neighbors=23)\n",
    "max_aucroc_score(kc,x,y)"
   ]
  },
  {
   "cell_type": "code",
   "execution_count": 228,
   "metadata": {},
   "outputs": [
    {
     "data": {
      "text/plain": [
       "{'C': 0.01, 'kernel': 'rbf'}"
      ]
     },
     "execution_count": 228,
     "metadata": {},
     "output_type": "execute_result"
    }
   ],
   "source": [
    "#Lets use SVM\n",
    "from sklearn.svm import SVC\n",
    "svc=SVC()\n",
    "parameters={\"kernel\":[\"linear\", \"poly\", \"rbf\"],\"C\":[0.001,0.01,0.1,1,10]}\n",
    "clf = GridSearchCV(svc, parameters, cv=5,scoring=\"roc_auc\")\n",
    "clf.fit(x,y)\n",
    "clf.best_params_"
   ]
  },
  {
   "cell_type": "code",
   "execution_count": 244,
   "metadata": {},
   "outputs": [
    {
     "name": "stdout",
     "output_type": "stream",
     "text": [
      "auc roc score corresponding to  42  is  0.6746130030959752\n",
      "auc roc score corresponding to  43  is  0.6379256965944272\n",
      "auc roc score corresponding to  44  is  0.6472136222910216\n",
      "auc roc score corresponding to  45  is  0.6922600619195046\n",
      "auc roc score corresponding to  46  is  0.6645510835913312\n",
      "auc roc score corresponding to  47  is  0.7026315789473685\n",
      "auc roc score corresponding to  48  is  0.6496904024767802\n",
      "auc roc score corresponding to  49  is  0.7037151702786378\n",
      "auc roc score corresponding to  50  is  0.6995356037151703\n",
      "auc roc score corresponding to  51  is  0.7390092879256966\n",
      "auc roc score corresponding to  52  is  0.6386996904024768\n",
      "auc roc score corresponding to  53  is  0.7171826625386997\n",
      "auc roc score corresponding to  54  is  0.6524767801857586\n",
      "auc roc score corresponding to  55  is  0.7137770897832818\n",
      "auc roc score corresponding to  56  is  0.615015479876161\n",
      "auc roc score corresponding to  57  is  0.6894736842105263\n",
      "auc roc score corresponding to  58  is  0.5452012383900928\n",
      "auc roc score corresponding to  59  is  0.6102167182662539\n",
      "auc roc score corresponding to  60  is  0.6476780185758514\n",
      "auc roc score corresponding to  61  is  0.6122291021671826\n",
      "auc roc score corresponding to  62  is  0.7185758513931888\n",
      "auc roc score corresponding to  63  is  0.6891640866873064\n",
      "auc roc score corresponding to  64  is  0.7126934984520124\n",
      "auc roc score corresponding to  65  is  0.721671826625387\n",
      "auc roc score corresponding to  66  is  0.6874613003095975\n",
      "auc roc score corresponding to  67  is  0.6261609907120743\n",
      "auc roc score corresponding to  68  is  0.6760061919504644\n",
      "auc roc score corresponding to  69  is  0.7026315789473685\n",
      "auc roc score corresponding to  70  is  0.7213622291021673\n",
      "auc roc score corresponding to  71  is  0.6544891640866873\n",
      "auc roc score corresponding to  72  is  0.6040247678018575\n",
      "auc roc score corresponding to  73  is  0.6407120743034056\n",
      "auc roc score corresponding to  74  is  0.6130030959752322\n",
      "auc roc score corresponding to  75  is  0.6572755417956657\n",
      "auc roc score corresponding to  76  is  0.7756965944272446\n",
      "auc roc score corresponding to  77  is  0.6964396284829721\n",
      "auc roc score corresponding to  78  is  0.651702786377709\n",
      "auc roc score corresponding to  79  is  0.6746130030959752\n",
      "auc roc score corresponding to  80  is  0.6611455108359133\n",
      "auc roc score corresponding to  81  is  0.7085139318885448\n",
      "auc roc score corresponding to  82  is  0.6247678018575851\n",
      "auc roc score corresponding to  83  is  0.6404024767801857\n",
      "auc roc score corresponding to  84  is  0.681888544891641\n",
      "auc roc score corresponding to  85  is  0.6455108359133127\n",
      "auc roc score corresponding to  86  is  0.708204334365325\n",
      "auc roc score corresponding to  87  is  0.6233746130030959\n",
      "auc roc score corresponding to  88  is  0.669814241486068\n",
      "auc roc score corresponding to  89  is  0.7102167182662539\n",
      "auc roc score corresponding to  90  is  0.6143962848297214\n",
      "auc roc score corresponding to  91  is  0.6967492260061919\n",
      "auc roc score corresponding to  92  is  0.6787925696594427\n",
      "auc roc score corresponding to  93  is  0.6631578947368422\n",
      "auc roc score corresponding to  94  is  0.6679566563467492\n",
      "auc roc score corresponding to  95  is  0.6603715170278638\n",
      "auc roc score corresponding to  96  is  0.7043343653250774\n",
      "auc roc score corresponding to  97  is  0.6438080495356037\n",
      "auc roc score corresponding to  98  is  0.6278637770897834\n",
      "auc roc score corresponding to  99  is  0.7465944272445821\n",
      "max auc roc score corresponding to  76  is  0.7756965944272446\n"
     ]
    },
    {
     "data": {
      "text/plain": [
       "76"
      ]
     },
     "execution_count": 244,
     "metadata": {},
     "output_type": "execute_result"
    }
   ],
   "source": [
    "svc=SVC(kernel=\"rbf\",C=0.01)\n",
    "max_aucroc_score(svc,x,y)"
   ]
  },
  {
   "cell_type": "code",
   "execution_count": 230,
   "metadata": {},
   "outputs": [
    {
     "data": {
      "text/plain": [
       "{'learning_rate': 0.1, 'n_estimators': 10}"
      ]
     },
     "execution_count": 230,
     "metadata": {},
     "output_type": "execute_result"
    }
   ],
   "source": [
    "from sklearn.ensemble import GradientBoostingClassifier\n",
    "parameters={\"learning_rate\":[0.001,0.01,0.1,1],\"n_estimators\":[10,100,500,1000]}\n",
    "gb_clf=GradientBoostingClassifier()\n",
    "clf = GridSearchCV(gb_clf, parameters, cv=5,scoring=\"roc_auc\")\n",
    "clf.fit(df_x,y)\n",
    "clf.best_params_"
   ]
  },
  {
   "cell_type": "code",
   "execution_count": 245,
   "metadata": {},
   "outputs": [
    {
     "name": "stdout",
     "output_type": "stream",
     "text": [
      "auc roc score corresponding to  42  is  0.698452012383901\n",
      "auc roc score corresponding to  43  is  0.651702786377709\n",
      "auc roc score corresponding to  44  is  0.6575851393188854\n",
      "auc roc score corresponding to  45  is  0.6780185758513932\n",
      "auc roc score corresponding to  46  is  0.6707430340557275\n",
      "auc roc score corresponding to  47  is  0.7029411764705882\n",
      "auc roc score corresponding to  48  is  0.6385448916408669\n",
      "auc roc score corresponding to  49  is  0.7393188854489163\n",
      "auc roc score corresponding to  50  is  0.6852941176470588\n",
      "auc roc score corresponding to  51  is  0.7054179566563468\n",
      "auc roc score corresponding to  52  is  0.7157894736842105\n",
      "auc roc score corresponding to  53  is  0.7365325077399381\n",
      "auc roc score corresponding to  54  is  0.664860681114551\n",
      "auc roc score corresponding to  55  is  0.7202786377708978\n",
      "auc roc score corresponding to  56  is  0.6136222910216718\n",
      "auc roc score corresponding to  57  is  0.6662538699690402\n",
      "auc roc score corresponding to  58  is  0.6032507739938081\n",
      "auc roc score corresponding to  59  is  0.6430340557275542\n",
      "auc roc score corresponding to  60  is  0.7102167182662539\n",
      "auc roc score corresponding to  61  is  0.6239938080495355\n",
      "auc roc score corresponding to  62  is  0.698452012383901\n",
      "auc roc score corresponding to  63  is  0.6970588235294117\n",
      "auc roc score corresponding to  64  is  0.7320433436532507\n",
      "auc roc score corresponding to  65  is  0.6839009287925697\n",
      "auc roc score corresponding to  66  is  0.6763157894736842\n",
      "auc roc score corresponding to  67  is  0.6530959752321981\n",
      "auc roc score corresponding to  68  is  0.6749226006191951\n",
      "auc roc score corresponding to  69  is  0.6704334365325076\n",
      "auc roc score corresponding to  70  is  0.7393188854489163\n",
      "auc roc score corresponding to  71  is  0.6575851393188854\n",
      "auc roc score corresponding to  72  is  0.6707430340557275\n",
      "auc roc score corresponding to  73  is  0.6603715170278638\n",
      "auc roc score corresponding to  74  is  0.6586687306501546\n",
      "auc roc score corresponding to  75  is  0.6662538699690402\n",
      "auc roc score corresponding to  76  is  0.7365325077399381\n",
      "auc roc score corresponding to  77  is  0.7365325077399381\n",
      "auc roc score corresponding to  78  is  0.6503095975232198\n",
      "auc roc score corresponding to  79  is  0.688390092879257\n",
      "auc roc score corresponding to  80  is  0.6956656346749226\n",
      "auc roc score corresponding to  81  is  0.6780185758513932\n",
      "auc roc score corresponding to  82  is  0.676625386996904\n",
      "auc roc score corresponding to  83  is  0.6967492260061919\n",
      "auc roc score corresponding to  84  is  0.6503095975232198\n",
      "auc roc score corresponding to  85  is  0.6603715170278638\n",
      "auc roc score corresponding to  86  is  0.7071207430340558\n",
      "auc roc score corresponding to  87  is  0.563467492260062\n",
      "auc roc score corresponding to  88  is  0.7379256965944272\n",
      "auc roc score corresponding to  89  is  0.7043343653250774\n",
      "auc roc score corresponding to  90  is  0.6721362229102168\n",
      "auc roc score corresponding to  91  is  0.6780185758513932\n",
      "auc roc score corresponding to  92  is  0.7130030959752323\n",
      "auc roc score corresponding to  93  is  0.6821981424148607\n",
      "auc roc score corresponding to  94  is  0.66656346749226\n",
      "auc roc score corresponding to  95  is  0.676625386996904\n",
      "auc roc score corresponding to  96  is  0.7102167182662539\n",
      "auc roc score corresponding to  97  is  0.6236842105263158\n",
      "auc roc score corresponding to  98  is  0.6634674922600619\n",
      "auc roc score corresponding to  99  is  0.7452012383900928\n",
      "max auc roc score corresponding to  99  is  0.7452012383900928\n"
     ]
    },
    {
     "data": {
      "text/plain": [
       "99"
      ]
     },
     "execution_count": 245,
     "metadata": {},
     "output_type": "execute_result"
    }
   ],
   "source": [
    "gb_clf=GradientBoostingClassifier(learning_rate=0.1,n_estimators=10)\n",
    "max_aucroc_score(gb_clf,df_x,y)"
   ]
  },
  {
   "cell_type": "code",
   "execution_count": 232,
   "metadata": {},
   "outputs": [
    {
     "name": "stdout",
     "output_type": "stream",
     "text": [
      "auc roc score corresponding to  42  is  0.6188854489164086\n",
      "auc roc score corresponding to  43  is  0.6032507739938081\n",
      "auc roc score corresponding to  44  is  0.6205882352941177\n",
      "auc roc score corresponding to  45  is  0.6278637770897834\n",
      "auc roc score corresponding to  46  is  0.6687306501547987\n",
      "auc roc score corresponding to  47  is  0.6074303405572756\n",
      "auc roc score corresponding to  48  is  0.6441176470588235\n",
      "auc roc score corresponding to  49  is  0.6877708978328174\n",
      "auc roc score corresponding to  50  is  0.6877708978328174\n",
      "auc roc score corresponding to  51  is  0.6749226006191951\n",
      "auc roc score corresponding to  52  is  0.6292569659442725\n",
      "auc roc score corresponding to  53  is  0.5530959752321981\n",
      "auc roc score corresponding to  54  is  0.6496904024767802\n",
      "auc roc score corresponding to  55  is  0.6482972136222911\n",
      "auc roc score corresponding to  56  is  0.5530959752321981\n",
      "auc roc score corresponding to  57  is  0.5752321981424149\n",
      "auc roc score corresponding to  58  is  0.6060371517027863\n",
      "auc roc score corresponding to  59  is  0.5371517027863778\n",
      "auc roc score corresponding to  60  is  0.5458204334365324\n",
      "auc roc score corresponding to  61  is  0.5534055727554179\n",
      "auc roc score corresponding to  62  is  0.6558823529411765\n",
      "auc roc score corresponding to  63  is  0.5811145510835913\n",
      "auc roc score corresponding to  64  is  0.7099071207430339\n",
      "auc roc score corresponding to  65  is  0.6995356037151703\n",
      "auc roc score corresponding to  66  is  0.5181114551083591\n",
      "auc roc score corresponding to  67  is  0.6029411764705883\n",
      "auc roc score corresponding to  68  is  0.6821981424148607\n",
      "auc roc score corresponding to  69  is  0.670123839009288\n",
      "auc roc score corresponding to  70  is  0.5267801857585139\n",
      "auc roc score corresponding to  71  is  0.6323529411764706\n",
      "auc roc score corresponding to  72  is  0.56656346749226\n",
      "auc roc score corresponding to  73  is  0.5852941176470587\n",
      "auc roc score corresponding to  74  is  0.638235294117647\n",
      "auc roc score corresponding to  75  is  0.6628482972136223\n",
      "auc roc score corresponding to  76  is  0.6410216718266253\n",
      "auc roc score corresponding to  77  is  0.5942724458204334\n",
      "auc roc score corresponding to  78  is  0.6718266253869969\n",
      "auc roc score corresponding to  79  is  0.6718266253869969\n",
      "auc roc score corresponding to  80  is  0.5869969040247678\n",
      "auc roc score corresponding to  81  is  0.6029411764705883\n",
      "auc roc score corresponding to  82  is  0.6455108359133127\n",
      "auc roc score corresponding to  83  is  0.6541795665634675\n",
      "auc roc score corresponding to  84  is  0.528482972136223\n",
      "auc roc score corresponding to  85  is  0.6292569659442725\n",
      "auc roc score corresponding to  86  is  0.588080495356037\n",
      "auc roc score corresponding to  87  is  0.490092879256966\n",
      "auc roc score corresponding to  88  is  0.5561919504643963\n",
      "auc roc score corresponding to  89  is  0.6233746130030959\n",
      "auc roc score corresponding to  90  is  0.5547987616099072\n",
      "auc roc score corresponding to  91  is  0.5721362229102167\n",
      "auc roc score corresponding to  92  is  0.5797213622291021\n",
      "auc roc score corresponding to  93  is  0.6205882352941177\n",
      "auc roc score corresponding to  94  is  0.578328173374613\n",
      "auc roc score corresponding to  95  is  0.5239938080495357\n",
      "auc roc score corresponding to  96  is  0.6482972136222911\n",
      "auc roc score corresponding to  97  is  0.5973684210526315\n",
      "auc roc score corresponding to  98  is  0.5842105263157895\n",
      "auc roc score corresponding to  99  is  0.6469040247678018\n",
      "max auc roc score corresponding to  64  is  0.7099071207430339\n"
     ]
    },
    {
     "data": {
      "text/plain": [
       "64"
      ]
     },
     "execution_count": 232,
     "metadata": {},
     "output_type": "execute_result"
    }
   ],
   "source": [
    "#Lets use ada boosting using decision tree as an estimator\n",
    "from sklearn.ensemble import AdaBoostClassifier\n",
    "#parameters={\"base_estimator\":[dc,lg_clf,svc],\"learning_rate\":[0.001,0.01,0.1,1],\"n_estimators\":[10,100,500,1000]}\n",
    "ada_clf=AdaBoostClassifier(base_estimator=dc)\n",
    "max_aucroc_score(ada_clf,df_x,y)"
   ]
  },
  {
   "cell_type": "code",
   "execution_count": 246,
   "metadata": {},
   "outputs": [
    {
     "name": "stdout",
     "output_type": "stream",
     "text": [
      "Mean roc auc score for logistic classifier:  0.7509795794161119\n",
      "standard deviation in roc auc score for logistic classifier:  0.046172392920942044\n",
      "[0.82631579 0.7130031  0.72863248 0.78174603 0.7052005 ]\n"
     ]
    }
   ],
   "source": [
    "#lets use cross_val_score for logistic regression\n",
    "from sklearn.model_selection import cross_val_score\n",
    "print(\"Mean roc auc score for logistic classifier: \",cross_val_score(lg_clf,x,y,cv=5,scoring=\"roc_auc\").mean())\n",
    "print(\"standard deviation in roc auc score for logistic classifier: \",cross_val_score(lg_clf,x,y,cv=5,scoring=\"roc_auc\").std())\n",
    "print(cross_val_score(lg_clf,x,y,cv=5,scoring=\"roc_auc\"))"
   ]
  },
  {
   "cell_type": "code",
   "execution_count": 247,
   "metadata": {},
   "outputs": [
    {
     "name": "stdout",
     "output_type": "stream",
     "text": [
      "Mean auc roc score for decision tree classifier:  0.6245120720352919\n",
      "standard deviation in auc roc score for decision tree classifier:  0.026758671426415307\n",
      "[0.5869969  0.5869969  0.65201465 0.63507326 0.60119048]\n"
     ]
    }
   ],
   "source": [
    "#lets use cross_val_score for decision tree\n",
    "print(\"Mean auc roc score for decision tree classifier: \",cross_val_score(dc,df_x,y,cv=5,scoring=\"roc_auc\").mean())\n",
    "print(\"standard deviation in auc roc score for decision tree classifier: \",cross_val_score(dc,df_x,y,cv=5,scoring=\"roc_auc\").std())\n",
    "print(cross_val_score(dc,df_x,y,cv=5,scoring=\"roc_auc\"))"
   ]
  },
  {
   "cell_type": "code",
   "execution_count": 248,
   "metadata": {},
   "outputs": [
    {
     "name": "stdout",
     "output_type": "stream",
     "text": [
      "Mean auc roc score for random forest classifier:  0.7345360100855457\n",
      "standard deviation in auc roc score for random forest classifier:  0.03941250594886893\n",
      "[0.77043344 0.66934985 0.74710012 0.75503663 0.72227444]\n"
     ]
    }
   ],
   "source": [
    "#lets check cross_val_score for random forest\n",
    "print(\"Mean auc roc score for random forest classifier: \",cross_val_score(rf_clf,df_x,y,cv=5,scoring=\"roc_auc\").mean())\n",
    "print(\"standard deviation in auc roc score for random forest classifier: \",cross_val_score(rf_clf,df_x,y,cv=5,scoring=\"roc_auc\").std())\n",
    "print(cross_val_score(rf_clf,df_x,y,cv=5,scoring=\"roc_auc\"))"
   ]
  },
  {
   "cell_type": "code",
   "execution_count": 249,
   "metadata": {},
   "outputs": [
    {
     "name": "stdout",
     "output_type": "stream",
     "text": [
      "Mean roc auc score for knn classifier:  0.7305503766958875\n",
      "standard deviation in roc auc score for knn classifier:  0.029128819454003026\n",
      "[0.74458204 0.68606811 0.74389499 0.76862027 0.70958647]\n"
     ]
    }
   ],
   "source": [
    "#lets use cross_val_score for knn \n",
    "from sklearn.model_selection import cross_val_score\n",
    "print(\"Mean roc auc score for knn classifier: \",cross_val_score(kc,x,y,cv=5,scoring=\"roc_auc\").mean())\n",
    "print(\"standard deviation in roc auc score for knn classifier: \",cross_val_score(kc,x,y,cv=5,scoring=\"roc_auc\").std())\n",
    "print(cross_val_score(kc,x,y,cv=5,scoring=\"roc_auc\"))"
   ]
  },
  {
   "cell_type": "code",
   "execution_count": 250,
   "metadata": {},
   "outputs": [
    {
     "name": "stdout",
     "output_type": "stream",
     "text": [
      "Mean roc auc score for svm classifier:  0.7471069264412918\n",
      "standard deviation in roc auc score for svm classifier:  0.03058469373318205\n",
      "[0.79628483 0.7130031  0.75915751 0.7506105  0.7164787 ]\n"
     ]
    }
   ],
   "source": [
    "#lets use cross_val_score for svm\n",
    "from sklearn.model_selection import cross_val_score\n",
    "print(\"Mean roc auc score for svm classifier: \",cross_val_score(svc,x,y,cv=5,scoring=\"roc_auc\").mean())\n",
    "print(\"standard deviation in roc auc score for svm classifier: \",cross_val_score(svc,x,y,cv=5,scoring=\"roc_auc\").std())\n",
    "print(cross_val_score(svc,x,y,cv=5,scoring=\"roc_auc\"))"
   ]
  },
  {
   "cell_type": "code",
   "execution_count": 251,
   "metadata": {},
   "outputs": [
    {
     "name": "stdout",
     "output_type": "stream",
     "text": [
      "Mean auc roc score for gradient boosting classifier:  0.728746479698492\n",
      "standard deviation in auc roc score for gradient boosting classifier:  0.053990648858690746\n",
      "[0.80247678 0.64133127 0.72680098 0.7736569  0.70723684]\n"
     ]
    }
   ],
   "source": [
    "#lets check cross_val_score for gradient boosting\n",
    "print(\"Mean auc roc score for gradient boosting classifier: \",cross_val_score(gb_clf,df_x,y,cv=5,scoring=\"roc_auc\").mean())\n",
    "print(\"standard deviation in auc roc score for gradient boosting classifier: \",cross_val_score(gb_clf,df_x,y,cv=5,scoring=\"roc_auc\").std())\n",
    "print(cross_val_score(gb_clf,df_x,y,cv=5,scoring=\"roc_auc\"))"
   ]
  },
  {
   "cell_type": "code",
   "execution_count": 252,
   "metadata": {},
   "outputs": [],
   "source": [
    "# we will use Logistic Regression as our final model\n",
    "x_train, x_test, y_train, y_test = train_test_split(df_x, y,random_state = 77,test_size=0.20,stratify=y)\n",
    "x_train, y_train = SMOTE().fit_sample(x_train, y_train)\n",
    "lr_clf=LogisticRegression()\n",
    "lr_clf.fit(x_train,y_train)\n",
    "y_pred=lr_clf.predict(x_test)"
   ]
  },
  {
   "cell_type": "code",
   "execution_count": 253,
   "metadata": {},
   "outputs": [
    {
     "name": "stdout",
     "output_type": "stream",
     "text": [
      "Confusion matrix \n",
      " [[26 12]\n",
      " [15 70]]\n",
      "f1 score is :  0.8383233532934131\n",
      "classification report \n",
      "               precision    recall  f1-score   support\n",
      "\n",
      "           0       0.63      0.68      0.66        38\n",
      "           1       0.85      0.82      0.84        85\n",
      "\n",
      "    accuracy                           0.78       123\n",
      "   macro avg       0.74      0.75      0.75       123\n",
      "weighted avg       0.79      0.78      0.78       123\n",
      "\n",
      "AUC ROC Score:  0.7538699690402476\n"
     ]
    }
   ],
   "source": [
    "from sklearn.metrics import confusion_matrix\n",
    "from sklearn.metrics import classification_report\n",
    "from sklearn.metrics import f1_score\n",
    "from sklearn.metrics import roc_auc_score\n",
    "print(\"Confusion matrix \\n\",confusion_matrix(y_test,y_pred))\n",
    "print(\"f1 score is : \",f1_score(y_test,y_pred))\n",
    "print(\"classification report \\n\",classification_report(y_test,y_pred))\n",
    "print(\"AUC ROC Score: \",roc_auc_score(y_test,y_pred))"
   ]
  },
  {
   "cell_type": "code",
   "execution_count": 254,
   "metadata": {},
   "outputs": [],
   "source": [
    "# save the model\n",
    "import pickle\n",
    "filename = 'loan.pkl'\n",
    "pickle.dump(svc, open(filename, 'wb'))"
   ]
  },
  {
   "cell_type": "code",
   "execution_count": null,
   "metadata": {},
   "outputs": [],
   "source": []
  }
 ],
 "metadata": {
  "kernelspec": {
   "display_name": "Python 3",
   "language": "python",
   "name": "python3"
  },
  "language_info": {
   "codemirror_mode": {
    "name": "ipython",
    "version": 3
   },
   "file_extension": ".py",
   "mimetype": "text/x-python",
   "name": "python",
   "nbconvert_exporter": "python",
   "pygments_lexer": "ipython3",
   "version": "3.7.6"
  }
 },
 "nbformat": 4,
 "nbformat_minor": 4
}
